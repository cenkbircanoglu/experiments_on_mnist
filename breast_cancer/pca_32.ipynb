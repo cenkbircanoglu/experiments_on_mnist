{
  "cells": [
    {
      "cell_type": "code",
      "execution_count": 1,
      "metadata": {
        "pycharm": {}
      },
      "outputs": [],
      "source": [
        "# -*- coding: utf-8 -*-\n",
        "from sklearn import *\n",
        "from sklearn.datasets import load_breast_cancer\n",
        "from sklearn.model_selection import train_test_split\n",
        "from sklearn.preprocessing import StandardScaler\n",
        "import matplotlib.pyplot as plt\n",
        "from joblib import dump, load\n",
        "from sklearn.decomposition import PCA"
      ]
    },
    {
      "cell_type": "code",
      "execution_count": 2,
      "metadata": {
        "pycharm": {}
      },
      "outputs": [],
      "source": [
        "import warnings\n",
        "warnings.filterwarnings(\u0027ignore\u0027)"
      ]
    },
    {
      "cell_type": "code",
      "execution_count": 3,
      "metadata": {
        "pycharm": {}
      },
      "outputs": [],
      "source": "X, y \u003d load_breast_cancer(return_X_y\u003dTrue)\ntransformer \u003d PCA(random_state\u003d0, n_components\u003d32)\nX \u003d transformer.fit_transform(X)"
    },
    {
      "cell_type": "code",
      "execution_count": 4,
      "metadata": {
        "pycharm": {}
      },
      "outputs": [
        {
          "data": {
            "text/plain": [
              "(70000, 32)"
            ]
          },
          "execution_count": 4,
          "metadata": {},
          "output_type": "execute_result"
        }
      ],
      "source": [
        "X.shape"
      ]
    },
    {
      "cell_type": "code",
      "execution_count": 5,
      "metadata": {
        "pycharm": {}
      },
      "outputs": [],
      "source": "X_train, X_test, y_train, y_test \u003d train_test_split(X, y, test_size\u003d0.2)"
    },
    {
      "cell_type": "code",
      "execution_count": 6,
      "metadata": {
        "pycharm": {}
      },
      "outputs": [
        {
          "name": "stdout",
          "output_type": "stream",
          "text": [
            "312 ms ± 2.22 ms per loop (mean ± std. dev. of 7 runs, 1 loop each)\n"
          ]
        },
        {
          "data": {
            "text/plain": [
              "0.337"
            ]
          },
          "execution_count": 6,
          "metadata": {},
          "output_type": "execute_result"
        }
      ],
      "source": [
        "clf \u003d ensemble.AdaBoostClassifier()\n",
        "%timeit clf.fit(X_train, y_train)\n",
        "clf.score(X_test, y_test)"
      ]
    },
    {
      "cell_type": "code",
      "execution_count": 7,
      "metadata": {
        "pycharm": {}
      },
      "outputs": [
        {
          "name": "stdout",
          "output_type": "stream",
          "text": [
            "174 ms ± 1.03 ms per loop (mean ± std. dev. of 7 runs, 10 loops each)\n"
          ]
        },
        {
          "data": {
            "text/plain": [
              "0.772"
            ]
          },
          "execution_count": 7,
          "metadata": {},
          "output_type": "execute_result"
        }
      ],
      "source": [
        "clf \u003d ensemble.BaggingClassifier()\n",
        "%timeit clf.fit(X_train, y_train)\n",
        "clf.score(X_test, y_test)"
      ]
    },
    {
      "cell_type": "code",
      "execution_count": 8,
      "metadata": {
        "pycharm": {}
      },
      "outputs": [
        {
          "name": "stdout",
          "output_type": "stream",
          "text": [
            "19.4 ms ± 1.5 ms per loop (mean ± std. dev. of 7 runs, 100 loops each)\n"
          ]
        },
        {
          "data": {
            "text/plain": [
              "0.757"
            ]
          },
          "execution_count": 8,
          "metadata": {},
          "output_type": "execute_result"
        }
      ],
      "source": [
        "clf \u003d ensemble.ExtraTreesClassifier()\n",
        "%timeit clf.fit(X_train, y_train)\n",
        "clf.score(X_test, y_test)"
      ]
    },
    {
      "cell_type": "code",
      "execution_count": 9,
      "metadata": {
        "pycharm": {}
      },
      "outputs": [
        {
          "name": "stdout",
          "output_type": "stream",
          "text": [
            "39.2 ms ± 324 µs per loop (mean ± std. dev. of 7 runs, 10 loops each)\n"
          ]
        },
        {
          "data": {
            "text/plain": [
              "0.763"
            ]
          },
          "execution_count": 9,
          "metadata": {},
          "output_type": "execute_result"
        }
      ],
      "source": [
        "clf \u003d ensemble.RandomForestClassifier()\n",
        "%timeit clf.fit(X_train, y_train)\n",
        "clf.score(X_test, y_test)"
      ]
    },
    {
      "cell_type": "code",
      "execution_count": 10,
      "metadata": {
        "pycharm": {}
      },
      "outputs": [],
      "source": [
        "#clf \u003d gaussian_process.GaussianProcessClassifier()\n",
        "#%timeit clf.fit(X_train, y_train)\n",
        "#dump(clf, \u0027models/GaussianProcessClassifier_pca.joblib\u0027) \n",
        "#clf.score(X_test, y_test)"
      ]
    },
    {
      "cell_type": "code",
      "execution_count": 11,
      "metadata": {
        "pycharm": {}
      },
      "outputs": [
        {
          "name": "stdout",
          "output_type": "stream",
          "text": [
            "536 ms ± 7.44 ms per loop (mean ± std. dev. of 7 runs, 1 loop each)\n"
          ]
        },
        {
          "data": {
            "text/plain": [
              "0.853"
            ]
          },
          "execution_count": 11,
          "metadata": {},
          "output_type": "execute_result"
        }
      ],
      "source": [
        "clf \u003d linear_model.LogisticRegression()\n",
        "%timeit clf.fit(X_train, y_train)\n",
        "clf.score(X_test, y_test)"
      ]
    },
    {
      "cell_type": "code",
      "execution_count": 12,
      "metadata": {
        "pycharm": {}
      },
      "outputs": [
        {
          "name": "stdout",
          "output_type": "stream",
          "text": [
            "15.6 ms ± 246 µs per loop (mean ± std. dev. of 7 runs, 100 loops each)\n"
          ]
        },
        {
          "data": {
            "text/plain": [
              "0.519"
            ]
          },
          "execution_count": 12,
          "metadata": {},
          "output_type": "execute_result"
        }
      ],
      "source": [
        "clf \u003d linear_model.PassiveAggressiveClassifier()\n",
        "%timeit clf.fit(X_train, y_train)\n",
        "clf.score(X_test, y_test)"
      ]
    },
    {
      "cell_type": "code",
      "execution_count": 13,
      "metadata": {
        "pycharm": {}
      },
      "outputs": [
        {
          "name": "stdout",
          "output_type": "stream",
          "text": [
            "5.61 ms ± 120 µs per loop (mean ± std. dev. of 7 runs, 100 loops each)\n"
          ]
        },
        {
          "data": {
            "text/plain": [
              "0.811"
            ]
          },
          "execution_count": 13,
          "metadata": {},
          "output_type": "execute_result"
        }
      ],
      "source": [
        "clf \u003d linear_model.RidgeClassifier()\n",
        "%timeit clf.fit(X_train, y_train)\n",
        "clf.score(X_test, y_test)"
      ]
    },
    {
      "cell_type": "code",
      "execution_count": 14,
      "metadata": {
        "pycharm": {}
      },
      "outputs": [
        {
          "name": "stdout",
          "output_type": "stream",
          "text": [
            "92.8 ms ± 3.77 ms per loop (mean ± std. dev. of 7 runs, 10 loops each)\n"
          ]
        },
        {
          "data": {
            "text/plain": [
              "0.465"
            ]
          },
          "execution_count": 14,
          "metadata": {},
          "output_type": "execute_result"
        }
      ],
      "source": [
        "clf \u003d linear_model.SGDClassifier()\n",
        "%timeit clf.fit(X_train, y_train)\n",
        "clf.score(X_test, y_test)"
      ]
    },
    {
      "cell_type": "code",
      "execution_count": 15,
      "metadata": {
        "pycharm": {}
      },
      "outputs": [
        {
          "name": "stdout",
          "output_type": "stream",
          "text": [
            "3.69 ms ± 29.7 µs per loop (mean ± std. dev. of 7 runs, 100 loops each)\n"
          ]
        },
        {
          "data": {
            "text/plain": [
              "0.694"
            ]
          },
          "execution_count": 15,
          "metadata": {},
          "output_type": "execute_result"
        }
      ],
      "source": [
        "clf \u003d naive_bayes.BernoulliNB()\n",
        "%timeit clf.fit(X_train, y_train)\n",
        "clf.score(X_test, y_test)"
      ]
    },
    {
      "cell_type": "code",
      "execution_count": 16,
      "metadata": {
        "pycharm": {}
      },
      "outputs": [
        {
          "name": "stdout",
          "output_type": "stream",
          "text": [
            "2.41 ms ± 12.7 µs per loop (mean ± std. dev. of 7 runs, 100 loops each)\n"
          ]
        },
        {
          "data": {
            "text/plain": [
              "0.848"
            ]
          },
          "execution_count": 16,
          "metadata": {},
          "output_type": "execute_result"
        }
      ],
      "source": [
        "clf \u003d naive_bayes.GaussianNB()\n",
        "%timeit clf.fit(X_train, y_train)\n",
        "clf.score(X_test, y_test)"
      ]
    },
    {
      "cell_type": "code",
      "execution_count": 17,
      "metadata": {
        "pycharm": {}
      },
      "outputs": [
        {
          "name": "stdout",
          "output_type": "stream",
          "text": [
            "1.64 ms ± 7.38 µs per loop (mean ± std. dev. of 7 runs, 1000 loops each)\n"
          ]
        },
        {
          "data": {
            "text/plain": [
              "0.906"
            ]
          },
          "execution_count": 17,
          "metadata": {},
          "output_type": "execute_result"
        }
      ],
      "source": [
        "clf \u003d neighbors.KNeighborsClassifier()\n",
        "%timeit clf.fit(X_train, y_train)\n",
        "clf.score(X_test, y_test)"
      ]
    },
    {
      "cell_type": "code",
      "execution_count": 18,
      "metadata": {
        "pycharm": {}
      },
      "outputs": [
        {
          "name": "stdout",
          "output_type": "stream",
          "text": [
            "1.12 ms ± 12.2 µs per loop (mean ± std. dev. of 7 runs, 1000 loops each)\n"
          ]
        },
        {
          "data": {
            "text/plain": [
              "0.8"
            ]
          },
          "execution_count": 18,
          "metadata": {},
          "output_type": "execute_result"
        }
      ],
      "source": [
        "clf \u003d neighbors.NearestCentroid()\n",
        "%timeit clf.fit(X_train, y_train)\n",
        "clf.score(X_test, y_test)"
      ]
    },
    {
      "cell_type": "code",
      "execution_count": 19,
      "metadata": {
        "pycharm": {}
      },
      "outputs": [
        {
          "name": "stdout",
          "output_type": "stream",
          "text": [
            "418 ms ± 43 ms per loop (mean ± std. dev. of 7 runs, 1 loop each)\n"
          ]
        },
        {
          "data": {
            "text/plain": [
              "0.803"
            ]
          },
          "execution_count": 19,
          "metadata": {},
          "output_type": "execute_result"
        }
      ],
      "source": [
        "clf \u003d neural_network.MLPClassifier()\n",
        "%timeit clf.fit(X_train, y_train)\n",
        "clf.score(X_test, y_test)"
      ]
    },
    {
      "cell_type": "code",
      "execution_count": 20,
      "metadata": {
        "pycharm": {}
      },
      "outputs": [
        {
          "name": "stdout",
          "output_type": "stream",
          "text": [
            "997 ms ± 8.71 ms per loop (mean ± std. dev. of 7 runs, 1 loop each)\n"
          ]
        },
        {
          "data": {
            "text/plain": [
              "0.5"
            ]
          },
          "execution_count": 20,
          "metadata": {},
          "output_type": "execute_result"
        }
      ],
      "source": [
        "clf \u003d svm.LinearSVC()\n",
        "%timeit clf.fit(X_train, y_train)\n",
        "clf.score(X_test, y_test)"
      ]
    },
    {
      "cell_type": "code",
      "execution_count": 21,
      "metadata": {
        "pycharm": {}
      },
      "outputs": [],
      "source": [
        "#clf \u003d svm.NuSVC()\n",
        "#%timeit clf.fit(X_train, y_train)\n",
        "#clf.score(X_test, y_test)"
      ]
    },
    {
      "cell_type": "code",
      "execution_count": 22,
      "metadata": {
        "pycharm": {}
      },
      "outputs": [
        {
          "name": "stdout",
          "output_type": "stream",
          "text": [
            "29.8 ms ± 129 µs per loop (mean ± std. dev. of 7 runs, 10 loops each)\n"
          ]
        },
        {
          "data": {
            "text/plain": [
              "0.659"
            ]
          },
          "execution_count": 22,
          "metadata": {},
          "output_type": "execute_result"
        }
      ],
      "source": [
        "clf \u003d tree.DecisionTreeClassifier()\n",
        "%timeit clf.fit(X_train, y_train)\n",
        "clf.score(X_test, y_test)"
      ]
    },
    {
      "cell_type": "code",
      "execution_count": 23,
      "metadata": {
        "pycharm": {}
      },
      "outputs": [
        {
          "name": "stdout",
          "output_type": "stream",
          "text": [
            "2.07 ms ± 21.8 µs per loop (mean ± std. dev. of 7 runs, 100 loops each)\n"
          ]
        },
        {
          "data": {
            "text/plain": [
              "0.504"
            ]
          },
          "execution_count": 23,
          "metadata": {},
          "output_type": "execute_result"
        }
      ],
      "source": [
        "clf \u003d tree.ExtraTreeClassifier()\n",
        "%timeit clf.fit(X_train, y_train)\n",
        "clf.score(X_test, y_test)"
      ]
    },
    {
      "cell_type": "code",
      "execution_count": 24,
      "metadata": {
        "pycharm": {}
      },
      "outputs": [
        {
          "name": "stdout",
          "output_type": "stream",
          "text": [
            "4.2 s ± 23 ms per loop (mean ± std. dev. of 7 runs, 1 loop each)\n"
          ]
        },
        {
          "data": {
            "text/plain": [
              "0.826"
            ]
          },
          "execution_count": 24,
          "metadata": {},
          "output_type": "execute_result"
        }
      ],
      "source": [
        "clf \u003d ensemble.GradientBoostingClassifier()\n",
        "%timeit clf.fit(X_train, y_train)\n",
        "clf.score(X_test, y_test)"
      ]
    },
    {
      "cell_type": "code",
      "execution_count": 25,
      "metadata": {
        "pycharm": {}
      },
      "outputs": [],
      "source": [
        "#from sklearn.experimental import enable_hist_gradient_boosting\n",
        "#clf \u003d ensemble.HistGradientBoostingClassifier()\n",
        "#%timeit clf.fit(X_train, y_train)\n",
        "#clf.score(X_test, y_test)"
      ]
    },
    {
      "cell_type": "code",
      "execution_count": null,
      "metadata": {
        "pycharm": {}
      },
      "outputs": [],
      "source": []
    },
    {
      "cell_type": "code",
      "execution_count": null,
      "metadata": {
        "pycharm": {}
      },
      "outputs": [],
      "source": []
    },
    {
      "cell_type": "code",
      "execution_count": null,
      "metadata": {
        "pycharm": {}
      },
      "outputs": [],
      "source": []
    }
  ],
  "metadata": {
    "kernelspec": {
      "display_name": "Python 3",
      "language": "python",
      "name": "python3"
    },
    "language_info": {
      "codemirror_mode": {
        "name": "ipython",
        "version": 3
      },
      "file_extension": ".py",
      "mimetype": "text/x-python",
      "name": "python",
      "nbconvert_exporter": "python",
      "pygments_lexer": "ipython3",
      "version": "3.6.3"
    }
  },
  "nbformat": 4,
  "nbformat_minor": 1
}