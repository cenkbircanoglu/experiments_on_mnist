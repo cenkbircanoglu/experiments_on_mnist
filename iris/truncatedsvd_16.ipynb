{
  "cells": [
    {
      "cell_type": "code",
      "execution_count": 1,
      "metadata": {
        "pycharm": {}
      },
      "outputs": [],
      "source": [
        "# -*- coding: utf-8 -*-\n",
        "from sklearn import *\n",
        "from sklearn.datasets import load_iris\n",
        "from sklearn.model_selection import train_test_split\n",
        "from sklearn.preprocessing import StandardScaler\n",
        "import matplotlib.pyplot as plt\n",
        "from joblib import dump, load\n",
        "from sklearn.decomposition import TruncatedSVD"
      ]
    },
    {
      "cell_type": "code",
      "execution_count": 2,
      "metadata": {
        "pycharm": {}
      },
      "outputs": [],
      "source": [
        "import warnings\n",
        "warnings.filterwarnings(\u0027ignore\u0027)"
      ]
    },
    {
      "cell_type": "code",
      "execution_count": 3,
      "metadata": {
        "pycharm": {}
      },
      "outputs": [],
      "source": "X, y \u003d load_iris(return_X_y\u003dTrue)\ntransformer \u003d TruncatedSVD(random_state\u003d0, n_components\u003d16)\nX \u003d transformer.fit_transform(X)"
    },
    {
      "cell_type": "code",
      "execution_count": 4,
      "metadata": {
        "pycharm": {}
      },
      "outputs": [
        {
          "data": {
            "text/plain": [
              "(70000, 16)"
            ]
          },
          "execution_count": 4,
          "metadata": {},
          "output_type": "execute_result"
        }
      ],
      "source": [
        "X.shape"
      ]
    },
    {
      "cell_type": "code",
      "execution_count": 5,
      "metadata": {
        "pycharm": {}
      },
      "outputs": [],
      "source": "X_train, X_test, y_train, y_test \u003d train_test_split(X, y, test_size\u003d0.2)"
    },
    {
      "cell_type": "code",
      "execution_count": 6,
      "metadata": {
        "pycharm": {}
      },
      "outputs": [
        {
          "name": "stdout",
          "output_type": "stream",
          "text": [
            "222 ms ± 3.35 ms per loop (mean ± std. dev. of 7 runs, 1 loop each)\n"
          ]
        },
        {
          "data": {
            "text/plain": [
              "0.29"
            ]
          },
          "execution_count": 6,
          "metadata": {},
          "output_type": "execute_result"
        }
      ],
      "source": [
        "clf \u003d ensemble.AdaBoostClassifier()\n",
        "%timeit clf.fit(X_train, y_train)\n",
        "clf.score(X_test, y_test)"
      ]
    },
    {
      "cell_type": "code",
      "execution_count": 7,
      "metadata": {
        "pycharm": {}
      },
      "outputs": [
        {
          "name": "stdout",
          "output_type": "stream",
          "text": [
            "94.3 ms ± 390 µs per loop (mean ± std. dev. of 7 runs, 10 loops each)\n"
          ]
        },
        {
          "data": {
            "text/plain": [
              "0.739"
            ]
          },
          "execution_count": 7,
          "metadata": {},
          "output_type": "execute_result"
        }
      ],
      "source": [
        "clf \u003d ensemble.BaggingClassifier()\n",
        "%timeit clf.fit(X_train, y_train)\n",
        "clf.score(X_test, y_test)"
      ]
    },
    {
      "cell_type": "code",
      "execution_count": 8,
      "metadata": {
        "pycharm": {}
      },
      "outputs": [
        {
          "name": "stdout",
          "output_type": "stream",
          "text": [
            "16.9 ms ± 174 µs per loop (mean ± std. dev. of 7 runs, 100 loops each)\n"
          ]
        },
        {
          "data": {
            "text/plain": [
              "0.77"
            ]
          },
          "execution_count": 8,
          "metadata": {},
          "output_type": "execute_result"
        }
      ],
      "source": [
        "clf \u003d ensemble.ExtraTreesClassifier()\n",
        "%timeit clf.fit(X_train, y_train)\n",
        "clf.score(X_test, y_test)"
      ]
    },
    {
      "cell_type": "code",
      "execution_count": 9,
      "metadata": {
        "pycharm": {}
      },
      "outputs": [
        {
          "name": "stdout",
          "output_type": "stream",
          "text": [
            "32.1 ms ± 364 µs per loop (mean ± std. dev. of 7 runs, 10 loops each)\n"
          ]
        },
        {
          "data": {
            "text/plain": [
              "0.775"
            ]
          },
          "execution_count": 9,
          "metadata": {},
          "output_type": "execute_result"
        }
      ],
      "source": [
        "clf \u003d ensemble.RandomForestClassifier()\n",
        "%timeit clf.fit(X_train, y_train)\n",
        "clf.score(X_test, y_test)"
      ]
    },
    {
      "cell_type": "code",
      "execution_count": 10,
      "metadata": {
        "pycharm": {}
      },
      "outputs": [],
      "source": [
        "#clf \u003d gaussian_process.GaussianProcessClassifier()\n",
        "#%timeit clf.fit(X_train, y_train)\n",
        "#dump(clf, \u0027models/GaussianProcessClassifier_factoranalysis.joblib\u0027) \n",
        "#clf.score(X_test, y_test)"
      ]
    },
    {
      "cell_type": "code",
      "execution_count": 11,
      "metadata": {
        "pycharm": {}
      },
      "outputs": [
        {
          "name": "stdout",
          "output_type": "stream",
          "text": [
            "23.5 ms ± 361 µs per loop (mean ± std. dev. of 7 runs, 10 loops each)\n"
          ]
        },
        {
          "data": {
            "text/plain": [
              "0.795"
            ]
          },
          "execution_count": 11,
          "metadata": {},
          "output_type": "execute_result"
        }
      ],
      "source": [
        "clf \u003d linear_model.LogisticRegression()\n",
        "%timeit clf.fit(X_train, y_train)\n",
        "clf.score(X_test, y_test)"
      ]
    },
    {
      "cell_type": "code",
      "execution_count": 12,
      "metadata": {
        "pycharm": {}
      },
      "outputs": [
        {
          "name": "stdout",
          "output_type": "stream",
          "text": [
            "10.5 ms ± 120 µs per loop (mean ± std. dev. of 7 runs, 100 loops each)\n"
          ]
        },
        {
          "data": {
            "text/plain": [
              "0.678"
            ]
          },
          "execution_count": 12,
          "metadata": {},
          "output_type": "execute_result"
        }
      ],
      "source": [
        "clf \u003d linear_model.PassiveAggressiveClassifier()\n",
        "%timeit clf.fit(X_train, y_train)\n",
        "clf.score(X_test, y_test)"
      ]
    },
    {
      "cell_type": "code",
      "execution_count": 13,
      "metadata": {
        "pycharm": {}
      },
      "outputs": [
        {
          "name": "stdout",
          "output_type": "stream",
          "text": [
            "3.99 ms ± 98.5 µs per loop (mean ± std. dev. of 7 runs, 100 loops each)\n"
          ]
        },
        {
          "data": {
            "text/plain": [
              "0.741"
            ]
          },
          "execution_count": 13,
          "metadata": {},
          "output_type": "execute_result"
        }
      ],
      "source": [
        "clf \u003d linear_model.RidgeClassifier()\n",
        "%timeit clf.fit(X_train, y_train)\n",
        "clf.score(X_test, y_test)"
      ]
    },
    {
      "cell_type": "code",
      "execution_count": 14,
      "metadata": {
        "pycharm": {}
      },
      "outputs": [
        {
          "name": "stdout",
          "output_type": "stream",
          "text": [
            "26 ms ± 728 µs per loop (mean ± std. dev. of 7 runs, 10 loops each)\n"
          ]
        },
        {
          "data": {
            "text/plain": [
              "0.766"
            ]
          },
          "execution_count": 14,
          "metadata": {},
          "output_type": "execute_result"
        }
      ],
      "source": [
        "clf \u003d linear_model.SGDClassifier()\n",
        "%timeit clf.fit(X_train, y_train)\n",
        "clf.score(X_test, y_test)"
      ]
    },
    {
      "cell_type": "code",
      "execution_count": 15,
      "metadata": {
        "pycharm": {}
      },
      "outputs": [
        {
          "name": "stdout",
          "output_type": "stream",
          "text": [
            "3.35 ms ± 59.7 µs per loop (mean ± std. dev. of 7 runs, 100 loops each)\n"
          ]
        },
        {
          "data": {
            "text/plain": [
              "0.683"
            ]
          },
          "execution_count": 15,
          "metadata": {},
          "output_type": "execute_result"
        }
      ],
      "source": [
        "clf \u003d naive_bayes.BernoulliNB()\n",
        "%timeit clf.fit(X_train, y_train)\n",
        "clf.score(X_test, y_test)"
      ]
    },
    {
      "cell_type": "code",
      "execution_count": 16,
      "metadata": {
        "pycharm": {}
      },
      "outputs": [
        {
          "name": "stdout",
          "output_type": "stream",
          "text": [
            "2.38 ms ± 57.9 µs per loop (mean ± std. dev. of 7 runs, 100 loops each)\n"
          ]
        },
        {
          "data": {
            "text/plain": [
              "0.766"
            ]
          },
          "execution_count": 16,
          "metadata": {},
          "output_type": "execute_result"
        }
      ],
      "source": [
        "clf \u003d naive_bayes.GaussianNB()\n",
        "%timeit clf.fit(X_train, y_train)\n",
        "clf.score(X_test, y_test)"
      ]
    },
    {
      "cell_type": "code",
      "execution_count": 17,
      "metadata": {
        "pycharm": {}
      },
      "outputs": [
        {
          "name": "stdout",
          "output_type": "stream",
          "text": [
            "1.47 ms ± 8.92 µs per loop (mean ± std. dev. of 7 runs, 1000 loops each)\n"
          ]
        },
        {
          "data": {
            "text/plain": [
              "0.848"
            ]
          },
          "execution_count": 17,
          "metadata": {},
          "output_type": "execute_result"
        }
      ],
      "source": [
        "clf \u003d neighbors.KNeighborsClassifier()\n",
        "%timeit clf.fit(X_train, y_train)\n",
        "clf.score(X_test, y_test)"
      ]
    },
    {
      "cell_type": "code",
      "execution_count": 18,
      "metadata": {
        "pycharm": {}
      },
      "outputs": [
        {
          "name": "stdout",
          "output_type": "stream",
          "text": [
            "1.14 ms ± 19.2 µs per loop (mean ± std. dev. of 7 runs, 1000 loops each)\n"
          ]
        },
        {
          "data": {
            "text/plain": [
              "0.74"
            ]
          },
          "execution_count": 18,
          "metadata": {},
          "output_type": "execute_result"
        }
      ],
      "source": [
        "clf \u003d neighbors.NearestCentroid()\n",
        "%timeit clf.fit(X_train, y_train)\n",
        "clf.score(X_test, y_test)"
      ]
    },
    {
      "cell_type": "code",
      "execution_count": 19,
      "metadata": {
        "pycharm": {}
      },
      "outputs": [
        {
          "name": "stdout",
          "output_type": "stream",
          "text": [
            "1.07 s ± 46.8 ms per loop (mean ± std. dev. of 7 runs, 1 loop each)\n"
          ]
        },
        {
          "data": {
            "text/plain": [
              "0.883"
            ]
          },
          "execution_count": 19,
          "metadata": {},
          "output_type": "execute_result"
        }
      ],
      "source": [
        "clf \u003d neural_network.MLPClassifier()\n",
        "%timeit clf.fit(X_train, y_train)\n",
        "clf.score(X_test, y_test)"
      ]
    },
    {
      "cell_type": "code",
      "execution_count": 20,
      "metadata": {
        "pycharm": {}
      },
      "outputs": [
        {
          "name": "stdout",
          "output_type": "stream",
          "text": [
            "162 ms ± 1.7 ms per loop (mean ± std. dev. of 7 runs, 10 loops each)\n"
          ]
        },
        {
          "data": {
            "text/plain": [
              "0.798"
            ]
          },
          "execution_count": 20,
          "metadata": {},
          "output_type": "execute_result"
        }
      ],
      "source": [
        "clf \u003d svm.LinearSVC()\n",
        "%timeit clf.fit(X_train, y_train)\n",
        "clf.score(X_test, y_test)"
      ]
    },
    {
      "cell_type": "code",
      "execution_count": 21,
      "metadata": {
        "pycharm": {}
      },
      "outputs": [],
      "source": [
        "#clf \u003d svm.NuSVC()\n",
        "#%timeit clf.fit(X_train, y_train)\n",
        "#clf.score(X_test, y_test)"
      ]
    },
    {
      "cell_type": "code",
      "execution_count": 22,
      "metadata": {
        "pycharm": {}
      },
      "outputs": [
        {
          "name": "stdout",
          "output_type": "stream",
          "text": [
            "14.6 ms ± 59.9 µs per loop (mean ± std. dev. of 7 runs, 100 loops each)\n"
          ]
        },
        {
          "data": {
            "text/plain": [
              "0.642"
            ]
          },
          "execution_count": 22,
          "metadata": {},
          "output_type": "execute_result"
        }
      ],
      "source": [
        "clf \u003d tree.DecisionTreeClassifier()\n",
        "%timeit clf.fit(X_train, y_train)\n",
        "clf.score(X_test, y_test)"
      ]
    },
    {
      "cell_type": "code",
      "execution_count": 23,
      "metadata": {
        "pycharm": {}
      },
      "outputs": [
        {
          "name": "stdout",
          "output_type": "stream",
          "text": [
            "1.88 ms ± 24.7 µs per loop (mean ± std. dev. of 7 runs, 1000 loops each)\n"
          ]
        },
        {
          "data": {
            "text/plain": [
              "0.602"
            ]
          },
          "execution_count": 23,
          "metadata": {},
          "output_type": "execute_result"
        }
      ],
      "source": [
        "clf \u003d tree.ExtraTreeClassifier()\n",
        "%timeit clf.fit(X_train, y_train)\n",
        "clf.score(X_test, y_test)"
      ]
    },
    {
      "cell_type": "code",
      "execution_count": 24,
      "metadata": {
        "pycharm": {}
      },
      "outputs": [
        {
          "name": "stdout",
          "output_type": "stream",
          "text": [
            "2.61 s ± 12.9 ms per loop (mean ± std. dev. of 7 runs, 1 loop each)\n"
          ]
        },
        {
          "data": {
            "text/plain": [
              "0.791"
            ]
          },
          "execution_count": 24,
          "metadata": {},
          "output_type": "execute_result"
        }
      ],
      "source": [
        "clf \u003d ensemble.GradientBoostingClassifier()\n",
        "%timeit clf.fit(X_train, y_train)\n",
        "clf.score(X_test, y_test)"
      ]
    },
    {
      "cell_type": "code",
      "execution_count": 25,
      "metadata": {
        "pycharm": {}
      },
      "outputs": [],
      "source": [
        "#from sklearn.experimental import enable_hist_gradient_boosting\n",
        "#clf \u003d ensemble.HistGradientBoostingClassifier()\n",
        "#%timeit clf.fit(X_train, y_train)\n",
        "#clf.score(X_test, y_test)"
      ]
    },
    {
      "cell_type": "code",
      "execution_count": null,
      "metadata": {
        "pycharm": {}
      },
      "outputs": [],
      "source": []
    },
    {
      "cell_type": "code",
      "execution_count": null,
      "metadata": {
        "pycharm": {}
      },
      "outputs": [],
      "source": []
    },
    {
      "cell_type": "code",
      "execution_count": null,
      "metadata": {
        "pycharm": {}
      },
      "outputs": [],
      "source": []
    }
  ],
  "metadata": {
    "kernelspec": {
      "display_name": "Python 3",
      "language": "python",
      "name": "python3"
    },
    "language_info": {
      "codemirror_mode": {
        "name": "ipython",
        "version": 3
      },
      "file_extension": ".py",
      "mimetype": "text/x-python",
      "name": "python",
      "nbconvert_exporter": "python",
      "pygments_lexer": "ipython3",
      "version": "3.6.3"
    }
  },
  "nbformat": 4,
  "nbformat_minor": 1
}