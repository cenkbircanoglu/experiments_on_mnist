{
  "cells": [
    {
      "cell_type": "code",
      "execution_count": null,
      "outputs": [],
      "source": "# -*- coding: utf-8 -*-\nfrom sklearn import *\nfrom sklearn.model_selection import train_test_split\nfrom sklearn.datasets import fetch_20newsgroups_vectorized\nfrom sklearn.decomposition import FactorAnalysis",
      "metadata": {
        "pycharm": {
          "metadata": false,
          "name": "#%%\n"
        }
      }
    },
    {
      "cell_type": "code",
      "execution_count": null,
      "outputs": [],
      "source": "import warnings\nwarnings.filterwarnings(\u0027ignore\u0027)",
      "metadata": {
        "pycharm": {
          "metadata": false,
          "name": "#%%\n"
        }
      }
    },
    {
      "cell_type": "code",
      "execution_count": null,
      "outputs": [],
      "source": "data \u003d fetch_20newsgroups_vectorized(subset\u003d\u0027all\u0027)\nX, y \u003d data.data, data.target\ntransformer \u003d FactorAnalysis(random_state\u003d0, n_components\u003d16)\nX \u003d transformer.fit_transform(X)",
      "metadata": {
        "pycharm": {
          "metadata": false,
          "name": "#%%\n"
        }
      }
    },
    {
      "cell_type": "code",
      "execution_count": null,
      "outputs": [],
      "source": "X.shape",
      "metadata": {
        "pycharm": {
          "metadata": false,
          "name": "#%%\n"
        }
      }
    },
    {
      "cell_type": "code",
      "execution_count": null,
      "outputs": [],
      "source": "X_train, X_test, y_train, y_test \u003d train_test_split(X, y, test_size\u003d0.2)",
      "metadata": {
        "pycharm": {
          "metadata": false,
          "name": "#%%\n"
        }
      }
    },
    {
      "cell_type": "code",
      "execution_count": null,
      "outputs": [],
      "source": "clf \u003d ensemble.AdaBoostClassifier()\n%timeit clf.fit(X_train, y_train)\nclf.score(X_test, y_test)",
      "metadata": {
        "pycharm": {
          "metadata": false,
          "name": "#%%\n"
        }
      }
    },
    {
      "cell_type": "code",
      "execution_count": null,
      "outputs": [],
      "source": "clf \u003d ensemble.BaggingClassifier()\n%timeit clf.fit(X_train, y_train)\nclf.score(X_test, y_test)",
      "metadata": {
        "pycharm": {
          "metadata": false,
          "name": "#%%\n"
        }
      }
    },
    {
      "cell_type": "code",
      "execution_count": null,
      "outputs": [],
      "source": "clf \u003d ensemble.ExtraTreesClassifier()\n%timeit clf.fit(X_train, y_train)\nclf.score(X_test, y_test)",
      "metadata": {
        "pycharm": {
          "metadata": false,
          "name": "#%%\n"
        }
      }
    },
    {
      "cell_type": "code",
      "execution_count": null,
      "outputs": [],
      "source": "clf \u003d ensemble.RandomForestClassifier()\n%timeit clf.fit(X_train, y_train)\nclf.score(X_test, y_test)",
      "metadata": {
        "pycharm": {
          "metadata": false,
          "name": "#%%\n"
        }
      }
    },
    {
      "cell_type": "code",
      "execution_count": null,
      "outputs": [],
      "source": "#clf \u003d gaussian_process.GaussianProcessClassifier()\n#%timeit clf.fit(X_train, y_train)\n#dump(clf, \u0027models/GaussianProcessClassifier_factoranalysis.joblib\u0027) \n#clf.score(X_test, y_test)",
      "metadata": {
        "pycharm": {
          "metadata": false,
          "name": "#%%\n"
        }
      }
    },
    {
      "cell_type": "code",
      "execution_count": null,
      "outputs": [],
      "source": "clf \u003d linear_model.LogisticRegression()\n%timeit clf.fit(X_train, y_train)\nclf.score(X_test, y_test)",
      "metadata": {
        "pycharm": {
          "metadata": false,
          "name": "#%%\n"
        }
      }
    },
    {
      "cell_type": "code",
      "execution_count": null,
      "outputs": [],
      "source": "clf \u003d linear_model.PassiveAggressiveClassifier()\n%timeit clf.fit(X_train, y_train)\nclf.score(X_test, y_test)",
      "metadata": {
        "pycharm": {
          "metadata": false,
          "name": "#%%\n"
        }
      }
    },
    {
      "cell_type": "code",
      "execution_count": null,
      "outputs": [],
      "source": "clf \u003d linear_model.RidgeClassifier()\n%timeit clf.fit(X_train, y_train)\nclf.score(X_test, y_test)",
      "metadata": {
        "pycharm": {
          "metadata": false,
          "name": "#%%\n"
        }
      }
    },
    {
      "cell_type": "code",
      "execution_count": null,
      "outputs": [],
      "source": "clf \u003d linear_model.SGDClassifier()\n%timeit clf.fit(X_train, y_train)\nclf.score(X_test, y_test)",
      "metadata": {
        "pycharm": {
          "metadata": false,
          "name": "#%%\n"
        }
      }
    },
    {
      "cell_type": "code",
      "execution_count": null,
      "outputs": [],
      "source": "clf \u003d naive_bayes.BernoulliNB()\n%timeit clf.fit(X_train, y_train)\nclf.score(X_test, y_test)",
      "metadata": {
        "pycharm": {
          "metadata": false,
          "name": "#%%\n"
        }
      }
    },
    {
      "cell_type": "code",
      "execution_count": null,
      "outputs": [],
      "source": "clf \u003d naive_bayes.GaussianNB()\n%timeit clf.fit(X_train, y_train)\nclf.score(X_test, y_test)",
      "metadata": {
        "pycharm": {
          "metadata": false,
          "name": "#%%\n"
        }
      }
    },
    {
      "cell_type": "code",
      "execution_count": null,
      "outputs": [],
      "source": "clf \u003d neighbors.KNeighborsClassifier()\n%timeit clf.fit(X_train, y_train)\nclf.score(X_test, y_test)",
      "metadata": {
        "pycharm": {
          "metadata": false,
          "name": "#%%\n"
        }
      }
    },
    {
      "cell_type": "code",
      "execution_count": null,
      "outputs": [],
      "source": "clf \u003d neighbors.NearestCentroid()\n%timeit clf.fit(X_train, y_train)\nclf.score(X_test, y_test)",
      "metadata": {
        "pycharm": {
          "metadata": false,
          "name": "#%%\n"
        }
      }
    },
    {
      "cell_type": "code",
      "execution_count": null,
      "outputs": [],
      "source": "clf \u003d neural_network.MLPClassifier()\n%timeit clf.fit(X_train, y_train)\nclf.score(X_test, y_test)",
      "metadata": {
        "pycharm": {
          "metadata": false,
          "name": "#%%\n"
        }
      }
    },
    {
      "cell_type": "code",
      "execution_count": null,
      "outputs": [],
      "source": "clf \u003d svm.LinearSVC()\n%timeit clf.fit(X_train, y_train)\nclf.score(X_test, y_test)",
      "metadata": {
        "pycharm": {
          "metadata": false,
          "name": "#%%\n"
        }
      }
    },
    {
      "cell_type": "code",
      "execution_count": null,
      "outputs": [],
      "source": "#clf \u003d svm.NuSVC()\n#%timeit clf.fit(X_train, y_train)\n#clf.score(X_test, y_test)",
      "metadata": {
        "pycharm": {
          "metadata": false,
          "name": "#%%\n"
        }
      }
    },
    {
      "cell_type": "code",
      "execution_count": null,
      "outputs": [],
      "source": "clf \u003d tree.DecisionTreeClassifier()\n%timeit clf.fit(X_train, y_train)\nclf.score(X_test, y_test)",
      "metadata": {
        "pycharm": {
          "metadata": false,
          "name": "#%%\n"
        }
      }
    },
    {
      "cell_type": "code",
      "execution_count": null,
      "outputs": [],
      "source": "clf \u003d tree.ExtraTreeClassifier()\n%timeit clf.fit(X_train, y_train)\nclf.score(X_test, y_test)",
      "metadata": {
        "pycharm": {
          "metadata": false,
          "name": "#%%\n"
        }
      }
    },
    {
      "cell_type": "code",
      "execution_count": null,
      "outputs": [],
      "source": "clf \u003d ensemble.GradientBoostingClassifier()\n%timeit clf.fit(X_train, y_train)\nclf.score(X_test, y_test)",
      "metadata": {
        "pycharm": {
          "metadata": false,
          "name": "#%%\n"
        }
      }
    },
    {
      "cell_type": "code",
      "execution_count": null,
      "outputs": [],
      "source": "#from sklearn.experimental import enable_hist_gradient_boosting\n#clf \u003d ensemble.HistGradientBoostingClassifier()\n#%timeit clf.fit(X_train, y_train)\n#clf.score(X_test, y_test)",
      "metadata": {
        "pycharm": {
          "metadata": false,
          "name": "#%%\n"
        }
      }
    },
    {
      "cell_type": "code",
      "execution_count": null,
      "outputs": [],
      "source": "",
      "metadata": {
        "pycharm": {
          "metadata": false,
          "name": "#%%\n"
        }
      }
    },
    {
      "cell_type": "code",
      "execution_count": null,
      "outputs": [],
      "source": "",
      "metadata": {
        "pycharm": {
          "metadata": false,
          "name": "#%%\n"
        }
      }
    },
    {
      "cell_type": "code",
      "execution_count": null,
      "outputs": [],
      "source": "",
      "metadata": {
        "pycharm": {
          "metadata": false,
          "name": "#%%\n"
        }
      }
    }
  ],
  "metadata": {
    "kernelspec": {
      "display_name": "Python 3",
      "language": "python",
      "name": "python3"
    },
    "language_info": {
      "codemirror_mode": {
        "name": "ipython",
        "version": 3
      },
      "file_extension": ".py",
      "mimetype": "text/x-python",
      "name": "python",
      "nbconvert_exporter": "python",
      "pygments_lexer": "ipython3",
      "version": "3.6.3"
    },
    "stem_cell": {
      "cell_type": "raw",
      "source": "",
      "metadata": {
        "pycharm": {
          "metadata": false
        }
      }
    }
  },
  "nbformat": 4,
  "nbformat_minor": 1
}