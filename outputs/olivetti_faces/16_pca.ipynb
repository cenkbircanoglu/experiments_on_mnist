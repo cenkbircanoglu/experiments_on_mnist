{
 "cells": [
  {
   "cell_type": "code",
   "execution_count": 1,
   "metadata": {
    "pycharm": {}
   },
   "outputs": [],
   "source": [
    "import os\n",
    "import pandas as pd\n",
    "from sklearn.model_selection import StratifiedShuffleSplit\n",
    "\n",
    "from dimensionality_reduction import reduce_dimension\n",
    "import load_database\n",
    "from algorithms import *"
   ]
  },
  {
   "cell_type": "code",
   "execution_count": 2,
   "metadata": {
    "pycharm": {}
   },
   "outputs": [],
   "source": [
    "import warnings\n",
    "warnings.filterwarnings('ignore')"
   ]
  },
  {
   "cell_type": "code",
   "execution_count": 3,
   "metadata": {
    "pycharm": {}
   },
   "outputs": [],
   "source": [
    "database_name = os.environ['DATABASE']\n",
    "n_components = int(os.environ['N_COMPONENTS'])\n",
    "dimensionality_algorithm = os.environ['DIMENSIONALITY_ALGORITHM']"
   ]
  },
  {
   "cell_type": "code",
   "execution_count": 4,
   "metadata": {},
   "outputs": [],
   "source": [
    "result_path = 'results/%s_%s_%s.csv' %(database_name, n_components, dimensionality_algorithm)"
   ]
  },
  {
   "cell_type": "code",
   "execution_count": 5,
   "metadata": {},
   "outputs": [],
   "source": [
    "X, y = load_database.load(database_name)\n",
    "X = reduce_dimension(dimensionality_algorithm, X, n_components) if n_components else X"
   ]
  },
  {
   "cell_type": "code",
   "execution_count": 6,
   "metadata": {
    "pycharm": {}
   },
   "outputs": [
    {
     "data": {
      "text/plain": [
       "(400, 16)"
      ]
     },
     "execution_count": 6,
     "metadata": {},
     "output_type": "execute_result"
    }
   ],
   "source": [
    "X.shape"
   ]
  },
  {
   "cell_type": "code",
   "execution_count": 7,
   "metadata": {},
   "outputs": [],
   "source": [
    "results = {}"
   ]
  },
  {
   "cell_type": "code",
   "execution_count": 8,
   "metadata": {
    "pycharm": {}
   },
   "outputs": [],
   "source": [
    "sss = StratifiedShuffleSplit(n_splits=1, test_size=0.2)\n",
    "for train_index, test_index in sss.split(X, y):\n",
    "    X_train, X_test = X[train_index], X[test_index]\n",
    "    y_train, y_test = y[train_index], y[test_index]"
   ]
  },
  {
   "cell_type": "code",
   "execution_count": 9,
   "metadata": {
    "pycharm": {}
   },
   "outputs": [
    {
     "name": "stdout",
     "output_type": "stream",
     "text": [
      "0.42666800000000005\n",
      "{'algorithm': 'SAMME.R', 'learning_rate': 0.1, 'n_estimators': 90}\n",
      "0.546875\n",
      "0.81875 0.5375 0.8158530440148087 0.5275595238095238\n"
     ]
    }
   ],
   "source": [
    "result = train_test(X_train, y_train, X_test, y_test, 'ada_boost')\n",
    "results.update(result)"
   ]
  },
  {
   "cell_type": "code",
   "execution_count": 10,
   "metadata": {
    "pycharm": {}
   },
   "outputs": [
    {
     "name": "stdout",
     "output_type": "stream",
     "text": [
      "0.18400499999999997\n",
      "{'bootstrap_features': 1, 'n_estimators': 45}\n",
      "0.8125\n",
      "1.0 0.8875 1.0 0.8833333333333334\n"
     ]
    }
   ],
   "source": [
    "result = train_test(X_train, y_train, X_test, y_test, 'bagging')\n",
    "results.update(result)"
   ]
  },
  {
   "cell_type": "code",
   "execution_count": 11,
   "metadata": {
    "pycharm": {}
   },
   "outputs": [
    {
     "name": "stdout",
     "output_type": "stream",
     "text": [
      "0.08345499999999983\n",
      "{'criterion': 'gini', 'n_estimators': 45, 'warm_start': 0}\n",
      "0.871875\n",
      "1.0 0.9625 1.0 0.9599999999999997\n"
     ]
    }
   ],
   "source": [
    "result = train_test(X_train, y_train, X_test, y_test, 'extra_trees')\n",
    "results.update(result)"
   ]
  },
  {
   "cell_type": "code",
   "execution_count": 12,
   "metadata": {
    "pycharm": {}
   },
   "outputs": [
    {
     "name": "stdout",
     "output_type": "stream",
     "text": [
      "0.20364199999999988\n",
      "{'criterion': 'entropy', 'n_estimators': 35, 'oob_score': 1, 'warm_start': 1}\n",
      "0.828125\n",
      "1.0 0.9 1.0 0.8966666666666665\n"
     ]
    }
   ],
   "source": [
    "result = train_test(X_train, y_train, X_test, y_test, 'random_forest')\n",
    "results.update(result)"
   ]
  },
  {
   "cell_type": "code",
   "execution_count": 13,
   "metadata": {
    "pycharm": {}
   },
   "outputs": [
    {
     "name": "stdout",
     "output_type": "stream",
     "text": [
      "1.127926\n",
      "{'C': 1.4, 'solver': 'newton-cg', 'tol': 0.0001}\n",
      "0.821875\n",
      "0.95 0.9 0.9481814831195639 0.8858333333333333\n"
     ]
    }
   ],
   "source": [
    "result = train_test(X_train, y_train, X_test, y_test, 'logistic_regression')\n",
    "results.update(result)"
   ]
  },
  {
   "cell_type": "code",
   "execution_count": 14,
   "metadata": {
    "pycharm": {}
   },
   "outputs": [
    {
     "name": "stdout",
     "output_type": "stream",
     "text": [
      "The test_size = 16 should be greater or equal to the number of classes = 40\n"
     ]
    }
   ],
   "source": [
    "result = train_test(X_train, y_train, X_test, y_test, 'passive_aggressive')\n",
    "results.update(result)"
   ]
  },
  {
   "cell_type": "code",
   "execution_count": 15,
   "metadata": {
    "pycharm": {}
   },
   "outputs": [
    {
     "name": "stdout",
     "output_type": "stream",
     "text": [
      "0.17437099999999983\n",
      "{'alpha': 1.0, 'tol': 0.0001}\n",
      "0.7625\n",
      "0.865625 0.7875 0.8432906455429675 0.7491666666666666\n"
     ]
    }
   ],
   "source": [
    "result = train_test(X_train, y_train, X_test, y_test, 'ridge')\n",
    "results.update(result)"
   ]
  },
  {
   "cell_type": "code",
   "execution_count": 16,
   "metadata": {
    "pycharm": {}
   },
   "outputs": [
    {
     "name": "stdout",
     "output_type": "stream",
     "text": [
      "0.8370429999999995\n",
      "{'alpha': 0.0011, 'loss': 'log', 'penalty': 'none', 'tol': 1.4285714285714285e-05}\n",
      "0.875\n",
      "0.978125 0.9125 0.9782655167330091 0.9075\n"
     ]
    }
   ],
   "source": [
    "result = train_test(X_train, y_train, X_test, y_test, 'sgd')\n",
    "results.update(result)"
   ]
  },
  {
   "cell_type": "code",
   "execution_count": 17,
   "metadata": {
    "pycharm": {}
   },
   "outputs": [
    {
     "name": "stdout",
     "output_type": "stream",
     "text": [
      "0.021327000000000318\n",
      "{'alpha': 0.1}\n",
      "0.025\n",
      "0.065625 0.025 0.07238095238095238 0.0012195121951219514\n"
     ]
    }
   ],
   "source": [
    "result = train_test(X_train, y_train, X_test, y_test, 'bernoulli')\n",
    "results.update(result)"
   ]
  },
  {
   "cell_type": "code",
   "execution_count": 18,
   "metadata": {
    "pycharm": {}
   },
   "outputs": [
    {
     "name": "stdout",
     "output_type": "stream",
     "text": [
      "0.022944999999999993\n",
      "{'var_smoothing': 1e-10}\n",
      "0.75625\n",
      "1.0 0.9125 1.0 0.9108333333333334\n"
     ]
    }
   ],
   "source": [
    "result = train_test(X_train, y_train, X_test, y_test, 'gaussian')\n",
    "results.update(result)"
   ]
  },
  {
   "cell_type": "code",
   "execution_count": 19,
   "metadata": {
    "pycharm": {}
   },
   "outputs": [
    {
     "name": "stdout",
     "output_type": "stream",
     "text": [
      "0.06871200000000055\n",
      "{'algorithm': 'ball_tree', 'n_neighbors': 3, 'p': 2, 'weights': 'distance'}\n",
      "0.85625\n",
      "1.0 0.95 1.0 0.9466666666666665\n"
     ]
    }
   ],
   "source": [
    "result = train_test(X_train, y_train, X_test, y_test, 'k_neighbors')\n",
    "results.update(result)"
   ]
  },
  {
   "cell_type": "code",
   "execution_count": 20,
   "metadata": {
    "pycharm": {}
   },
   "outputs": [
    {
     "name": "stdout",
     "output_type": "stream",
     "text": [
      "0.01085700000000056\n",
      "{'metric': 'euclidean'}\n",
      "0.86875\n",
      "0.959375 0.875 0.9587558356676006 0.8574999999999999\n"
     ]
    }
   ],
   "source": [
    "result = train_test(X_train, y_train, X_test, y_test, 'nearest_centroid')\n",
    "results.update(result)"
   ]
  },
  {
   "cell_type": "code",
   "execution_count": 21,
   "metadata": {
    "pycharm": {}
   },
   "outputs": [
    {
     "name": "stdout",
     "output_type": "stream",
     "text": [
      "1.0018669999999998\n",
      "{'activation': 'tanh', 'alpha': 5e-06, 'early_stopping': True, 'learning_rate': 'constant', 'solver': 'lbfgs'}\n",
      "0.8375\n",
      "1.0 0.9125 1.0 0.8908333333333334\n"
     ]
    }
   ],
   "source": [
    "result = train_test(X_train, y_train, X_test, y_test, 'mlp')\n",
    "results.update(result)"
   ]
  },
  {
   "cell_type": "code",
   "execution_count": 22,
   "metadata": {
    "pycharm": {}
   },
   "outputs": [
    {
     "name": "stdout",
     "output_type": "stream",
     "text": [
      "0.471133\n",
      "{'C': 1.4, 'multi_class': 'ovr', 'penalty': 'l2', 'tol': 0.0001}\n",
      "0.875\n",
      "0.978125 0.95 0.9779645191409898 0.9475\n"
     ]
    }
   ],
   "source": [
    "result = train_test(X_train, y_train, X_test, y_test, 'linear_svc')\n",
    "results.update(result)"
   ]
  },
  {
   "cell_type": "code",
   "execution_count": 23,
   "metadata": {
    "pycharm": {}
   },
   "outputs": [
    {
     "name": "stdout",
     "output_type": "stream",
     "text": [
      "0.018833000000000766\n",
      "{'criterion': 'gini', 'splitter': 'best'}\n",
      "0.471875\n",
      "1.0 0.55 1.0 0.506904761904762\n"
     ]
    }
   ],
   "source": [
    "result = train_test(X_train, y_train, X_test, y_test, 'decision_tree')\n",
    "results.update(result)"
   ]
  },
  {
   "cell_type": "code",
   "execution_count": 24,
   "metadata": {
    "pycharm": {}
   },
   "outputs": [
    {
     "name": "stdout",
     "output_type": "stream",
     "text": [
      "0.01731199999999955\n",
      "{'criterion': 'entropy', 'splitter': 'best'}\n",
      "0.490625\n",
      "1.0 0.5875 1.0 0.5709523809523809\n"
     ]
    }
   ],
   "source": [
    "result = train_test(X_train, y_train, X_test, y_test, 'extra_tree')\n",
    "results.update(result)"
   ]
  },
  {
   "cell_type": "code",
   "execution_count": 25,
   "metadata": {
    "pycharm": {}
   },
   "outputs": [
    {
     "name": "stdout",
     "output_type": "stream",
     "text": [
      "1.8646079999999996\n",
      "{'criterion': 'friedman_mse', 'learning_rate': 0.2, 'loss': 'deviance', 'tol': 1e-05}\n",
      "0.43125\n",
      "1.0 0.5375 1.0 0.5354761904761904\n"
     ]
    }
   ],
   "source": [
    "result = train_test(X_train, y_train, X_test, y_test, 'gradient_boosting')\n",
    "results.update(result)"
   ]
  },
  {
   "cell_type": "code",
   "execution_count": 26,
   "metadata": {
    "pycharm": {}
   },
   "outputs": [
    {
     "name": "stdout",
     "output_type": "stream",
     "text": [
      "31.362331999999995\n",
      "{'l2_regularization': 0, 'tol': 1e-08}\n",
      "0.759375\n",
      "1.0 0.8 1.0 0.7958333333333332\n"
     ]
    }
   ],
   "source": [
    "result = train_test(X_train, y_train, X_test, y_test, 'hist_gradient_boosting')\n",
    "results.update(result)"
   ]
  },
  {
   "cell_type": "code",
   "execution_count": 27,
   "metadata": {
    "pycharm": {}
   },
   "outputs": [],
   "source": [
    "df = pd.DataFrame.from_records(results)"
   ]
  },
  {
   "cell_type": "code",
   "execution_count": 28,
   "metadata": {
    "pycharm": {}
   },
   "outputs": [
    {
     "data": {
      "text/html": [
       "<div>\n",
       "<style scoped>\n",
       "    .dataframe tbody tr th:only-of-type {\n",
       "        vertical-align: middle;\n",
       "    }\n",
       "\n",
       "    .dataframe tbody tr th {\n",
       "        vertical-align: top;\n",
       "    }\n",
       "\n",
       "    .dataframe thead th {\n",
       "        text-align: right;\n",
       "    }\n",
       "</style>\n",
       "<table border=\"1\" class=\"dataframe\">\n",
       "  <thead>\n",
       "    <tr style=\"text-align: right;\">\n",
       "      <th></th>\n",
       "      <th>ada_boost</th>\n",
       "      <th>bagging</th>\n",
       "      <th>bernoulli</th>\n",
       "      <th>decision_tree</th>\n",
       "      <th>extra_tree</th>\n",
       "      <th>extra_trees</th>\n",
       "      <th>gaussian</th>\n",
       "      <th>gradient_boosting</th>\n",
       "      <th>hist_gradient_boosting</th>\n",
       "      <th>k_neighbors</th>\n",
       "      <th>linear_svc</th>\n",
       "      <th>logistic_regression</th>\n",
       "      <th>mlp</th>\n",
       "      <th>nearest_centroid</th>\n",
       "      <th>random_forest</th>\n",
       "      <th>ridge</th>\n",
       "      <th>sgd</th>\n",
       "    </tr>\n",
       "  </thead>\n",
       "  <tbody>\n",
       "    <tr>\n",
       "      <th>C</th>\n",
       "      <td>NaN</td>\n",
       "      <td>NaN</td>\n",
       "      <td>NaN</td>\n",
       "      <td>NaN</td>\n",
       "      <td>NaN</td>\n",
       "      <td>NaN</td>\n",
       "      <td>NaN</td>\n",
       "      <td>NaN</td>\n",
       "      <td>NaN</td>\n",
       "      <td>NaN</td>\n",
       "      <td>1.4</td>\n",
       "      <td>1.4</td>\n",
       "      <td>NaN</td>\n",
       "      <td>NaN</td>\n",
       "      <td>NaN</td>\n",
       "      <td>NaN</td>\n",
       "      <td>NaN</td>\n",
       "    </tr>\n",
       "    <tr>\n",
       "      <th>activation</th>\n",
       "      <td>NaN</td>\n",
       "      <td>NaN</td>\n",
       "      <td>NaN</td>\n",
       "      <td>NaN</td>\n",
       "      <td>NaN</td>\n",
       "      <td>NaN</td>\n",
       "      <td>NaN</td>\n",
       "      <td>NaN</td>\n",
       "      <td>NaN</td>\n",
       "      <td>NaN</td>\n",
       "      <td>NaN</td>\n",
       "      <td>NaN</td>\n",
       "      <td>tanh</td>\n",
       "      <td>NaN</td>\n",
       "      <td>NaN</td>\n",
       "      <td>NaN</td>\n",
       "      <td>NaN</td>\n",
       "    </tr>\n",
       "    <tr>\n",
       "      <th>algorithm</th>\n",
       "      <td>SAMME.R</td>\n",
       "      <td>NaN</td>\n",
       "      <td>NaN</td>\n",
       "      <td>NaN</td>\n",
       "      <td>NaN</td>\n",
       "      <td>NaN</td>\n",
       "      <td>NaN</td>\n",
       "      <td>NaN</td>\n",
       "      <td>NaN</td>\n",
       "      <td>ball_tree</td>\n",
       "      <td>NaN</td>\n",
       "      <td>NaN</td>\n",
       "      <td>NaN</td>\n",
       "      <td>NaN</td>\n",
       "      <td>NaN</td>\n",
       "      <td>NaN</td>\n",
       "      <td>NaN</td>\n",
       "    </tr>\n",
       "    <tr>\n",
       "      <th>alpha</th>\n",
       "      <td>NaN</td>\n",
       "      <td>NaN</td>\n",
       "      <td>0.100000</td>\n",
       "      <td>NaN</td>\n",
       "      <td>NaN</td>\n",
       "      <td>NaN</td>\n",
       "      <td>NaN</td>\n",
       "      <td>NaN</td>\n",
       "      <td>NaN</td>\n",
       "      <td>NaN</td>\n",
       "      <td>NaN</td>\n",
       "      <td>NaN</td>\n",
       "      <td>5e-06</td>\n",
       "      <td>NaN</td>\n",
       "      <td>NaN</td>\n",
       "      <td>1.000000</td>\n",
       "      <td>0.0011</td>\n",
       "    </tr>\n",
       "    <tr>\n",
       "      <th>bootstrap_features</th>\n",
       "      <td>NaN</td>\n",
       "      <td>1.000000</td>\n",
       "      <td>NaN</td>\n",
       "      <td>NaN</td>\n",
       "      <td>NaN</td>\n",
       "      <td>NaN</td>\n",
       "      <td>NaN</td>\n",
       "      <td>NaN</td>\n",
       "      <td>NaN</td>\n",
       "      <td>NaN</td>\n",
       "      <td>NaN</td>\n",
       "      <td>NaN</td>\n",
       "      <td>NaN</td>\n",
       "      <td>NaN</td>\n",
       "      <td>NaN</td>\n",
       "      <td>NaN</td>\n",
       "      <td>NaN</td>\n",
       "    </tr>\n",
       "    <tr>\n",
       "      <th>criterion</th>\n",
       "      <td>NaN</td>\n",
       "      <td>NaN</td>\n",
       "      <td>NaN</td>\n",
       "      <td>gini</td>\n",
       "      <td>entropy</td>\n",
       "      <td>gini</td>\n",
       "      <td>NaN</td>\n",
       "      <td>friedman_mse</td>\n",
       "      <td>NaN</td>\n",
       "      <td>NaN</td>\n",
       "      <td>NaN</td>\n",
       "      <td>NaN</td>\n",
       "      <td>NaN</td>\n",
       "      <td>NaN</td>\n",
       "      <td>entropy</td>\n",
       "      <td>NaN</td>\n",
       "      <td>NaN</td>\n",
       "    </tr>\n",
       "    <tr>\n",
       "      <th>early_stopping</th>\n",
       "      <td>NaN</td>\n",
       "      <td>NaN</td>\n",
       "      <td>NaN</td>\n",
       "      <td>NaN</td>\n",
       "      <td>NaN</td>\n",
       "      <td>NaN</td>\n",
       "      <td>NaN</td>\n",
       "      <td>NaN</td>\n",
       "      <td>NaN</td>\n",
       "      <td>NaN</td>\n",
       "      <td>NaN</td>\n",
       "      <td>NaN</td>\n",
       "      <td>True</td>\n",
       "      <td>NaN</td>\n",
       "      <td>NaN</td>\n",
       "      <td>NaN</td>\n",
       "      <td>NaN</td>\n",
       "    </tr>\n",
       "    <tr>\n",
       "      <th>f1_test</th>\n",
       "      <td>0.52756</td>\n",
       "      <td>0.883333</td>\n",
       "      <td>0.001220</td>\n",
       "      <td>0.506905</td>\n",
       "      <td>0.570952</td>\n",
       "      <td>0.96</td>\n",
       "      <td>9.108333e-01</td>\n",
       "      <td>0.535476</td>\n",
       "      <td>7.958333e-01</td>\n",
       "      <td>0.946667</td>\n",
       "      <td>0.9475</td>\n",
       "      <td>0.885833</td>\n",
       "      <td>0.890833</td>\n",
       "      <td>0.8575</td>\n",
       "      <td>0.896667</td>\n",
       "      <td>0.749167</td>\n",
       "      <td>0.9075</td>\n",
       "    </tr>\n",
       "    <tr>\n",
       "      <th>f1_train</th>\n",
       "      <td>0.815853</td>\n",
       "      <td>1.000000</td>\n",
       "      <td>0.072381</td>\n",
       "      <td>1</td>\n",
       "      <td>1</td>\n",
       "      <td>1</td>\n",
       "      <td>1.000000e+00</td>\n",
       "      <td>1</td>\n",
       "      <td>1.000000e+00</td>\n",
       "      <td>1</td>\n",
       "      <td>0.977965</td>\n",
       "      <td>0.948181</td>\n",
       "      <td>1</td>\n",
       "      <td>0.958756</td>\n",
       "      <td>1</td>\n",
       "      <td>0.843291</td>\n",
       "      <td>0.978266</td>\n",
       "    </tr>\n",
       "    <tr>\n",
       "      <th>l2_regularization</th>\n",
       "      <td>NaN</td>\n",
       "      <td>NaN</td>\n",
       "      <td>NaN</td>\n",
       "      <td>NaN</td>\n",
       "      <td>NaN</td>\n",
       "      <td>NaN</td>\n",
       "      <td>NaN</td>\n",
       "      <td>NaN</td>\n",
       "      <td>0.000000e+00</td>\n",
       "      <td>NaN</td>\n",
       "      <td>NaN</td>\n",
       "      <td>NaN</td>\n",
       "      <td>NaN</td>\n",
       "      <td>NaN</td>\n",
       "      <td>NaN</td>\n",
       "      <td>NaN</td>\n",
       "      <td>NaN</td>\n",
       "    </tr>\n",
       "    <tr>\n",
       "      <th>learning_rate</th>\n",
       "      <td>0.1</td>\n",
       "      <td>NaN</td>\n",
       "      <td>NaN</td>\n",
       "      <td>NaN</td>\n",
       "      <td>NaN</td>\n",
       "      <td>NaN</td>\n",
       "      <td>NaN</td>\n",
       "      <td>0.2</td>\n",
       "      <td>NaN</td>\n",
       "      <td>NaN</td>\n",
       "      <td>NaN</td>\n",
       "      <td>NaN</td>\n",
       "      <td>constant</td>\n",
       "      <td>NaN</td>\n",
       "      <td>NaN</td>\n",
       "      <td>NaN</td>\n",
       "      <td>NaN</td>\n",
       "    </tr>\n",
       "    <tr>\n",
       "      <th>loss</th>\n",
       "      <td>NaN</td>\n",
       "      <td>NaN</td>\n",
       "      <td>NaN</td>\n",
       "      <td>NaN</td>\n",
       "      <td>NaN</td>\n",
       "      <td>NaN</td>\n",
       "      <td>NaN</td>\n",
       "      <td>deviance</td>\n",
       "      <td>NaN</td>\n",
       "      <td>NaN</td>\n",
       "      <td>NaN</td>\n",
       "      <td>NaN</td>\n",
       "      <td>NaN</td>\n",
       "      <td>NaN</td>\n",
       "      <td>NaN</td>\n",
       "      <td>NaN</td>\n",
       "      <td>log</td>\n",
       "    </tr>\n",
       "    <tr>\n",
       "      <th>metric</th>\n",
       "      <td>NaN</td>\n",
       "      <td>NaN</td>\n",
       "      <td>NaN</td>\n",
       "      <td>NaN</td>\n",
       "      <td>NaN</td>\n",
       "      <td>NaN</td>\n",
       "      <td>NaN</td>\n",
       "      <td>NaN</td>\n",
       "      <td>NaN</td>\n",
       "      <td>NaN</td>\n",
       "      <td>NaN</td>\n",
       "      <td>NaN</td>\n",
       "      <td>NaN</td>\n",
       "      <td>euclidean</td>\n",
       "      <td>NaN</td>\n",
       "      <td>NaN</td>\n",
       "      <td>NaN</td>\n",
       "    </tr>\n",
       "    <tr>\n",
       "      <th>multi_class</th>\n",
       "      <td>NaN</td>\n",
       "      <td>NaN</td>\n",
       "      <td>NaN</td>\n",
       "      <td>NaN</td>\n",
       "      <td>NaN</td>\n",
       "      <td>NaN</td>\n",
       "      <td>NaN</td>\n",
       "      <td>NaN</td>\n",
       "      <td>NaN</td>\n",
       "      <td>NaN</td>\n",
       "      <td>ovr</td>\n",
       "      <td>NaN</td>\n",
       "      <td>NaN</td>\n",
       "      <td>NaN</td>\n",
       "      <td>NaN</td>\n",
       "      <td>NaN</td>\n",
       "      <td>NaN</td>\n",
       "    </tr>\n",
       "    <tr>\n",
       "      <th>n_estimators</th>\n",
       "      <td>90</td>\n",
       "      <td>45.000000</td>\n",
       "      <td>NaN</td>\n",
       "      <td>NaN</td>\n",
       "      <td>NaN</td>\n",
       "      <td>45</td>\n",
       "      <td>NaN</td>\n",
       "      <td>NaN</td>\n",
       "      <td>NaN</td>\n",
       "      <td>NaN</td>\n",
       "      <td>NaN</td>\n",
       "      <td>NaN</td>\n",
       "      <td>NaN</td>\n",
       "      <td>NaN</td>\n",
       "      <td>35</td>\n",
       "      <td>NaN</td>\n",
       "      <td>NaN</td>\n",
       "    </tr>\n",
       "    <tr>\n",
       "      <th>n_neighbors</th>\n",
       "      <td>NaN</td>\n",
       "      <td>NaN</td>\n",
       "      <td>NaN</td>\n",
       "      <td>NaN</td>\n",
       "      <td>NaN</td>\n",
       "      <td>NaN</td>\n",
       "      <td>NaN</td>\n",
       "      <td>NaN</td>\n",
       "      <td>NaN</td>\n",
       "      <td>3</td>\n",
       "      <td>NaN</td>\n",
       "      <td>NaN</td>\n",
       "      <td>NaN</td>\n",
       "      <td>NaN</td>\n",
       "      <td>NaN</td>\n",
       "      <td>NaN</td>\n",
       "      <td>NaN</td>\n",
       "    </tr>\n",
       "    <tr>\n",
       "      <th>oob_score</th>\n",
       "      <td>NaN</td>\n",
       "      <td>NaN</td>\n",
       "      <td>NaN</td>\n",
       "      <td>NaN</td>\n",
       "      <td>NaN</td>\n",
       "      <td>NaN</td>\n",
       "      <td>NaN</td>\n",
       "      <td>NaN</td>\n",
       "      <td>NaN</td>\n",
       "      <td>NaN</td>\n",
       "      <td>NaN</td>\n",
       "      <td>NaN</td>\n",
       "      <td>NaN</td>\n",
       "      <td>NaN</td>\n",
       "      <td>1</td>\n",
       "      <td>NaN</td>\n",
       "      <td>NaN</td>\n",
       "    </tr>\n",
       "    <tr>\n",
       "      <th>p</th>\n",
       "      <td>NaN</td>\n",
       "      <td>NaN</td>\n",
       "      <td>NaN</td>\n",
       "      <td>NaN</td>\n",
       "      <td>NaN</td>\n",
       "      <td>NaN</td>\n",
       "      <td>NaN</td>\n",
       "      <td>NaN</td>\n",
       "      <td>NaN</td>\n",
       "      <td>2</td>\n",
       "      <td>NaN</td>\n",
       "      <td>NaN</td>\n",
       "      <td>NaN</td>\n",
       "      <td>NaN</td>\n",
       "      <td>NaN</td>\n",
       "      <td>NaN</td>\n",
       "      <td>NaN</td>\n",
       "    </tr>\n",
       "    <tr>\n",
       "      <th>penalty</th>\n",
       "      <td>NaN</td>\n",
       "      <td>NaN</td>\n",
       "      <td>NaN</td>\n",
       "      <td>NaN</td>\n",
       "      <td>NaN</td>\n",
       "      <td>NaN</td>\n",
       "      <td>NaN</td>\n",
       "      <td>NaN</td>\n",
       "      <td>NaN</td>\n",
       "      <td>NaN</td>\n",
       "      <td>l2</td>\n",
       "      <td>NaN</td>\n",
       "      <td>NaN</td>\n",
       "      <td>NaN</td>\n",
       "      <td>NaN</td>\n",
       "      <td>NaN</td>\n",
       "      <td>none</td>\n",
       "    </tr>\n",
       "    <tr>\n",
       "      <th>solver</th>\n",
       "      <td>NaN</td>\n",
       "      <td>NaN</td>\n",
       "      <td>NaN</td>\n",
       "      <td>NaN</td>\n",
       "      <td>NaN</td>\n",
       "      <td>NaN</td>\n",
       "      <td>NaN</td>\n",
       "      <td>NaN</td>\n",
       "      <td>NaN</td>\n",
       "      <td>NaN</td>\n",
       "      <td>NaN</td>\n",
       "      <td>newton-cg</td>\n",
       "      <td>lbfgs</td>\n",
       "      <td>NaN</td>\n",
       "      <td>NaN</td>\n",
       "      <td>NaN</td>\n",
       "      <td>NaN</td>\n",
       "    </tr>\n",
       "    <tr>\n",
       "      <th>splitter</th>\n",
       "      <td>NaN</td>\n",
       "      <td>NaN</td>\n",
       "      <td>NaN</td>\n",
       "      <td>best</td>\n",
       "      <td>best</td>\n",
       "      <td>NaN</td>\n",
       "      <td>NaN</td>\n",
       "      <td>NaN</td>\n",
       "      <td>NaN</td>\n",
       "      <td>NaN</td>\n",
       "      <td>NaN</td>\n",
       "      <td>NaN</td>\n",
       "      <td>NaN</td>\n",
       "      <td>NaN</td>\n",
       "      <td>NaN</td>\n",
       "      <td>NaN</td>\n",
       "      <td>NaN</td>\n",
       "    </tr>\n",
       "    <tr>\n",
       "      <th>test</th>\n",
       "      <td>0.5375</td>\n",
       "      <td>0.887500</td>\n",
       "      <td>0.025000</td>\n",
       "      <td>0.55</td>\n",
       "      <td>0.5875</td>\n",
       "      <td>0.9625</td>\n",
       "      <td>9.125000e-01</td>\n",
       "      <td>0.5375</td>\n",
       "      <td>8.000000e-01</td>\n",
       "      <td>0.95</td>\n",
       "      <td>0.95</td>\n",
       "      <td>0.9</td>\n",
       "      <td>0.9125</td>\n",
       "      <td>0.875</td>\n",
       "      <td>0.9</td>\n",
       "      <td>0.787500</td>\n",
       "      <td>0.9125</td>\n",
       "    </tr>\n",
       "    <tr>\n",
       "      <th>tol</th>\n",
       "      <td>NaN</td>\n",
       "      <td>NaN</td>\n",
       "      <td>NaN</td>\n",
       "      <td>NaN</td>\n",
       "      <td>NaN</td>\n",
       "      <td>NaN</td>\n",
       "      <td>NaN</td>\n",
       "      <td>1e-05</td>\n",
       "      <td>1.000000e-08</td>\n",
       "      <td>NaN</td>\n",
       "      <td>0.0001</td>\n",
       "      <td>0.0001</td>\n",
       "      <td>NaN</td>\n",
       "      <td>NaN</td>\n",
       "      <td>NaN</td>\n",
       "      <td>0.000100</td>\n",
       "      <td>1.42857e-05</td>\n",
       "    </tr>\n",
       "    <tr>\n",
       "      <th>tr_time</th>\n",
       "      <td>0.426668</td>\n",
       "      <td>0.184005</td>\n",
       "      <td>0.021327</td>\n",
       "      <td>0.018833</td>\n",
       "      <td>0.017312</td>\n",
       "      <td>0.083455</td>\n",
       "      <td>2.294500e-02</td>\n",
       "      <td>1.86461</td>\n",
       "      <td>3.136233e+01</td>\n",
       "      <td>0.068712</td>\n",
       "      <td>0.471133</td>\n",
       "      <td>1.12793</td>\n",
       "      <td>1.00187</td>\n",
       "      <td>0.010857</td>\n",
       "      <td>0.203642</td>\n",
       "      <td>0.174371</td>\n",
       "      <td>0.837043</td>\n",
       "    </tr>\n",
       "    <tr>\n",
       "      <th>train</th>\n",
       "      <td>0.81875</td>\n",
       "      <td>1.000000</td>\n",
       "      <td>0.065625</td>\n",
       "      <td>1</td>\n",
       "      <td>1</td>\n",
       "      <td>1</td>\n",
       "      <td>1.000000e+00</td>\n",
       "      <td>1</td>\n",
       "      <td>1.000000e+00</td>\n",
       "      <td>1</td>\n",
       "      <td>0.978125</td>\n",
       "      <td>0.95</td>\n",
       "      <td>1</td>\n",
       "      <td>0.959375</td>\n",
       "      <td>1</td>\n",
       "      <td>0.865625</td>\n",
       "      <td>0.978125</td>\n",
       "    </tr>\n",
       "    <tr>\n",
       "      <th>var_smoothing</th>\n",
       "      <td>NaN</td>\n",
       "      <td>NaN</td>\n",
       "      <td>NaN</td>\n",
       "      <td>NaN</td>\n",
       "      <td>NaN</td>\n",
       "      <td>NaN</td>\n",
       "      <td>1.000000e-10</td>\n",
       "      <td>NaN</td>\n",
       "      <td>NaN</td>\n",
       "      <td>NaN</td>\n",
       "      <td>NaN</td>\n",
       "      <td>NaN</td>\n",
       "      <td>NaN</td>\n",
       "      <td>NaN</td>\n",
       "      <td>NaN</td>\n",
       "      <td>NaN</td>\n",
       "      <td>NaN</td>\n",
       "    </tr>\n",
       "    <tr>\n",
       "      <th>warm_start</th>\n",
       "      <td>NaN</td>\n",
       "      <td>NaN</td>\n",
       "      <td>NaN</td>\n",
       "      <td>NaN</td>\n",
       "      <td>NaN</td>\n",
       "      <td>0</td>\n",
       "      <td>NaN</td>\n",
       "      <td>NaN</td>\n",
       "      <td>NaN</td>\n",
       "      <td>NaN</td>\n",
       "      <td>NaN</td>\n",
       "      <td>NaN</td>\n",
       "      <td>NaN</td>\n",
       "      <td>NaN</td>\n",
       "      <td>1</td>\n",
       "      <td>NaN</td>\n",
       "      <td>NaN</td>\n",
       "    </tr>\n",
       "    <tr>\n",
       "      <th>weights</th>\n",
       "      <td>NaN</td>\n",
       "      <td>NaN</td>\n",
       "      <td>NaN</td>\n",
       "      <td>NaN</td>\n",
       "      <td>NaN</td>\n",
       "      <td>NaN</td>\n",
       "      <td>NaN</td>\n",
       "      <td>NaN</td>\n",
       "      <td>NaN</td>\n",
       "      <td>distance</td>\n",
       "      <td>NaN</td>\n",
       "      <td>NaN</td>\n",
       "      <td>NaN</td>\n",
       "      <td>NaN</td>\n",
       "      <td>NaN</td>\n",
       "      <td>NaN</td>\n",
       "      <td>NaN</td>\n",
       "    </tr>\n",
       "  </tbody>\n",
       "</table>\n",
       "</div>"
      ],
      "text/plain": [
       "                   ada_boost    bagging  bernoulli decision_tree extra_tree  \\\n",
       "C                        NaN        NaN        NaN           NaN        NaN   \n",
       "activation               NaN        NaN        NaN           NaN        NaN   \n",
       "algorithm            SAMME.R        NaN        NaN           NaN        NaN   \n",
       "alpha                    NaN        NaN   0.100000           NaN        NaN   \n",
       "bootstrap_features       NaN   1.000000        NaN           NaN        NaN   \n",
       "criterion                NaN        NaN        NaN          gini    entropy   \n",
       "early_stopping           NaN        NaN        NaN           NaN        NaN   \n",
       "f1_test              0.52756   0.883333   0.001220      0.506905   0.570952   \n",
       "f1_train            0.815853   1.000000   0.072381             1          1   \n",
       "l2_regularization        NaN        NaN        NaN           NaN        NaN   \n",
       "learning_rate            0.1        NaN        NaN           NaN        NaN   \n",
       "loss                     NaN        NaN        NaN           NaN        NaN   \n",
       "metric                   NaN        NaN        NaN           NaN        NaN   \n",
       "multi_class              NaN        NaN        NaN           NaN        NaN   \n",
       "n_estimators              90  45.000000        NaN           NaN        NaN   \n",
       "n_neighbors              NaN        NaN        NaN           NaN        NaN   \n",
       "oob_score                NaN        NaN        NaN           NaN        NaN   \n",
       "p                        NaN        NaN        NaN           NaN        NaN   \n",
       "penalty                  NaN        NaN        NaN           NaN        NaN   \n",
       "solver                   NaN        NaN        NaN           NaN        NaN   \n",
       "splitter                 NaN        NaN        NaN          best       best   \n",
       "test                  0.5375   0.887500   0.025000          0.55     0.5875   \n",
       "tol                      NaN        NaN        NaN           NaN        NaN   \n",
       "tr_time             0.426668   0.184005   0.021327      0.018833   0.017312   \n",
       "train                0.81875   1.000000   0.065625             1          1   \n",
       "var_smoothing            NaN        NaN        NaN           NaN        NaN   \n",
       "warm_start               NaN        NaN        NaN           NaN        NaN   \n",
       "weights                  NaN        NaN        NaN           NaN        NaN   \n",
       "\n",
       "                   extra_trees      gaussian gradient_boosting  \\\n",
       "C                          NaN           NaN               NaN   \n",
       "activation                 NaN           NaN               NaN   \n",
       "algorithm                  NaN           NaN               NaN   \n",
       "alpha                      NaN           NaN               NaN   \n",
       "bootstrap_features         NaN           NaN               NaN   \n",
       "criterion                 gini           NaN      friedman_mse   \n",
       "early_stopping             NaN           NaN               NaN   \n",
       "f1_test                   0.96  9.108333e-01          0.535476   \n",
       "f1_train                     1  1.000000e+00                 1   \n",
       "l2_regularization          NaN           NaN               NaN   \n",
       "learning_rate              NaN           NaN               0.2   \n",
       "loss                       NaN           NaN          deviance   \n",
       "metric                     NaN           NaN               NaN   \n",
       "multi_class                NaN           NaN               NaN   \n",
       "n_estimators                45           NaN               NaN   \n",
       "n_neighbors                NaN           NaN               NaN   \n",
       "oob_score                  NaN           NaN               NaN   \n",
       "p                          NaN           NaN               NaN   \n",
       "penalty                    NaN           NaN               NaN   \n",
       "solver                     NaN           NaN               NaN   \n",
       "splitter                   NaN           NaN               NaN   \n",
       "test                    0.9625  9.125000e-01            0.5375   \n",
       "tol                        NaN           NaN             1e-05   \n",
       "tr_time               0.083455  2.294500e-02           1.86461   \n",
       "train                        1  1.000000e+00                 1   \n",
       "var_smoothing              NaN  1.000000e-10               NaN   \n",
       "warm_start                   0           NaN               NaN   \n",
       "weights                    NaN           NaN               NaN   \n",
       "\n",
       "                    hist_gradient_boosting k_neighbors linear_svc  \\\n",
       "C                                      NaN         NaN        1.4   \n",
       "activation                             NaN         NaN        NaN   \n",
       "algorithm                              NaN   ball_tree        NaN   \n",
       "alpha                                  NaN         NaN        NaN   \n",
       "bootstrap_features                     NaN         NaN        NaN   \n",
       "criterion                              NaN         NaN        NaN   \n",
       "early_stopping                         NaN         NaN        NaN   \n",
       "f1_test                       7.958333e-01    0.946667     0.9475   \n",
       "f1_train                      1.000000e+00           1   0.977965   \n",
       "l2_regularization             0.000000e+00         NaN        NaN   \n",
       "learning_rate                          NaN         NaN        NaN   \n",
       "loss                                   NaN         NaN        NaN   \n",
       "metric                                 NaN         NaN        NaN   \n",
       "multi_class                            NaN         NaN        ovr   \n",
       "n_estimators                           NaN         NaN        NaN   \n",
       "n_neighbors                            NaN           3        NaN   \n",
       "oob_score                              NaN         NaN        NaN   \n",
       "p                                      NaN           2        NaN   \n",
       "penalty                                NaN         NaN         l2   \n",
       "solver                                 NaN         NaN        NaN   \n",
       "splitter                               NaN         NaN        NaN   \n",
       "test                          8.000000e-01        0.95       0.95   \n",
       "tol                           1.000000e-08         NaN     0.0001   \n",
       "tr_time                       3.136233e+01    0.068712   0.471133   \n",
       "train                         1.000000e+00           1   0.978125   \n",
       "var_smoothing                          NaN         NaN        NaN   \n",
       "warm_start                             NaN         NaN        NaN   \n",
       "weights                                NaN    distance        NaN   \n",
       "\n",
       "                   logistic_regression       mlp nearest_centroid  \\\n",
       "C                                  1.4       NaN              NaN   \n",
       "activation                         NaN      tanh              NaN   \n",
       "algorithm                          NaN       NaN              NaN   \n",
       "alpha                              NaN     5e-06              NaN   \n",
       "bootstrap_features                 NaN       NaN              NaN   \n",
       "criterion                          NaN       NaN              NaN   \n",
       "early_stopping                     NaN      True              NaN   \n",
       "f1_test                       0.885833  0.890833           0.8575   \n",
       "f1_train                      0.948181         1         0.958756   \n",
       "l2_regularization                  NaN       NaN              NaN   \n",
       "learning_rate                      NaN  constant              NaN   \n",
       "loss                               NaN       NaN              NaN   \n",
       "metric                             NaN       NaN        euclidean   \n",
       "multi_class                        NaN       NaN              NaN   \n",
       "n_estimators                       NaN       NaN              NaN   \n",
       "n_neighbors                        NaN       NaN              NaN   \n",
       "oob_score                          NaN       NaN              NaN   \n",
       "p                                  NaN       NaN              NaN   \n",
       "penalty                            NaN       NaN              NaN   \n",
       "solver                       newton-cg     lbfgs              NaN   \n",
       "splitter                           NaN       NaN              NaN   \n",
       "test                               0.9    0.9125            0.875   \n",
       "tol                             0.0001       NaN              NaN   \n",
       "tr_time                        1.12793   1.00187         0.010857   \n",
       "train                             0.95         1         0.959375   \n",
       "var_smoothing                      NaN       NaN              NaN   \n",
       "warm_start                         NaN       NaN              NaN   \n",
       "weights                            NaN       NaN              NaN   \n",
       "\n",
       "                   random_forest     ridge          sgd  \n",
       "C                            NaN       NaN          NaN  \n",
       "activation                   NaN       NaN          NaN  \n",
       "algorithm                    NaN       NaN          NaN  \n",
       "alpha                        NaN  1.000000       0.0011  \n",
       "bootstrap_features           NaN       NaN          NaN  \n",
       "criterion                entropy       NaN          NaN  \n",
       "early_stopping               NaN       NaN          NaN  \n",
       "f1_test                 0.896667  0.749167       0.9075  \n",
       "f1_train                       1  0.843291     0.978266  \n",
       "l2_regularization            NaN       NaN          NaN  \n",
       "learning_rate                NaN       NaN          NaN  \n",
       "loss                         NaN       NaN          log  \n",
       "metric                       NaN       NaN          NaN  \n",
       "multi_class                  NaN       NaN          NaN  \n",
       "n_estimators                  35       NaN          NaN  \n",
       "n_neighbors                  NaN       NaN          NaN  \n",
       "oob_score                      1       NaN          NaN  \n",
       "p                            NaN       NaN          NaN  \n",
       "penalty                      NaN       NaN         none  \n",
       "solver                       NaN       NaN          NaN  \n",
       "splitter                     NaN       NaN          NaN  \n",
       "test                         0.9  0.787500       0.9125  \n",
       "tol                          NaN  0.000100  1.42857e-05  \n",
       "tr_time                 0.203642  0.174371     0.837043  \n",
       "train                          1  0.865625     0.978125  \n",
       "var_smoothing                NaN       NaN          NaN  \n",
       "warm_start                     1       NaN          NaN  \n",
       "weights                      NaN       NaN          NaN  "
      ]
     },
     "execution_count": 28,
     "metadata": {},
     "output_type": "execute_result"
    }
   ],
   "source": [
    "df"
   ]
  },
  {
   "cell_type": "code",
   "execution_count": 29,
   "metadata": {
    "pycharm": {}
   },
   "outputs": [],
   "source": [
    "df.to_csv(result_path)"
   ]
  }
 ],
 "metadata": {
  "kernelspec": {
   "display_name": "Python 3",
   "language": "python",
   "name": "python3"
  },
  "language_info": {
   "codemirror_mode": {
    "name": "ipython",
    "version": 3
   },
   "file_extension": ".py",
   "mimetype": "text/x-python",
   "name": "python",
   "nbconvert_exporter": "python",
   "pygments_lexer": "ipython3",
   "version": "3.6.7"
  }
 },
 "nbformat": 4,
 "nbformat_minor": 1
}
