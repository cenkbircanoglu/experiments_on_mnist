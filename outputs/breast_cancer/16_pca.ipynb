{
 "cells": [
  {
   "cell_type": "code",
   "execution_count": 1,
   "metadata": {
    "pycharm": {}
   },
   "outputs": [],
   "source": [
    "import os\n",
    "import pandas as pd\n",
    "from sklearn.model_selection import StratifiedShuffleSplit\n",
    "\n",
    "from dimensionality_reduction import reduce_dimension\n",
    "import load_database\n",
    "from algorithms import *"
   ]
  },
  {
   "cell_type": "code",
   "execution_count": 2,
   "metadata": {
    "pycharm": {}
   },
   "outputs": [],
   "source": [
    "import warnings\n",
    "warnings.filterwarnings('ignore')"
   ]
  },
  {
   "cell_type": "code",
   "execution_count": 3,
   "metadata": {
    "pycharm": {}
   },
   "outputs": [],
   "source": [
    "database_name = os.environ['DATABASE']\n",
    "n_components = int(os.environ['N_COMPONENTS'])\n",
    "dimensionality_algorithm = os.environ['DIMENSIONALITY_ALGORITHM']"
   ]
  },
  {
   "cell_type": "code",
   "execution_count": 4,
   "metadata": {},
   "outputs": [],
   "source": [
    "result_path = 'results/%s_%s_%s.csv' %(database_name, n_components, dimensionality_algorithm)"
   ]
  },
  {
   "cell_type": "code",
   "execution_count": 5,
   "metadata": {},
   "outputs": [],
   "source": [
    "X, y = load_database.load(database_name)\n",
    "X = reduce_dimension(dimensionality_algorithm, X, n_components) if n_components else X"
   ]
  },
  {
   "cell_type": "code",
   "execution_count": 6,
   "metadata": {
    "pycharm": {}
   },
   "outputs": [
    {
     "data": {
      "text/plain": [
       "(569, 16)"
      ]
     },
     "execution_count": 6,
     "metadata": {},
     "output_type": "execute_result"
    }
   ],
   "source": [
    "X.shape"
   ]
  },
  {
   "cell_type": "code",
   "execution_count": 7,
   "metadata": {},
   "outputs": [],
   "source": [
    "results = {}"
   ]
  },
  {
   "cell_type": "code",
   "execution_count": 8,
   "metadata": {
    "pycharm": {}
   },
   "outputs": [],
   "source": [
    "sss = StratifiedShuffleSplit(n_splits=1, test_size=0.2)\n",
    "for train_index, test_index in sss.split(X, y):\n",
    "    X_train, X_test = X[train_index], X[test_index]\n",
    "    y_train, y_test = y[train_index], y[test_index]"
   ]
  },
  {
   "cell_type": "code",
   "execution_count": 9,
   "metadata": {
    "pycharm": {}
   },
   "outputs": [
    {
     "name": "stdout",
     "output_type": "stream",
     "text": [
      "0.2534240000000001\n",
      "{'algorithm': 'SAMME.R', 'learning_rate': 0.7, 'n_estimators': 20}\n",
      "0.9648351648351648\n",
      "0.989010989010989 0.956140350877193 0.9889908435436422 0.9560273762928301\n"
     ]
    }
   ],
   "source": [
    "result = train_test(X_train, y_train, X_test, y_test, 'ada_boost')\n",
    "results.update(result)"
   ]
  },
  {
   "cell_type": "code",
   "execution_count": 10,
   "metadata": {
    "pycharm": {}
   },
   "outputs": [
    {
     "name": "stdout",
     "output_type": "stream",
     "text": [
      "0.08372000000000002\n",
      "{'bootstrap_features': 1, 'n_estimators': 30}\n",
      "0.9494505494505494\n",
      "1.0 0.9385964912280702 1.0 0.9390019435970703\n"
     ]
    }
   ],
   "source": [
    "result = train_test(X_train, y_train, X_test, y_test, 'bagging')\n",
    "results.update(result)"
   ]
  },
  {
   "cell_type": "code",
   "execution_count": 11,
   "metadata": {
    "pycharm": {}
   },
   "outputs": [
    {
     "name": "stdout",
     "output_type": "stream",
     "text": [
      "0.0700099999999999\n",
      "{'criterion': 'entropy', 'n_estimators': 40, 'warm_start': 1}\n",
      "0.9626373626373627\n",
      "1.0 0.9473684210526315 1.0 0.9473684210526315\n"
     ]
    }
   ],
   "source": [
    "result = train_test(X_train, y_train, X_test, y_test, 'extra_trees')\n",
    "results.update(result)"
   ]
  },
  {
   "cell_type": "code",
   "execution_count": 12,
   "metadata": {
    "pycharm": {}
   },
   "outputs": [
    {
     "name": "stdout",
     "output_type": "stream",
     "text": [
      "0.10440200000000033\n",
      "{'criterion': 'gini', 'n_estimators': 35, 'oob_score': 1, 'warm_start': 1}\n",
      "0.9604395604395605\n",
      "1.0 0.956140350877193 1.0 0.956244993396696\n"
     ]
    }
   ],
   "source": [
    "result = train_test(X_train, y_train, X_test, y_test, 'random_forest')\n",
    "results.update(result)"
   ]
  },
  {
   "cell_type": "code",
   "execution_count": 13,
   "metadata": {
    "pycharm": {}
   },
   "outputs": [
    {
     "name": "stdout",
     "output_type": "stream",
     "text": [
      "0.3406739999999999\n",
      "{'C': 1.4, 'solver': 'liblinear', 'tol': 0.0001}\n",
      "0.9142857142857143\n",
      "0.945054945054945 0.9473684210526315 0.9440288936087254 0.9463967611336033\n"
     ]
    }
   ],
   "source": [
    "result = train_test(X_train, y_train, X_test, y_test, 'logistic_regression')\n",
    "results.update(result)"
   ]
  },
  {
   "cell_type": "code",
   "execution_count": 14,
   "metadata": {
    "pycharm": {}
   },
   "outputs": [
    {
     "name": "stdout",
     "output_type": "stream",
     "text": [
      "0.051277999999999935\n",
      "{'early_stopping': False, 'loss': 'squared_hinge', 'tol': 1.4285714285714285e-05, 'warm_start': 1}\n",
      "0.9626373626373627\n",
      "0.8857142857142857 0.9385964912280702 0.8875457875457876 0.9393894618635302\n"
     ]
    }
   ],
   "source": [
    "result = train_test(X_train, y_train, X_test, y_test, 'passive_aggressive')\n",
    "results.update(result)"
   ]
  },
  {
   "cell_type": "code",
   "execution_count": 15,
   "metadata": {
    "pycharm": {}
   },
   "outputs": [
    {
     "name": "stdout",
     "output_type": "stream",
     "text": [
      "0.041221000000000174\n",
      "{'alpha': 0.7, 'tol': 0.0001}\n",
      "0.9472527472527472\n",
      "0.9516483516483516 0.956140350877193 0.9509568821009499 0.9554882874504246\n"
     ]
    }
   ],
   "source": [
    "result = train_test(X_train, y_train, X_test, y_test, 'ridge')\n",
    "results.update(result)"
   ]
  },
  {
   "cell_type": "code",
   "execution_count": 16,
   "metadata": {
    "pycharm": {}
   },
   "outputs": [
    {
     "name": "stdout",
     "output_type": "stream",
     "text": [
      "0.4702919999999997\n",
      "{'alpha': 0.0009, 'loss': 'hinge', 'penalty': 'l1', 'tol': 1.4285714285714285e-05}\n",
      "0.9692307692307692\n",
      "0.9736263736263736 0.9824561403508771 0.9734541320748217 0.9823623542652152\n"
     ]
    }
   ],
   "source": [
    "result = train_test(X_train, y_train, X_test, y_test, 'sgd')\n",
    "results.update(result)"
   ]
  },
  {
   "cell_type": "code",
   "execution_count": 17,
   "metadata": {
    "pycharm": {}
   },
   "outputs": [
    {
     "name": "stdout",
     "output_type": "stream",
     "text": [
      "0.01602300000000012\n",
      "{'alpha': 0.1}\n",
      "0.6307692307692307\n",
      "0.643956043956044 0.631578947368421 0.5213343480980247 0.48896434634974534\n"
     ]
    }
   ],
   "source": [
    "result = train_test(X_train, y_train, X_test, y_test, 'bernoulli')\n",
    "results.update(result)"
   ]
  },
  {
   "cell_type": "code",
   "execution_count": 18,
   "metadata": {
    "pycharm": {}
   },
   "outputs": [
    {
     "name": "stdout",
     "output_type": "stream",
     "text": [
      "0.01746099999999995\n",
      "{'var_smoothing': 1e-10}\n",
      "0.8967032967032967\n",
      "0.9054945054945055 0.8508771929824561 0.9052001340645077 0.8518618630214567\n"
     ]
    }
   ],
   "source": [
    "result = train_test(X_train, y_train, X_test, y_test, 'gaussian')\n",
    "results.update(result)"
   ]
  },
  {
   "cell_type": "code",
   "execution_count": 19,
   "metadata": {
    "pycharm": {}
   },
   "outputs": [
    {
     "name": "stdout",
     "output_type": "stream",
     "text": [
      "0.05304500000000001\n",
      "{'algorithm': 'ball_tree', 'n_neighbors': 4, 'p': 1, 'weights': 'uniform'}\n",
      "0.9120879120879121\n",
      "0.9604395604395605 0.9035087719298246 0.9600028337229702 0.9013593586615545\n"
     ]
    }
   ],
   "source": [
    "result = train_test(X_train, y_train, X_test, y_test, 'k_neighbors')\n",
    "results.update(result)"
   ]
  },
  {
   "cell_type": "code",
   "execution_count": 20,
   "metadata": {
    "pycharm": {}
   },
   "outputs": [
    {
     "name": "stdout",
     "output_type": "stream",
     "text": [
      "0.00741999999999976\n",
      "{'metric': 'cosine'}\n",
      "0.9472527472527472\n",
      "0.9626373626373627 0.956140350877193 0.9623112448108121 0.9554882874504246\n"
     ]
    }
   ],
   "source": [
    "result = train_test(X_train, y_train, X_test, y_test, 'nearest_centroid')\n",
    "results.update(result)"
   ]
  },
  {
   "cell_type": "code",
   "execution_count": 21,
   "metadata": {
    "pycharm": {}
   },
   "outputs": [
    {
     "name": "stdout",
     "output_type": "stream",
     "text": [
      "2.1174399999999998\n",
      "{'activation': 'logistic', 'alpha': 2e-06, 'early_stopping': True, 'learning_rate': 'constant', 'solver': 'lbfgs'}\n",
      "0.9560439560439561\n",
      "1.0 0.9649122807017544 1.0 0.9652084757347914\n"
     ]
    }
   ],
   "source": [
    "result = train_test(X_train, y_train, X_test, y_test, 'mlp')\n",
    "results.update(result)"
   ]
  },
  {
   "cell_type": "code",
   "execution_count": 22,
   "metadata": {
    "pycharm": {}
   },
   "outputs": [
    {
     "name": "stdout",
     "output_type": "stream",
     "text": [
      "0.5137530000000003\n",
      "{'C': 1.4, 'multi_class': 'ovr', 'penalty': 'l2', 'tol': 0.0001}\n",
      "0.9560439560439561\n",
      "0.967032967032967 0.9649122807017544 0.9667452160095401 0.9645092460881936\n"
     ]
    }
   ],
   "source": [
    "result = train_test(X_train, y_train, X_test, y_test, 'linear_svc')\n",
    "results.update(result)"
   ]
  },
  {
   "cell_type": "code",
   "execution_count": 23,
   "metadata": {
    "pycharm": {}
   },
   "outputs": [
    {
     "name": "stdout",
     "output_type": "stream",
     "text": [
      "0.013876999999999917\n",
      "{'criterion': 'entropy', 'splitter': 'best'}\n",
      "0.9252747252747253\n",
      "1.0 0.956140350877193 1.0 0.9564299597121931\n"
     ]
    }
   ],
   "source": [
    "result = train_test(X_train, y_train, X_test, y_test, 'decision_tree')\n",
    "results.update(result)"
   ]
  },
  {
   "cell_type": "code",
   "execution_count": 24,
   "metadata": {
    "pycharm": {}
   },
   "outputs": [
    {
     "name": "stdout",
     "output_type": "stream",
     "text": [
      "0.013702999999999577\n",
      "{'criterion': 'gini', 'splitter': 'best'}\n",
      "0.9054945054945055\n",
      "1.0 0.8596491228070176 1.0 0.8588988341217225\n"
     ]
    }
   ],
   "source": [
    "result = train_test(X_train, y_train, X_test, y_test, 'extra_tree')\n",
    "results.update(result)"
   ]
  },
  {
   "cell_type": "code",
   "execution_count": 25,
   "metadata": {
    "pycharm": {}
   },
   "outputs": [
    {
     "name": "stdout",
     "output_type": "stream",
     "text": [
      "0.1698599999999999\n",
      "{'criterion': 'friedman_mse', 'learning_rate': 0.7, 'loss': 'deviance', 'tol': 1.6666666666666667e-06}\n",
      "0.9604395604395605\n",
      "1.0 0.956140350877193 1.0 0.956244993396696\n"
     ]
    }
   ],
   "source": [
    "result = train_test(X_train, y_train, X_test, y_test, 'gradient_boosting')\n",
    "results.update(result)"
   ]
  },
  {
   "cell_type": "code",
   "execution_count": 26,
   "metadata": {
    "pycharm": {}
   },
   "outputs": [
    {
     "name": "stdout",
     "output_type": "stream",
     "text": [
      "1.06541\n",
      "{'l2_regularization': 0, 'tol': 1e-08}\n",
      "0.9626373626373627\n",
      "1.0 0.9649122807017544 1.0 0.9649122807017544\n"
     ]
    }
   ],
   "source": [
    "result = train_test(X_train, y_train, X_test, y_test, 'hist_gradient_boosting')\n",
    "results.update(result)"
   ]
  },
  {
   "cell_type": "code",
   "execution_count": 27,
   "metadata": {
    "pycharm": {}
   },
   "outputs": [],
   "source": [
    "df = pd.DataFrame.from_records(results)"
   ]
  },
  {
   "cell_type": "code",
   "execution_count": 28,
   "metadata": {
    "pycharm": {}
   },
   "outputs": [
    {
     "data": {
      "text/html": [
       "<div>\n",
       "<style scoped>\n",
       "    .dataframe tbody tr th:only-of-type {\n",
       "        vertical-align: middle;\n",
       "    }\n",
       "\n",
       "    .dataframe tbody tr th {\n",
       "        vertical-align: top;\n",
       "    }\n",
       "\n",
       "    .dataframe thead th {\n",
       "        text-align: right;\n",
       "    }\n",
       "</style>\n",
       "<table border=\"1\" class=\"dataframe\">\n",
       "  <thead>\n",
       "    <tr style=\"text-align: right;\">\n",
       "      <th></th>\n",
       "      <th>ada_boost</th>\n",
       "      <th>bagging</th>\n",
       "      <th>bernoulli</th>\n",
       "      <th>decision_tree</th>\n",
       "      <th>extra_tree</th>\n",
       "      <th>extra_trees</th>\n",
       "      <th>gaussian</th>\n",
       "      <th>gradient_boosting</th>\n",
       "      <th>hist_gradient_boosting</th>\n",
       "      <th>k_neighbors</th>\n",
       "      <th>linear_svc</th>\n",
       "      <th>logistic_regression</th>\n",
       "      <th>mlp</th>\n",
       "      <th>nearest_centroid</th>\n",
       "      <th>passive_aggressive</th>\n",
       "      <th>random_forest</th>\n",
       "      <th>ridge</th>\n",
       "      <th>sgd</th>\n",
       "    </tr>\n",
       "  </thead>\n",
       "  <tbody>\n",
       "    <tr>\n",
       "      <th>C</th>\n",
       "      <td>NaN</td>\n",
       "      <td>NaN</td>\n",
       "      <td>NaN</td>\n",
       "      <td>NaN</td>\n",
       "      <td>NaN</td>\n",
       "      <td>NaN</td>\n",
       "      <td>NaN</td>\n",
       "      <td>NaN</td>\n",
       "      <td>NaN</td>\n",
       "      <td>NaN</td>\n",
       "      <td>1.4</td>\n",
       "      <td>1.4</td>\n",
       "      <td>NaN</td>\n",
       "      <td>NaN</td>\n",
       "      <td>NaN</td>\n",
       "      <td>NaN</td>\n",
       "      <td>NaN</td>\n",
       "      <td>NaN</td>\n",
       "    </tr>\n",
       "    <tr>\n",
       "      <th>activation</th>\n",
       "      <td>NaN</td>\n",
       "      <td>NaN</td>\n",
       "      <td>NaN</td>\n",
       "      <td>NaN</td>\n",
       "      <td>NaN</td>\n",
       "      <td>NaN</td>\n",
       "      <td>NaN</td>\n",
       "      <td>NaN</td>\n",
       "      <td>NaN</td>\n",
       "      <td>NaN</td>\n",
       "      <td>NaN</td>\n",
       "      <td>NaN</td>\n",
       "      <td>logistic</td>\n",
       "      <td>NaN</td>\n",
       "      <td>NaN</td>\n",
       "      <td>NaN</td>\n",
       "      <td>NaN</td>\n",
       "      <td>NaN</td>\n",
       "    </tr>\n",
       "    <tr>\n",
       "      <th>algorithm</th>\n",
       "      <td>SAMME.R</td>\n",
       "      <td>NaN</td>\n",
       "      <td>NaN</td>\n",
       "      <td>NaN</td>\n",
       "      <td>NaN</td>\n",
       "      <td>NaN</td>\n",
       "      <td>NaN</td>\n",
       "      <td>NaN</td>\n",
       "      <td>NaN</td>\n",
       "      <td>ball_tree</td>\n",
       "      <td>NaN</td>\n",
       "      <td>NaN</td>\n",
       "      <td>NaN</td>\n",
       "      <td>NaN</td>\n",
       "      <td>NaN</td>\n",
       "      <td>NaN</td>\n",
       "      <td>NaN</td>\n",
       "      <td>NaN</td>\n",
       "    </tr>\n",
       "    <tr>\n",
       "      <th>alpha</th>\n",
       "      <td>NaN</td>\n",
       "      <td>NaN</td>\n",
       "      <td>0.100000</td>\n",
       "      <td>NaN</td>\n",
       "      <td>NaN</td>\n",
       "      <td>NaN</td>\n",
       "      <td>NaN</td>\n",
       "      <td>NaN</td>\n",
       "      <td>NaN</td>\n",
       "      <td>NaN</td>\n",
       "      <td>NaN</td>\n",
       "      <td>NaN</td>\n",
       "      <td>2e-06</td>\n",
       "      <td>NaN</td>\n",
       "      <td>NaN</td>\n",
       "      <td>NaN</td>\n",
       "      <td>0.700000</td>\n",
       "      <td>0.0009</td>\n",
       "    </tr>\n",
       "    <tr>\n",
       "      <th>bootstrap_features</th>\n",
       "      <td>NaN</td>\n",
       "      <td>1.000000</td>\n",
       "      <td>NaN</td>\n",
       "      <td>NaN</td>\n",
       "      <td>NaN</td>\n",
       "      <td>NaN</td>\n",
       "      <td>NaN</td>\n",
       "      <td>NaN</td>\n",
       "      <td>NaN</td>\n",
       "      <td>NaN</td>\n",
       "      <td>NaN</td>\n",
       "      <td>NaN</td>\n",
       "      <td>NaN</td>\n",
       "      <td>NaN</td>\n",
       "      <td>NaN</td>\n",
       "      <td>NaN</td>\n",
       "      <td>NaN</td>\n",
       "      <td>NaN</td>\n",
       "    </tr>\n",
       "    <tr>\n",
       "      <th>criterion</th>\n",
       "      <td>NaN</td>\n",
       "      <td>NaN</td>\n",
       "      <td>NaN</td>\n",
       "      <td>entropy</td>\n",
       "      <td>gini</td>\n",
       "      <td>entropy</td>\n",
       "      <td>NaN</td>\n",
       "      <td>friedman_mse</td>\n",
       "      <td>NaN</td>\n",
       "      <td>NaN</td>\n",
       "      <td>NaN</td>\n",
       "      <td>NaN</td>\n",
       "      <td>NaN</td>\n",
       "      <td>NaN</td>\n",
       "      <td>NaN</td>\n",
       "      <td>gini</td>\n",
       "      <td>NaN</td>\n",
       "      <td>NaN</td>\n",
       "    </tr>\n",
       "    <tr>\n",
       "      <th>early_stopping</th>\n",
       "      <td>NaN</td>\n",
       "      <td>NaN</td>\n",
       "      <td>NaN</td>\n",
       "      <td>NaN</td>\n",
       "      <td>NaN</td>\n",
       "      <td>NaN</td>\n",
       "      <td>NaN</td>\n",
       "      <td>NaN</td>\n",
       "      <td>NaN</td>\n",
       "      <td>NaN</td>\n",
       "      <td>NaN</td>\n",
       "      <td>NaN</td>\n",
       "      <td>True</td>\n",
       "      <td>NaN</td>\n",
       "      <td>False</td>\n",
       "      <td>NaN</td>\n",
       "      <td>NaN</td>\n",
       "      <td>NaN</td>\n",
       "    </tr>\n",
       "    <tr>\n",
       "      <th>f1_test</th>\n",
       "      <td>0.956027</td>\n",
       "      <td>0.939002</td>\n",
       "      <td>0.488964</td>\n",
       "      <td>0.95643</td>\n",
       "      <td>0.858899</td>\n",
       "      <td>0.947368</td>\n",
       "      <td>8.518619e-01</td>\n",
       "      <td>0.956245</td>\n",
       "      <td>9.649123e-01</td>\n",
       "      <td>0.901359</td>\n",
       "      <td>0.964509</td>\n",
       "      <td>0.946397</td>\n",
       "      <td>0.965208</td>\n",
       "      <td>0.955488</td>\n",
       "      <td>0.939389</td>\n",
       "      <td>0.956245</td>\n",
       "      <td>0.955488</td>\n",
       "      <td>0.982362</td>\n",
       "    </tr>\n",
       "    <tr>\n",
       "      <th>f1_train</th>\n",
       "      <td>0.988991</td>\n",
       "      <td>1.000000</td>\n",
       "      <td>0.521334</td>\n",
       "      <td>1</td>\n",
       "      <td>1</td>\n",
       "      <td>1</td>\n",
       "      <td>9.052001e-01</td>\n",
       "      <td>1</td>\n",
       "      <td>1.000000e+00</td>\n",
       "      <td>0.960003</td>\n",
       "      <td>0.966745</td>\n",
       "      <td>0.944029</td>\n",
       "      <td>1</td>\n",
       "      <td>0.962311</td>\n",
       "      <td>0.887546</td>\n",
       "      <td>1</td>\n",
       "      <td>0.950957</td>\n",
       "      <td>0.973454</td>\n",
       "    </tr>\n",
       "    <tr>\n",
       "      <th>l2_regularization</th>\n",
       "      <td>NaN</td>\n",
       "      <td>NaN</td>\n",
       "      <td>NaN</td>\n",
       "      <td>NaN</td>\n",
       "      <td>NaN</td>\n",
       "      <td>NaN</td>\n",
       "      <td>NaN</td>\n",
       "      <td>NaN</td>\n",
       "      <td>0.000000e+00</td>\n",
       "      <td>NaN</td>\n",
       "      <td>NaN</td>\n",
       "      <td>NaN</td>\n",
       "      <td>NaN</td>\n",
       "      <td>NaN</td>\n",
       "      <td>NaN</td>\n",
       "      <td>NaN</td>\n",
       "      <td>NaN</td>\n",
       "      <td>NaN</td>\n",
       "    </tr>\n",
       "    <tr>\n",
       "      <th>learning_rate</th>\n",
       "      <td>0.7</td>\n",
       "      <td>NaN</td>\n",
       "      <td>NaN</td>\n",
       "      <td>NaN</td>\n",
       "      <td>NaN</td>\n",
       "      <td>NaN</td>\n",
       "      <td>NaN</td>\n",
       "      <td>0.7</td>\n",
       "      <td>NaN</td>\n",
       "      <td>NaN</td>\n",
       "      <td>NaN</td>\n",
       "      <td>NaN</td>\n",
       "      <td>constant</td>\n",
       "      <td>NaN</td>\n",
       "      <td>NaN</td>\n",
       "      <td>NaN</td>\n",
       "      <td>NaN</td>\n",
       "      <td>NaN</td>\n",
       "    </tr>\n",
       "    <tr>\n",
       "      <th>loss</th>\n",
       "      <td>NaN</td>\n",
       "      <td>NaN</td>\n",
       "      <td>NaN</td>\n",
       "      <td>NaN</td>\n",
       "      <td>NaN</td>\n",
       "      <td>NaN</td>\n",
       "      <td>NaN</td>\n",
       "      <td>deviance</td>\n",
       "      <td>NaN</td>\n",
       "      <td>NaN</td>\n",
       "      <td>NaN</td>\n",
       "      <td>NaN</td>\n",
       "      <td>NaN</td>\n",
       "      <td>NaN</td>\n",
       "      <td>squared_hinge</td>\n",
       "      <td>NaN</td>\n",
       "      <td>NaN</td>\n",
       "      <td>hinge</td>\n",
       "    </tr>\n",
       "    <tr>\n",
       "      <th>metric</th>\n",
       "      <td>NaN</td>\n",
       "      <td>NaN</td>\n",
       "      <td>NaN</td>\n",
       "      <td>NaN</td>\n",
       "      <td>NaN</td>\n",
       "      <td>NaN</td>\n",
       "      <td>NaN</td>\n",
       "      <td>NaN</td>\n",
       "      <td>NaN</td>\n",
       "      <td>NaN</td>\n",
       "      <td>NaN</td>\n",
       "      <td>NaN</td>\n",
       "      <td>NaN</td>\n",
       "      <td>cosine</td>\n",
       "      <td>NaN</td>\n",
       "      <td>NaN</td>\n",
       "      <td>NaN</td>\n",
       "      <td>NaN</td>\n",
       "    </tr>\n",
       "    <tr>\n",
       "      <th>multi_class</th>\n",
       "      <td>NaN</td>\n",
       "      <td>NaN</td>\n",
       "      <td>NaN</td>\n",
       "      <td>NaN</td>\n",
       "      <td>NaN</td>\n",
       "      <td>NaN</td>\n",
       "      <td>NaN</td>\n",
       "      <td>NaN</td>\n",
       "      <td>NaN</td>\n",
       "      <td>NaN</td>\n",
       "      <td>ovr</td>\n",
       "      <td>NaN</td>\n",
       "      <td>NaN</td>\n",
       "      <td>NaN</td>\n",
       "      <td>NaN</td>\n",
       "      <td>NaN</td>\n",
       "      <td>NaN</td>\n",
       "      <td>NaN</td>\n",
       "    </tr>\n",
       "    <tr>\n",
       "      <th>n_estimators</th>\n",
       "      <td>20</td>\n",
       "      <td>30.000000</td>\n",
       "      <td>NaN</td>\n",
       "      <td>NaN</td>\n",
       "      <td>NaN</td>\n",
       "      <td>40</td>\n",
       "      <td>NaN</td>\n",
       "      <td>NaN</td>\n",
       "      <td>NaN</td>\n",
       "      <td>NaN</td>\n",
       "      <td>NaN</td>\n",
       "      <td>NaN</td>\n",
       "      <td>NaN</td>\n",
       "      <td>NaN</td>\n",
       "      <td>NaN</td>\n",
       "      <td>35</td>\n",
       "      <td>NaN</td>\n",
       "      <td>NaN</td>\n",
       "    </tr>\n",
       "    <tr>\n",
       "      <th>n_neighbors</th>\n",
       "      <td>NaN</td>\n",
       "      <td>NaN</td>\n",
       "      <td>NaN</td>\n",
       "      <td>NaN</td>\n",
       "      <td>NaN</td>\n",
       "      <td>NaN</td>\n",
       "      <td>NaN</td>\n",
       "      <td>NaN</td>\n",
       "      <td>NaN</td>\n",
       "      <td>4</td>\n",
       "      <td>NaN</td>\n",
       "      <td>NaN</td>\n",
       "      <td>NaN</td>\n",
       "      <td>NaN</td>\n",
       "      <td>NaN</td>\n",
       "      <td>NaN</td>\n",
       "      <td>NaN</td>\n",
       "      <td>NaN</td>\n",
       "    </tr>\n",
       "    <tr>\n",
       "      <th>oob_score</th>\n",
       "      <td>NaN</td>\n",
       "      <td>NaN</td>\n",
       "      <td>NaN</td>\n",
       "      <td>NaN</td>\n",
       "      <td>NaN</td>\n",
       "      <td>NaN</td>\n",
       "      <td>NaN</td>\n",
       "      <td>NaN</td>\n",
       "      <td>NaN</td>\n",
       "      <td>NaN</td>\n",
       "      <td>NaN</td>\n",
       "      <td>NaN</td>\n",
       "      <td>NaN</td>\n",
       "      <td>NaN</td>\n",
       "      <td>NaN</td>\n",
       "      <td>1</td>\n",
       "      <td>NaN</td>\n",
       "      <td>NaN</td>\n",
       "    </tr>\n",
       "    <tr>\n",
       "      <th>p</th>\n",
       "      <td>NaN</td>\n",
       "      <td>NaN</td>\n",
       "      <td>NaN</td>\n",
       "      <td>NaN</td>\n",
       "      <td>NaN</td>\n",
       "      <td>NaN</td>\n",
       "      <td>NaN</td>\n",
       "      <td>NaN</td>\n",
       "      <td>NaN</td>\n",
       "      <td>1</td>\n",
       "      <td>NaN</td>\n",
       "      <td>NaN</td>\n",
       "      <td>NaN</td>\n",
       "      <td>NaN</td>\n",
       "      <td>NaN</td>\n",
       "      <td>NaN</td>\n",
       "      <td>NaN</td>\n",
       "      <td>NaN</td>\n",
       "    </tr>\n",
       "    <tr>\n",
       "      <th>penalty</th>\n",
       "      <td>NaN</td>\n",
       "      <td>NaN</td>\n",
       "      <td>NaN</td>\n",
       "      <td>NaN</td>\n",
       "      <td>NaN</td>\n",
       "      <td>NaN</td>\n",
       "      <td>NaN</td>\n",
       "      <td>NaN</td>\n",
       "      <td>NaN</td>\n",
       "      <td>NaN</td>\n",
       "      <td>l2</td>\n",
       "      <td>NaN</td>\n",
       "      <td>NaN</td>\n",
       "      <td>NaN</td>\n",
       "      <td>NaN</td>\n",
       "      <td>NaN</td>\n",
       "      <td>NaN</td>\n",
       "      <td>l1</td>\n",
       "    </tr>\n",
       "    <tr>\n",
       "      <th>solver</th>\n",
       "      <td>NaN</td>\n",
       "      <td>NaN</td>\n",
       "      <td>NaN</td>\n",
       "      <td>NaN</td>\n",
       "      <td>NaN</td>\n",
       "      <td>NaN</td>\n",
       "      <td>NaN</td>\n",
       "      <td>NaN</td>\n",
       "      <td>NaN</td>\n",
       "      <td>NaN</td>\n",
       "      <td>NaN</td>\n",
       "      <td>liblinear</td>\n",
       "      <td>lbfgs</td>\n",
       "      <td>NaN</td>\n",
       "      <td>NaN</td>\n",
       "      <td>NaN</td>\n",
       "      <td>NaN</td>\n",
       "      <td>NaN</td>\n",
       "    </tr>\n",
       "    <tr>\n",
       "      <th>splitter</th>\n",
       "      <td>NaN</td>\n",
       "      <td>NaN</td>\n",
       "      <td>NaN</td>\n",
       "      <td>best</td>\n",
       "      <td>best</td>\n",
       "      <td>NaN</td>\n",
       "      <td>NaN</td>\n",
       "      <td>NaN</td>\n",
       "      <td>NaN</td>\n",
       "      <td>NaN</td>\n",
       "      <td>NaN</td>\n",
       "      <td>NaN</td>\n",
       "      <td>NaN</td>\n",
       "      <td>NaN</td>\n",
       "      <td>NaN</td>\n",
       "      <td>NaN</td>\n",
       "      <td>NaN</td>\n",
       "      <td>NaN</td>\n",
       "    </tr>\n",
       "    <tr>\n",
       "      <th>test</th>\n",
       "      <td>0.95614</td>\n",
       "      <td>0.938596</td>\n",
       "      <td>0.631579</td>\n",
       "      <td>0.95614</td>\n",
       "      <td>0.859649</td>\n",
       "      <td>0.947368</td>\n",
       "      <td>8.508772e-01</td>\n",
       "      <td>0.95614</td>\n",
       "      <td>9.649123e-01</td>\n",
       "      <td>0.903509</td>\n",
       "      <td>0.964912</td>\n",
       "      <td>0.947368</td>\n",
       "      <td>0.964912</td>\n",
       "      <td>0.95614</td>\n",
       "      <td>0.938596</td>\n",
       "      <td>0.95614</td>\n",
       "      <td>0.956140</td>\n",
       "      <td>0.982456</td>\n",
       "    </tr>\n",
       "    <tr>\n",
       "      <th>tol</th>\n",
       "      <td>NaN</td>\n",
       "      <td>NaN</td>\n",
       "      <td>NaN</td>\n",
       "      <td>NaN</td>\n",
       "      <td>NaN</td>\n",
       "      <td>NaN</td>\n",
       "      <td>NaN</td>\n",
       "      <td>1.66667e-06</td>\n",
       "      <td>1.000000e-08</td>\n",
       "      <td>NaN</td>\n",
       "      <td>0.0001</td>\n",
       "      <td>0.0001</td>\n",
       "      <td>NaN</td>\n",
       "      <td>NaN</td>\n",
       "      <td>1.42857e-05</td>\n",
       "      <td>NaN</td>\n",
       "      <td>0.000100</td>\n",
       "      <td>1.42857e-05</td>\n",
       "    </tr>\n",
       "    <tr>\n",
       "      <th>tr_time</th>\n",
       "      <td>0.253424</td>\n",
       "      <td>0.083720</td>\n",
       "      <td>0.016023</td>\n",
       "      <td>0.013877</td>\n",
       "      <td>0.013703</td>\n",
       "      <td>0.07001</td>\n",
       "      <td>1.746100e-02</td>\n",
       "      <td>0.16986</td>\n",
       "      <td>1.065410e+00</td>\n",
       "      <td>0.053045</td>\n",
       "      <td>0.513753</td>\n",
       "      <td>0.340674</td>\n",
       "      <td>2.11744</td>\n",
       "      <td>0.00742</td>\n",
       "      <td>0.051278</td>\n",
       "      <td>0.104402</td>\n",
       "      <td>0.041221</td>\n",
       "      <td>0.470292</td>\n",
       "    </tr>\n",
       "    <tr>\n",
       "      <th>train</th>\n",
       "      <td>0.989011</td>\n",
       "      <td>1.000000</td>\n",
       "      <td>0.643956</td>\n",
       "      <td>1</td>\n",
       "      <td>1</td>\n",
       "      <td>1</td>\n",
       "      <td>9.054945e-01</td>\n",
       "      <td>1</td>\n",
       "      <td>1.000000e+00</td>\n",
       "      <td>0.96044</td>\n",
       "      <td>0.967033</td>\n",
       "      <td>0.945055</td>\n",
       "      <td>1</td>\n",
       "      <td>0.962637</td>\n",
       "      <td>0.885714</td>\n",
       "      <td>1</td>\n",
       "      <td>0.951648</td>\n",
       "      <td>0.973626</td>\n",
       "    </tr>\n",
       "    <tr>\n",
       "      <th>var_smoothing</th>\n",
       "      <td>NaN</td>\n",
       "      <td>NaN</td>\n",
       "      <td>NaN</td>\n",
       "      <td>NaN</td>\n",
       "      <td>NaN</td>\n",
       "      <td>NaN</td>\n",
       "      <td>1.000000e-10</td>\n",
       "      <td>NaN</td>\n",
       "      <td>NaN</td>\n",
       "      <td>NaN</td>\n",
       "      <td>NaN</td>\n",
       "      <td>NaN</td>\n",
       "      <td>NaN</td>\n",
       "      <td>NaN</td>\n",
       "      <td>NaN</td>\n",
       "      <td>NaN</td>\n",
       "      <td>NaN</td>\n",
       "      <td>NaN</td>\n",
       "    </tr>\n",
       "    <tr>\n",
       "      <th>warm_start</th>\n",
       "      <td>NaN</td>\n",
       "      <td>NaN</td>\n",
       "      <td>NaN</td>\n",
       "      <td>NaN</td>\n",
       "      <td>NaN</td>\n",
       "      <td>1</td>\n",
       "      <td>NaN</td>\n",
       "      <td>NaN</td>\n",
       "      <td>NaN</td>\n",
       "      <td>NaN</td>\n",
       "      <td>NaN</td>\n",
       "      <td>NaN</td>\n",
       "      <td>NaN</td>\n",
       "      <td>NaN</td>\n",
       "      <td>1</td>\n",
       "      <td>1</td>\n",
       "      <td>NaN</td>\n",
       "      <td>NaN</td>\n",
       "    </tr>\n",
       "    <tr>\n",
       "      <th>weights</th>\n",
       "      <td>NaN</td>\n",
       "      <td>NaN</td>\n",
       "      <td>NaN</td>\n",
       "      <td>NaN</td>\n",
       "      <td>NaN</td>\n",
       "      <td>NaN</td>\n",
       "      <td>NaN</td>\n",
       "      <td>NaN</td>\n",
       "      <td>NaN</td>\n",
       "      <td>uniform</td>\n",
       "      <td>NaN</td>\n",
       "      <td>NaN</td>\n",
       "      <td>NaN</td>\n",
       "      <td>NaN</td>\n",
       "      <td>NaN</td>\n",
       "      <td>NaN</td>\n",
       "      <td>NaN</td>\n",
       "      <td>NaN</td>\n",
       "    </tr>\n",
       "  </tbody>\n",
       "</table>\n",
       "</div>"
      ],
      "text/plain": [
       "                   ada_boost    bagging  bernoulli decision_tree extra_tree  \\\n",
       "C                        NaN        NaN        NaN           NaN        NaN   \n",
       "activation               NaN        NaN        NaN           NaN        NaN   \n",
       "algorithm            SAMME.R        NaN        NaN           NaN        NaN   \n",
       "alpha                    NaN        NaN   0.100000           NaN        NaN   \n",
       "bootstrap_features       NaN   1.000000        NaN           NaN        NaN   \n",
       "criterion                NaN        NaN        NaN       entropy       gini   \n",
       "early_stopping           NaN        NaN        NaN           NaN        NaN   \n",
       "f1_test             0.956027   0.939002   0.488964       0.95643   0.858899   \n",
       "f1_train            0.988991   1.000000   0.521334             1          1   \n",
       "l2_regularization        NaN        NaN        NaN           NaN        NaN   \n",
       "learning_rate            0.7        NaN        NaN           NaN        NaN   \n",
       "loss                     NaN        NaN        NaN           NaN        NaN   \n",
       "metric                   NaN        NaN        NaN           NaN        NaN   \n",
       "multi_class              NaN        NaN        NaN           NaN        NaN   \n",
       "n_estimators              20  30.000000        NaN           NaN        NaN   \n",
       "n_neighbors              NaN        NaN        NaN           NaN        NaN   \n",
       "oob_score                NaN        NaN        NaN           NaN        NaN   \n",
       "p                        NaN        NaN        NaN           NaN        NaN   \n",
       "penalty                  NaN        NaN        NaN           NaN        NaN   \n",
       "solver                   NaN        NaN        NaN           NaN        NaN   \n",
       "splitter                 NaN        NaN        NaN          best       best   \n",
       "test                 0.95614   0.938596   0.631579       0.95614   0.859649   \n",
       "tol                      NaN        NaN        NaN           NaN        NaN   \n",
       "tr_time             0.253424   0.083720   0.016023      0.013877   0.013703   \n",
       "train               0.989011   1.000000   0.643956             1          1   \n",
       "var_smoothing            NaN        NaN        NaN           NaN        NaN   \n",
       "warm_start               NaN        NaN        NaN           NaN        NaN   \n",
       "weights                  NaN        NaN        NaN           NaN        NaN   \n",
       "\n",
       "                   extra_trees      gaussian gradient_boosting  \\\n",
       "C                          NaN           NaN               NaN   \n",
       "activation                 NaN           NaN               NaN   \n",
       "algorithm                  NaN           NaN               NaN   \n",
       "alpha                      NaN           NaN               NaN   \n",
       "bootstrap_features         NaN           NaN               NaN   \n",
       "criterion              entropy           NaN      friedman_mse   \n",
       "early_stopping             NaN           NaN               NaN   \n",
       "f1_test               0.947368  8.518619e-01          0.956245   \n",
       "f1_train                     1  9.052001e-01                 1   \n",
       "l2_regularization          NaN           NaN               NaN   \n",
       "learning_rate              NaN           NaN               0.7   \n",
       "loss                       NaN           NaN          deviance   \n",
       "metric                     NaN           NaN               NaN   \n",
       "multi_class                NaN           NaN               NaN   \n",
       "n_estimators                40           NaN               NaN   \n",
       "n_neighbors                NaN           NaN               NaN   \n",
       "oob_score                  NaN           NaN               NaN   \n",
       "p                          NaN           NaN               NaN   \n",
       "penalty                    NaN           NaN               NaN   \n",
       "solver                     NaN           NaN               NaN   \n",
       "splitter                   NaN           NaN               NaN   \n",
       "test                  0.947368  8.508772e-01           0.95614   \n",
       "tol                        NaN           NaN       1.66667e-06   \n",
       "tr_time                0.07001  1.746100e-02           0.16986   \n",
       "train                        1  9.054945e-01                 1   \n",
       "var_smoothing              NaN  1.000000e-10               NaN   \n",
       "warm_start                   1           NaN               NaN   \n",
       "weights                    NaN           NaN               NaN   \n",
       "\n",
       "                    hist_gradient_boosting k_neighbors linear_svc  \\\n",
       "C                                      NaN         NaN        1.4   \n",
       "activation                             NaN         NaN        NaN   \n",
       "algorithm                              NaN   ball_tree        NaN   \n",
       "alpha                                  NaN         NaN        NaN   \n",
       "bootstrap_features                     NaN         NaN        NaN   \n",
       "criterion                              NaN         NaN        NaN   \n",
       "early_stopping                         NaN         NaN        NaN   \n",
       "f1_test                       9.649123e-01    0.901359   0.964509   \n",
       "f1_train                      1.000000e+00    0.960003   0.966745   \n",
       "l2_regularization             0.000000e+00         NaN        NaN   \n",
       "learning_rate                          NaN         NaN        NaN   \n",
       "loss                                   NaN         NaN        NaN   \n",
       "metric                                 NaN         NaN        NaN   \n",
       "multi_class                            NaN         NaN        ovr   \n",
       "n_estimators                           NaN         NaN        NaN   \n",
       "n_neighbors                            NaN           4        NaN   \n",
       "oob_score                              NaN         NaN        NaN   \n",
       "p                                      NaN           1        NaN   \n",
       "penalty                                NaN         NaN         l2   \n",
       "solver                                 NaN         NaN        NaN   \n",
       "splitter                               NaN         NaN        NaN   \n",
       "test                          9.649123e-01    0.903509   0.964912   \n",
       "tol                           1.000000e-08         NaN     0.0001   \n",
       "tr_time                       1.065410e+00    0.053045   0.513753   \n",
       "train                         1.000000e+00     0.96044   0.967033   \n",
       "var_smoothing                          NaN         NaN        NaN   \n",
       "warm_start                             NaN         NaN        NaN   \n",
       "weights                                NaN     uniform        NaN   \n",
       "\n",
       "                   logistic_regression       mlp nearest_centroid  \\\n",
       "C                                  1.4       NaN              NaN   \n",
       "activation                         NaN  logistic              NaN   \n",
       "algorithm                          NaN       NaN              NaN   \n",
       "alpha                              NaN     2e-06              NaN   \n",
       "bootstrap_features                 NaN       NaN              NaN   \n",
       "criterion                          NaN       NaN              NaN   \n",
       "early_stopping                     NaN      True              NaN   \n",
       "f1_test                       0.946397  0.965208         0.955488   \n",
       "f1_train                      0.944029         1         0.962311   \n",
       "l2_regularization                  NaN       NaN              NaN   \n",
       "learning_rate                      NaN  constant              NaN   \n",
       "loss                               NaN       NaN              NaN   \n",
       "metric                             NaN       NaN           cosine   \n",
       "multi_class                        NaN       NaN              NaN   \n",
       "n_estimators                       NaN       NaN              NaN   \n",
       "n_neighbors                        NaN       NaN              NaN   \n",
       "oob_score                          NaN       NaN              NaN   \n",
       "p                                  NaN       NaN              NaN   \n",
       "penalty                            NaN       NaN              NaN   \n",
       "solver                       liblinear     lbfgs              NaN   \n",
       "splitter                           NaN       NaN              NaN   \n",
       "test                          0.947368  0.964912          0.95614   \n",
       "tol                             0.0001       NaN              NaN   \n",
       "tr_time                       0.340674   2.11744          0.00742   \n",
       "train                         0.945055         1         0.962637   \n",
       "var_smoothing                      NaN       NaN              NaN   \n",
       "warm_start                         NaN       NaN              NaN   \n",
       "weights                            NaN       NaN              NaN   \n",
       "\n",
       "                   passive_aggressive random_forest     ridge          sgd  \n",
       "C                                 NaN           NaN       NaN          NaN  \n",
       "activation                        NaN           NaN       NaN          NaN  \n",
       "algorithm                         NaN           NaN       NaN          NaN  \n",
       "alpha                             NaN           NaN  0.700000       0.0009  \n",
       "bootstrap_features                NaN           NaN       NaN          NaN  \n",
       "criterion                         NaN          gini       NaN          NaN  \n",
       "early_stopping                  False           NaN       NaN          NaN  \n",
       "f1_test                      0.939389      0.956245  0.955488     0.982362  \n",
       "f1_train                     0.887546             1  0.950957     0.973454  \n",
       "l2_regularization                 NaN           NaN       NaN          NaN  \n",
       "learning_rate                     NaN           NaN       NaN          NaN  \n",
       "loss                    squared_hinge           NaN       NaN        hinge  \n",
       "metric                            NaN           NaN       NaN          NaN  \n",
       "multi_class                       NaN           NaN       NaN          NaN  \n",
       "n_estimators                      NaN            35       NaN          NaN  \n",
       "n_neighbors                       NaN           NaN       NaN          NaN  \n",
       "oob_score                         NaN             1       NaN          NaN  \n",
       "p                                 NaN           NaN       NaN          NaN  \n",
       "penalty                           NaN           NaN       NaN           l1  \n",
       "solver                            NaN           NaN       NaN          NaN  \n",
       "splitter                          NaN           NaN       NaN          NaN  \n",
       "test                         0.938596       0.95614  0.956140     0.982456  \n",
       "tol                       1.42857e-05           NaN  0.000100  1.42857e-05  \n",
       "tr_time                      0.051278      0.104402  0.041221     0.470292  \n",
       "train                        0.885714             1  0.951648     0.973626  \n",
       "var_smoothing                     NaN           NaN       NaN          NaN  \n",
       "warm_start                          1             1       NaN          NaN  \n",
       "weights                           NaN           NaN       NaN          NaN  "
      ]
     },
     "execution_count": 28,
     "metadata": {},
     "output_type": "execute_result"
    }
   ],
   "source": [
    "df"
   ]
  },
  {
   "cell_type": "code",
   "execution_count": 29,
   "metadata": {
    "pycharm": {}
   },
   "outputs": [],
   "source": [
    "df.to_csv(result_path)"
   ]
  }
 ],
 "metadata": {
  "kernelspec": {
   "display_name": "Python 3",
   "language": "python",
   "name": "python3"
  },
  "language_info": {
   "codemirror_mode": {
    "name": "ipython",
    "version": 3
   },
   "file_extension": ".py",
   "mimetype": "text/x-python",
   "name": "python",
   "nbconvert_exporter": "python",
   "pygments_lexer": "ipython3",
   "version": "3.6.7"
  }
 },
 "nbformat": 4,
 "nbformat_minor": 1
}
