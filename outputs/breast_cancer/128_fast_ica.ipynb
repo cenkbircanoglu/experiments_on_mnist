{
 "cells": [
  {
   "cell_type": "code",
   "execution_count": 1,
   "metadata": {
    "pycharm": {}
   },
   "outputs": [],
   "source": [
    "import os\n",
    "import pandas as pd\n",
    "from sklearn.model_selection import StratifiedShuffleSplit\n",
    "\n",
    "from dimensionality_reduction import reduce_dimension\n",
    "import load_database\n",
    "from algorithms import *"
   ]
  },
  {
   "cell_type": "code",
   "execution_count": 2,
   "metadata": {
    "pycharm": {}
   },
   "outputs": [],
   "source": [
    "import warnings\n",
    "warnings.filterwarnings('ignore')"
   ]
  },
  {
   "cell_type": "code",
   "execution_count": 3,
   "metadata": {
    "pycharm": {}
   },
   "outputs": [],
   "source": [
    "database_name = os.environ['DATABASE']\n",
    "n_components = int(os.environ['N_COMPONENTS'])\n",
    "dimensionality_algorithm = os.environ['DIMENSIONALITY_ALGORITHM']"
   ]
  },
  {
   "cell_type": "code",
   "execution_count": 4,
   "metadata": {},
   "outputs": [],
   "source": [
    "result_path = 'results/%s_%s_%s.csv' %(database_name, n_components, dimensionality_algorithm)"
   ]
  },
  {
   "cell_type": "code",
   "execution_count": 5,
   "metadata": {},
   "outputs": [],
   "source": [
    "X, y = load_database.load(database_name)\n",
    "X = reduce_dimension(dimensionality_algorithm, X, n_components) if n_components else X"
   ]
  },
  {
   "cell_type": "code",
   "execution_count": 6,
   "metadata": {
    "pycharm": {}
   },
   "outputs": [
    {
     "data": {
      "text/plain": [
       "(569, 30)"
      ]
     },
     "execution_count": 6,
     "metadata": {},
     "output_type": "execute_result"
    }
   ],
   "source": [
    "X.shape"
   ]
  },
  {
   "cell_type": "code",
   "execution_count": 7,
   "metadata": {},
   "outputs": [],
   "source": [
    "results = {}"
   ]
  },
  {
   "cell_type": "code",
   "execution_count": 8,
   "metadata": {
    "pycharm": {}
   },
   "outputs": [],
   "source": [
    "sss = StratifiedShuffleSplit(n_splits=1, test_size=0.2)\n",
    "for train_index, test_index in sss.split(X, y):\n",
    "    X_train, X_test = X[train_index], X[test_index]\n",
    "    y_train, y_test = y[train_index], y[test_index]"
   ]
  },
  {
   "cell_type": "code",
   "execution_count": 9,
   "metadata": {
    "pycharm": {}
   },
   "outputs": [
    {
     "name": "stdout",
     "output_type": "stream",
     "text": [
      "0.3591510000000002\n",
      "{'algorithm': 'SAMME.R', 'learning_rate': 0.7, 'n_estimators': 70}\n",
      "0.8835164835164835\n",
      "1.0 0.9122807017543859 1.0 0.9106612685560054\n"
     ]
    }
   ],
   "source": [
    "result = train_test(X_train, y_train, X_test, y_test, 'ada_boost')\n",
    "results.update(result)"
   ]
  },
  {
   "cell_type": "code",
   "execution_count": 10,
   "metadata": {
    "pycharm": {}
   },
   "outputs": [
    {
     "name": "stdout",
     "output_type": "stream",
     "text": [
      "0.2063489999999999\n",
      "{'bootstrap_features': 0, 'n_estimators': 40}\n",
      "0.8725274725274725\n",
      "1.0 0.9210526315789473 1.0 0.9198789174107642\n"
     ]
    }
   ],
   "source": [
    "result = train_test(X_train, y_train, X_test, y_test, 'bagging')\n",
    "results.update(result)"
   ]
  },
  {
   "cell_type": "code",
   "execution_count": 11,
   "metadata": {
    "pycharm": {}
   },
   "outputs": [
    {
     "name": "stdout",
     "output_type": "stream",
     "text": [
      "0.07518500000000028\n",
      "{'criterion': 'entropy', 'n_estimators': 40, 'warm_start': 1}\n",
      "0.9054945054945055\n",
      "1.0 0.9122807017543859 1.0 0.9099722991689752\n"
     ]
    }
   ],
   "source": [
    "result = train_test(X_train, y_train, X_test, y_test, 'extra_trees')\n",
    "results.update(result)"
   ]
  },
  {
   "cell_type": "code",
   "execution_count": 12,
   "metadata": {
    "pycharm": {}
   },
   "outputs": [
    {
     "name": "stdout",
     "output_type": "stream",
     "text": [
      "0.1412239999999998\n",
      "{'criterion': 'entropy', 'n_estimators': 45, 'oob_score': 1, 'warm_start': 1}\n",
      "0.8923076923076924\n",
      "1.0 0.8947368421052632 1.0 0.8927935222672064\n"
     ]
    }
   ],
   "source": [
    "result = train_test(X_train, y_train, X_test, y_test, 'random_forest')\n",
    "results.update(result)"
   ]
  },
  {
   "cell_type": "code",
   "execution_count": 13,
   "metadata": {
    "pycharm": {}
   },
   "outputs": [
    {
     "name": "stdout",
     "output_type": "stream",
     "text": [
      "0.3233570000000001\n",
      "{'C': 1.4, 'solver': 'sag', 'tol': 0.0001}\n",
      "0.8791208791208791\n",
      "0.9538461538461539 0.9473684210526315 0.9532246469237726 0.9463967611336033\n"
     ]
    }
   ],
   "source": [
    "result = train_test(X_train, y_train, X_test, y_test, 'logistic_regression')\n",
    "results.update(result)"
   ]
  },
  {
   "cell_type": "code",
   "execution_count": 14,
   "metadata": {
    "pycharm": {}
   },
   "outputs": [
    {
     "name": "stdout",
     "output_type": "stream",
     "text": [
      "0.36576600000000026\n",
      "{'early_stopping': False, 'loss': 'squared_hinge', 'tol': 0.0001, 'warm_start': 1}\n",
      "0.9516483516483516\n",
      "0.8505494505494505 0.8508771929824561 0.8398325812118915 0.8398315711407005\n"
     ]
    }
   ],
   "source": [
    "result = train_test(X_train, y_train, X_test, y_test, 'passive_aggressive')\n",
    "results.update(result)"
   ]
  },
  {
   "cell_type": "code",
   "execution_count": 15,
   "metadata": {
    "pycharm": {}
   },
   "outputs": [
    {
     "name": "stdout",
     "output_type": "stream",
     "text": [
      "0.3301999999999996\n",
      "{'alpha': 0.5, 'tol': 0.0001}\n",
      "0.9428571428571428\n",
      "0.9648351648351648 0.9736842105263158 0.9645015879993609 0.9734654095556352\n"
     ]
    }
   ],
   "source": [
    "result = train_test(X_train, y_train, X_test, y_test, 'ridge')\n",
    "results.update(result)"
   ]
  },
  {
   "cell_type": "code",
   "execution_count": 16,
   "metadata": {
    "pycharm": {}
   },
   "outputs": [
    {
     "name": "stdout",
     "output_type": "stream",
     "text": [
      "0.8851120000000003\n",
      "{'alpha': 0.0009, 'loss': 'squared_hinge', 'penalty': 'l1', 'tol': 1.6666666666666667e-05}\n",
      "0.9582417582417583\n",
      "0.9582417582417583 0.9473684210526315 0.9577475335567329 0.9463967611336033\n"
     ]
    }
   ],
   "source": [
    "result = train_test(X_train, y_train, X_test, y_test, 'sgd')\n",
    "results.update(result)"
   ]
  },
  {
   "cell_type": "code",
   "execution_count": 17,
   "metadata": {
    "pycharm": {}
   },
   "outputs": [
    {
     "name": "stdout",
     "output_type": "stream",
     "text": [
      "0.323715\n",
      "{'alpha': 0.1}\n",
      "0.6307692307692307\n",
      "0.6637362637362637 0.631578947368421 0.5617535990979974 0.48896434634974534\n"
     ]
    }
   ],
   "source": [
    "result = train_test(X_train, y_train, X_test, y_test, 'bernoulli')\n",
    "results.update(result)"
   ]
  },
  {
   "cell_type": "code",
   "execution_count": 18,
   "metadata": {
    "pycharm": {}
   },
   "outputs": [
    {
     "name": "stdout",
     "output_type": "stream",
     "text": [
      "0.055600000000000094\n",
      "{'var_smoothing': 1e-10}\n",
      "0.8703296703296703\n",
      "0.8747252747252747 0.8771929824561403 0.8719170184527774 0.8749257759784075\n"
     ]
    }
   ],
   "source": [
    "result = train_test(X_train, y_train, X_test, y_test, 'gaussian')\n",
    "results.update(result)"
   ]
  },
  {
   "cell_type": "code",
   "execution_count": 19,
   "metadata": {
    "pycharm": {}
   },
   "outputs": [
    {
     "name": "stdout",
     "output_type": "stream",
     "text": [
      "0.049447999999999936\n",
      "{'algorithm': 'ball_tree', 'n_neighbors': 4, 'p': 2, 'weights': 'uniform'}\n",
      "0.8285714285714286\n",
      "0.9296703296703297 0.8333333333333334 0.9281610251509916 0.8186880604058517\n"
     ]
    }
   ],
   "source": [
    "result = train_test(X_train, y_train, X_test, y_test, 'k_neighbors')\n",
    "results.update(result)"
   ]
  },
  {
   "cell_type": "code",
   "execution_count": 20,
   "metadata": {
    "pycharm": {}
   },
   "outputs": [
    {
     "name": "stdout",
     "output_type": "stream",
     "text": [
      "0.008294999999999497\n",
      "{'metric': 'cosine'}\n",
      "0.8549450549450549\n",
      "0.8813186813186813 0.9298245614035088 0.8822718675880562 0.9294494170608614\n"
     ]
    }
   ],
   "source": [
    "result = train_test(X_train, y_train, X_test, y_test, 'nearest_centroid')\n",
    "results.update(result)"
   ]
  },
  {
   "cell_type": "code",
   "execution_count": 21,
   "metadata": {
    "pycharm": {}
   },
   "outputs": [
    {
     "name": "stdout",
     "output_type": "stream",
     "text": [
      "2.495806000000001\n",
      "{'activation': 'relu', 'alpha': 5e-06, 'early_stopping': True, 'learning_rate': 'invscaling', 'solver': 'lbfgs'}\n",
      "0.9516483516483516\n",
      "0.989010989010989 0.9824561403508771 0.9890044036317457 0.9824561403508771\n"
     ]
    }
   ],
   "source": [
    "result = train_test(X_train, y_train, X_test, y_test, 'mlp')\n",
    "results.update(result)"
   ]
  },
  {
   "cell_type": "code",
   "execution_count": 22,
   "metadata": {
    "pycharm": {}
   },
   "outputs": [
    {
     "name": "stdout",
     "output_type": "stream",
     "text": [
      "0.5146860000000011\n",
      "{'C': 0.8, 'multi_class': 'ovr', 'penalty': 'l2', 'tol': 0.0001}\n",
      "0.9428571428571428\n",
      "0.9692307692307692 0.9649122807017544 0.9690298207539587 0.9645092460881936\n"
     ]
    }
   ],
   "source": [
    "result = train_test(X_train, y_train, X_test, y_test, 'linear_svc')\n",
    "results.update(result)"
   ]
  },
  {
   "cell_type": "code",
   "execution_count": 23,
   "metadata": {
    "pycharm": {}
   },
   "outputs": [
    {
     "name": "stdout",
     "output_type": "stream",
     "text": [
      "0.30444799999999894\n",
      "{'criterion': 'entropy', 'splitter': 'best'}\n",
      "0.8\n",
      "1.0 0.7807017543859649 1.0 0.7758167242308058\n"
     ]
    }
   ],
   "source": [
    "result = train_test(X_train, y_train, X_test, y_test, 'decision_tree')\n",
    "results.update(result)"
   ]
  },
  {
   "cell_type": "code",
   "execution_count": 24,
   "metadata": {
    "pycharm": {}
   },
   "outputs": [
    {
     "name": "stdout",
     "output_type": "stream",
     "text": [
      "0.011244000000001364\n",
      "{'criterion': 'entropy', 'splitter': 'best'}\n",
      "0.756043956043956\n",
      "1.0 0.8596491228070176 1.0 0.8596491228070176\n"
     ]
    }
   ],
   "source": [
    "result = train_test(X_train, y_train, X_test, y_test, 'extra_tree')\n",
    "results.update(result)"
   ]
  },
  {
   "cell_type": "code",
   "execution_count": 25,
   "metadata": {
    "pycharm": {}
   },
   "outputs": [
    {
     "name": "stdout",
     "output_type": "stream",
     "text": [
      "0.23754799999999854\n",
      "{'criterion': 'friedman_mse', 'learning_rate': 0.8, 'loss': 'deviance', 'tol': 5e-06}\n",
      "0.8857142857142857\n",
      "1.0 0.9385964912280702 1.0 0.9376836024305945\n"
     ]
    }
   ],
   "source": [
    "result = train_test(X_train, y_train, X_test, y_test, 'gradient_boosting')\n",
    "results.update(result)"
   ]
  },
  {
   "cell_type": "code",
   "execution_count": 26,
   "metadata": {
    "pycharm": {}
   },
   "outputs": [
    {
     "name": "stdout",
     "output_type": "stream",
     "text": [
      "1.2136530000000008\n",
      "{'l2_regularization': 0, 'tol': 1e-08}\n",
      "0.8725274725274725\n",
      "1.0 0.9035087719298246 1.0 0.9013593586615545\n"
     ]
    }
   ],
   "source": [
    "result = train_test(X_train, y_train, X_test, y_test, 'hist_gradient_boosting')\n",
    "results.update(result)"
   ]
  },
  {
   "cell_type": "code",
   "execution_count": 27,
   "metadata": {
    "pycharm": {}
   },
   "outputs": [],
   "source": [
    "df = pd.DataFrame.from_records(results)"
   ]
  },
  {
   "cell_type": "code",
   "execution_count": 28,
   "metadata": {
    "pycharm": {}
   },
   "outputs": [
    {
     "data": {
      "text/html": [
       "<div>\n",
       "<style scoped>\n",
       "    .dataframe tbody tr th:only-of-type {\n",
       "        vertical-align: middle;\n",
       "    }\n",
       "\n",
       "    .dataframe tbody tr th {\n",
       "        vertical-align: top;\n",
       "    }\n",
       "\n",
       "    .dataframe thead th {\n",
       "        text-align: right;\n",
       "    }\n",
       "</style>\n",
       "<table border=\"1\" class=\"dataframe\">\n",
       "  <thead>\n",
       "    <tr style=\"text-align: right;\">\n",
       "      <th></th>\n",
       "      <th>ada_boost</th>\n",
       "      <th>bagging</th>\n",
       "      <th>bernoulli</th>\n",
       "      <th>decision_tree</th>\n",
       "      <th>extra_tree</th>\n",
       "      <th>extra_trees</th>\n",
       "      <th>gaussian</th>\n",
       "      <th>gradient_boosting</th>\n",
       "      <th>hist_gradient_boosting</th>\n",
       "      <th>k_neighbors</th>\n",
       "      <th>linear_svc</th>\n",
       "      <th>logistic_regression</th>\n",
       "      <th>mlp</th>\n",
       "      <th>nearest_centroid</th>\n",
       "      <th>passive_aggressive</th>\n",
       "      <th>random_forest</th>\n",
       "      <th>ridge</th>\n",
       "      <th>sgd</th>\n",
       "    </tr>\n",
       "  </thead>\n",
       "  <tbody>\n",
       "    <tr>\n",
       "      <th>C</th>\n",
       "      <td>NaN</td>\n",
       "      <td>NaN</td>\n",
       "      <td>NaN</td>\n",
       "      <td>NaN</td>\n",
       "      <td>NaN</td>\n",
       "      <td>NaN</td>\n",
       "      <td>NaN</td>\n",
       "      <td>NaN</td>\n",
       "      <td>NaN</td>\n",
       "      <td>NaN</td>\n",
       "      <td>0.8</td>\n",
       "      <td>1.4</td>\n",
       "      <td>NaN</td>\n",
       "      <td>NaN</td>\n",
       "      <td>NaN</td>\n",
       "      <td>NaN</td>\n",
       "      <td>NaN</td>\n",
       "      <td>NaN</td>\n",
       "    </tr>\n",
       "    <tr>\n",
       "      <th>activation</th>\n",
       "      <td>NaN</td>\n",
       "      <td>NaN</td>\n",
       "      <td>NaN</td>\n",
       "      <td>NaN</td>\n",
       "      <td>NaN</td>\n",
       "      <td>NaN</td>\n",
       "      <td>NaN</td>\n",
       "      <td>NaN</td>\n",
       "      <td>NaN</td>\n",
       "      <td>NaN</td>\n",
       "      <td>NaN</td>\n",
       "      <td>NaN</td>\n",
       "      <td>relu</td>\n",
       "      <td>NaN</td>\n",
       "      <td>NaN</td>\n",
       "      <td>NaN</td>\n",
       "      <td>NaN</td>\n",
       "      <td>NaN</td>\n",
       "    </tr>\n",
       "    <tr>\n",
       "      <th>algorithm</th>\n",
       "      <td>SAMME.R</td>\n",
       "      <td>NaN</td>\n",
       "      <td>NaN</td>\n",
       "      <td>NaN</td>\n",
       "      <td>NaN</td>\n",
       "      <td>NaN</td>\n",
       "      <td>NaN</td>\n",
       "      <td>NaN</td>\n",
       "      <td>NaN</td>\n",
       "      <td>ball_tree</td>\n",
       "      <td>NaN</td>\n",
       "      <td>NaN</td>\n",
       "      <td>NaN</td>\n",
       "      <td>NaN</td>\n",
       "      <td>NaN</td>\n",
       "      <td>NaN</td>\n",
       "      <td>NaN</td>\n",
       "      <td>NaN</td>\n",
       "    </tr>\n",
       "    <tr>\n",
       "      <th>alpha</th>\n",
       "      <td>NaN</td>\n",
       "      <td>NaN</td>\n",
       "      <td>0.100000</td>\n",
       "      <td>NaN</td>\n",
       "      <td>NaN</td>\n",
       "      <td>NaN</td>\n",
       "      <td>NaN</td>\n",
       "      <td>NaN</td>\n",
       "      <td>NaN</td>\n",
       "      <td>NaN</td>\n",
       "      <td>NaN</td>\n",
       "      <td>NaN</td>\n",
       "      <td>5e-06</td>\n",
       "      <td>NaN</td>\n",
       "      <td>NaN</td>\n",
       "      <td>NaN</td>\n",
       "      <td>0.500000</td>\n",
       "      <td>0.0009</td>\n",
       "    </tr>\n",
       "    <tr>\n",
       "      <th>bootstrap_features</th>\n",
       "      <td>NaN</td>\n",
       "      <td>0.000000</td>\n",
       "      <td>NaN</td>\n",
       "      <td>NaN</td>\n",
       "      <td>NaN</td>\n",
       "      <td>NaN</td>\n",
       "      <td>NaN</td>\n",
       "      <td>NaN</td>\n",
       "      <td>NaN</td>\n",
       "      <td>NaN</td>\n",
       "      <td>NaN</td>\n",
       "      <td>NaN</td>\n",
       "      <td>NaN</td>\n",
       "      <td>NaN</td>\n",
       "      <td>NaN</td>\n",
       "      <td>NaN</td>\n",
       "      <td>NaN</td>\n",
       "      <td>NaN</td>\n",
       "    </tr>\n",
       "    <tr>\n",
       "      <th>criterion</th>\n",
       "      <td>NaN</td>\n",
       "      <td>NaN</td>\n",
       "      <td>NaN</td>\n",
       "      <td>entropy</td>\n",
       "      <td>entropy</td>\n",
       "      <td>entropy</td>\n",
       "      <td>NaN</td>\n",
       "      <td>friedman_mse</td>\n",
       "      <td>NaN</td>\n",
       "      <td>NaN</td>\n",
       "      <td>NaN</td>\n",
       "      <td>NaN</td>\n",
       "      <td>NaN</td>\n",
       "      <td>NaN</td>\n",
       "      <td>NaN</td>\n",
       "      <td>entropy</td>\n",
       "      <td>NaN</td>\n",
       "      <td>NaN</td>\n",
       "    </tr>\n",
       "    <tr>\n",
       "      <th>early_stopping</th>\n",
       "      <td>NaN</td>\n",
       "      <td>NaN</td>\n",
       "      <td>NaN</td>\n",
       "      <td>NaN</td>\n",
       "      <td>NaN</td>\n",
       "      <td>NaN</td>\n",
       "      <td>NaN</td>\n",
       "      <td>NaN</td>\n",
       "      <td>NaN</td>\n",
       "      <td>NaN</td>\n",
       "      <td>NaN</td>\n",
       "      <td>NaN</td>\n",
       "      <td>True</td>\n",
       "      <td>NaN</td>\n",
       "      <td>False</td>\n",
       "      <td>NaN</td>\n",
       "      <td>NaN</td>\n",
       "      <td>NaN</td>\n",
       "    </tr>\n",
       "    <tr>\n",
       "      <th>f1_test</th>\n",
       "      <td>0.910661</td>\n",
       "      <td>0.919879</td>\n",
       "      <td>0.488964</td>\n",
       "      <td>0.775817</td>\n",
       "      <td>0.859649</td>\n",
       "      <td>0.909972</td>\n",
       "      <td>8.749258e-01</td>\n",
       "      <td>0.937684</td>\n",
       "      <td>9.013594e-01</td>\n",
       "      <td>0.818688</td>\n",
       "      <td>0.964509</td>\n",
       "      <td>0.946397</td>\n",
       "      <td>0.982456</td>\n",
       "      <td>0.929449</td>\n",
       "      <td>0.839832</td>\n",
       "      <td>0.892794</td>\n",
       "      <td>0.973465</td>\n",
       "      <td>0.946397</td>\n",
       "    </tr>\n",
       "    <tr>\n",
       "      <th>f1_train</th>\n",
       "      <td>1</td>\n",
       "      <td>1.000000</td>\n",
       "      <td>0.561754</td>\n",
       "      <td>1</td>\n",
       "      <td>1</td>\n",
       "      <td>1</td>\n",
       "      <td>8.719170e-01</td>\n",
       "      <td>1</td>\n",
       "      <td>1.000000e+00</td>\n",
       "      <td>0.928161</td>\n",
       "      <td>0.96903</td>\n",
       "      <td>0.953225</td>\n",
       "      <td>0.989004</td>\n",
       "      <td>0.882272</td>\n",
       "      <td>0.839833</td>\n",
       "      <td>1</td>\n",
       "      <td>0.964502</td>\n",
       "      <td>0.957748</td>\n",
       "    </tr>\n",
       "    <tr>\n",
       "      <th>l2_regularization</th>\n",
       "      <td>NaN</td>\n",
       "      <td>NaN</td>\n",
       "      <td>NaN</td>\n",
       "      <td>NaN</td>\n",
       "      <td>NaN</td>\n",
       "      <td>NaN</td>\n",
       "      <td>NaN</td>\n",
       "      <td>NaN</td>\n",
       "      <td>0.000000e+00</td>\n",
       "      <td>NaN</td>\n",
       "      <td>NaN</td>\n",
       "      <td>NaN</td>\n",
       "      <td>NaN</td>\n",
       "      <td>NaN</td>\n",
       "      <td>NaN</td>\n",
       "      <td>NaN</td>\n",
       "      <td>NaN</td>\n",
       "      <td>NaN</td>\n",
       "    </tr>\n",
       "    <tr>\n",
       "      <th>learning_rate</th>\n",
       "      <td>0.7</td>\n",
       "      <td>NaN</td>\n",
       "      <td>NaN</td>\n",
       "      <td>NaN</td>\n",
       "      <td>NaN</td>\n",
       "      <td>NaN</td>\n",
       "      <td>NaN</td>\n",
       "      <td>0.8</td>\n",
       "      <td>NaN</td>\n",
       "      <td>NaN</td>\n",
       "      <td>NaN</td>\n",
       "      <td>NaN</td>\n",
       "      <td>invscaling</td>\n",
       "      <td>NaN</td>\n",
       "      <td>NaN</td>\n",
       "      <td>NaN</td>\n",
       "      <td>NaN</td>\n",
       "      <td>NaN</td>\n",
       "    </tr>\n",
       "    <tr>\n",
       "      <th>loss</th>\n",
       "      <td>NaN</td>\n",
       "      <td>NaN</td>\n",
       "      <td>NaN</td>\n",
       "      <td>NaN</td>\n",
       "      <td>NaN</td>\n",
       "      <td>NaN</td>\n",
       "      <td>NaN</td>\n",
       "      <td>deviance</td>\n",
       "      <td>NaN</td>\n",
       "      <td>NaN</td>\n",
       "      <td>NaN</td>\n",
       "      <td>NaN</td>\n",
       "      <td>NaN</td>\n",
       "      <td>NaN</td>\n",
       "      <td>squared_hinge</td>\n",
       "      <td>NaN</td>\n",
       "      <td>NaN</td>\n",
       "      <td>squared_hinge</td>\n",
       "    </tr>\n",
       "    <tr>\n",
       "      <th>metric</th>\n",
       "      <td>NaN</td>\n",
       "      <td>NaN</td>\n",
       "      <td>NaN</td>\n",
       "      <td>NaN</td>\n",
       "      <td>NaN</td>\n",
       "      <td>NaN</td>\n",
       "      <td>NaN</td>\n",
       "      <td>NaN</td>\n",
       "      <td>NaN</td>\n",
       "      <td>NaN</td>\n",
       "      <td>NaN</td>\n",
       "      <td>NaN</td>\n",
       "      <td>NaN</td>\n",
       "      <td>cosine</td>\n",
       "      <td>NaN</td>\n",
       "      <td>NaN</td>\n",
       "      <td>NaN</td>\n",
       "      <td>NaN</td>\n",
       "    </tr>\n",
       "    <tr>\n",
       "      <th>multi_class</th>\n",
       "      <td>NaN</td>\n",
       "      <td>NaN</td>\n",
       "      <td>NaN</td>\n",
       "      <td>NaN</td>\n",
       "      <td>NaN</td>\n",
       "      <td>NaN</td>\n",
       "      <td>NaN</td>\n",
       "      <td>NaN</td>\n",
       "      <td>NaN</td>\n",
       "      <td>NaN</td>\n",
       "      <td>ovr</td>\n",
       "      <td>NaN</td>\n",
       "      <td>NaN</td>\n",
       "      <td>NaN</td>\n",
       "      <td>NaN</td>\n",
       "      <td>NaN</td>\n",
       "      <td>NaN</td>\n",
       "      <td>NaN</td>\n",
       "    </tr>\n",
       "    <tr>\n",
       "      <th>n_estimators</th>\n",
       "      <td>70</td>\n",
       "      <td>40.000000</td>\n",
       "      <td>NaN</td>\n",
       "      <td>NaN</td>\n",
       "      <td>NaN</td>\n",
       "      <td>40</td>\n",
       "      <td>NaN</td>\n",
       "      <td>NaN</td>\n",
       "      <td>NaN</td>\n",
       "      <td>NaN</td>\n",
       "      <td>NaN</td>\n",
       "      <td>NaN</td>\n",
       "      <td>NaN</td>\n",
       "      <td>NaN</td>\n",
       "      <td>NaN</td>\n",
       "      <td>45</td>\n",
       "      <td>NaN</td>\n",
       "      <td>NaN</td>\n",
       "    </tr>\n",
       "    <tr>\n",
       "      <th>n_neighbors</th>\n",
       "      <td>NaN</td>\n",
       "      <td>NaN</td>\n",
       "      <td>NaN</td>\n",
       "      <td>NaN</td>\n",
       "      <td>NaN</td>\n",
       "      <td>NaN</td>\n",
       "      <td>NaN</td>\n",
       "      <td>NaN</td>\n",
       "      <td>NaN</td>\n",
       "      <td>4</td>\n",
       "      <td>NaN</td>\n",
       "      <td>NaN</td>\n",
       "      <td>NaN</td>\n",
       "      <td>NaN</td>\n",
       "      <td>NaN</td>\n",
       "      <td>NaN</td>\n",
       "      <td>NaN</td>\n",
       "      <td>NaN</td>\n",
       "    </tr>\n",
       "    <tr>\n",
       "      <th>oob_score</th>\n",
       "      <td>NaN</td>\n",
       "      <td>NaN</td>\n",
       "      <td>NaN</td>\n",
       "      <td>NaN</td>\n",
       "      <td>NaN</td>\n",
       "      <td>NaN</td>\n",
       "      <td>NaN</td>\n",
       "      <td>NaN</td>\n",
       "      <td>NaN</td>\n",
       "      <td>NaN</td>\n",
       "      <td>NaN</td>\n",
       "      <td>NaN</td>\n",
       "      <td>NaN</td>\n",
       "      <td>NaN</td>\n",
       "      <td>NaN</td>\n",
       "      <td>1</td>\n",
       "      <td>NaN</td>\n",
       "      <td>NaN</td>\n",
       "    </tr>\n",
       "    <tr>\n",
       "      <th>p</th>\n",
       "      <td>NaN</td>\n",
       "      <td>NaN</td>\n",
       "      <td>NaN</td>\n",
       "      <td>NaN</td>\n",
       "      <td>NaN</td>\n",
       "      <td>NaN</td>\n",
       "      <td>NaN</td>\n",
       "      <td>NaN</td>\n",
       "      <td>NaN</td>\n",
       "      <td>2</td>\n",
       "      <td>NaN</td>\n",
       "      <td>NaN</td>\n",
       "      <td>NaN</td>\n",
       "      <td>NaN</td>\n",
       "      <td>NaN</td>\n",
       "      <td>NaN</td>\n",
       "      <td>NaN</td>\n",
       "      <td>NaN</td>\n",
       "    </tr>\n",
       "    <tr>\n",
       "      <th>penalty</th>\n",
       "      <td>NaN</td>\n",
       "      <td>NaN</td>\n",
       "      <td>NaN</td>\n",
       "      <td>NaN</td>\n",
       "      <td>NaN</td>\n",
       "      <td>NaN</td>\n",
       "      <td>NaN</td>\n",
       "      <td>NaN</td>\n",
       "      <td>NaN</td>\n",
       "      <td>NaN</td>\n",
       "      <td>l2</td>\n",
       "      <td>NaN</td>\n",
       "      <td>NaN</td>\n",
       "      <td>NaN</td>\n",
       "      <td>NaN</td>\n",
       "      <td>NaN</td>\n",
       "      <td>NaN</td>\n",
       "      <td>l1</td>\n",
       "    </tr>\n",
       "    <tr>\n",
       "      <th>solver</th>\n",
       "      <td>NaN</td>\n",
       "      <td>NaN</td>\n",
       "      <td>NaN</td>\n",
       "      <td>NaN</td>\n",
       "      <td>NaN</td>\n",
       "      <td>NaN</td>\n",
       "      <td>NaN</td>\n",
       "      <td>NaN</td>\n",
       "      <td>NaN</td>\n",
       "      <td>NaN</td>\n",
       "      <td>NaN</td>\n",
       "      <td>sag</td>\n",
       "      <td>lbfgs</td>\n",
       "      <td>NaN</td>\n",
       "      <td>NaN</td>\n",
       "      <td>NaN</td>\n",
       "      <td>NaN</td>\n",
       "      <td>NaN</td>\n",
       "    </tr>\n",
       "    <tr>\n",
       "      <th>splitter</th>\n",
       "      <td>NaN</td>\n",
       "      <td>NaN</td>\n",
       "      <td>NaN</td>\n",
       "      <td>best</td>\n",
       "      <td>best</td>\n",
       "      <td>NaN</td>\n",
       "      <td>NaN</td>\n",
       "      <td>NaN</td>\n",
       "      <td>NaN</td>\n",
       "      <td>NaN</td>\n",
       "      <td>NaN</td>\n",
       "      <td>NaN</td>\n",
       "      <td>NaN</td>\n",
       "      <td>NaN</td>\n",
       "      <td>NaN</td>\n",
       "      <td>NaN</td>\n",
       "      <td>NaN</td>\n",
       "      <td>NaN</td>\n",
       "    </tr>\n",
       "    <tr>\n",
       "      <th>test</th>\n",
       "      <td>0.912281</td>\n",
       "      <td>0.921053</td>\n",
       "      <td>0.631579</td>\n",
       "      <td>0.780702</td>\n",
       "      <td>0.859649</td>\n",
       "      <td>0.912281</td>\n",
       "      <td>8.771930e-01</td>\n",
       "      <td>0.938596</td>\n",
       "      <td>9.035088e-01</td>\n",
       "      <td>0.833333</td>\n",
       "      <td>0.964912</td>\n",
       "      <td>0.947368</td>\n",
       "      <td>0.982456</td>\n",
       "      <td>0.929825</td>\n",
       "      <td>0.850877</td>\n",
       "      <td>0.894737</td>\n",
       "      <td>0.973684</td>\n",
       "      <td>0.947368</td>\n",
       "    </tr>\n",
       "    <tr>\n",
       "      <th>tol</th>\n",
       "      <td>NaN</td>\n",
       "      <td>NaN</td>\n",
       "      <td>NaN</td>\n",
       "      <td>NaN</td>\n",
       "      <td>NaN</td>\n",
       "      <td>NaN</td>\n",
       "      <td>NaN</td>\n",
       "      <td>5e-06</td>\n",
       "      <td>1.000000e-08</td>\n",
       "      <td>NaN</td>\n",
       "      <td>0.0001</td>\n",
       "      <td>0.0001</td>\n",
       "      <td>NaN</td>\n",
       "      <td>NaN</td>\n",
       "      <td>0.0001</td>\n",
       "      <td>NaN</td>\n",
       "      <td>0.000100</td>\n",
       "      <td>1.66667e-05</td>\n",
       "    </tr>\n",
       "    <tr>\n",
       "      <th>tr_time</th>\n",
       "      <td>0.359151</td>\n",
       "      <td>0.206349</td>\n",
       "      <td>0.323715</td>\n",
       "      <td>0.304448</td>\n",
       "      <td>0.011244</td>\n",
       "      <td>0.075185</td>\n",
       "      <td>5.560000e-02</td>\n",
       "      <td>0.237548</td>\n",
       "      <td>1.213653e+00</td>\n",
       "      <td>0.049448</td>\n",
       "      <td>0.514686</td>\n",
       "      <td>0.323357</td>\n",
       "      <td>2.49581</td>\n",
       "      <td>0.008295</td>\n",
       "      <td>0.365766</td>\n",
       "      <td>0.141224</td>\n",
       "      <td>0.330200</td>\n",
       "      <td>0.885112</td>\n",
       "    </tr>\n",
       "    <tr>\n",
       "      <th>train</th>\n",
       "      <td>1</td>\n",
       "      <td>1.000000</td>\n",
       "      <td>0.663736</td>\n",
       "      <td>1</td>\n",
       "      <td>1</td>\n",
       "      <td>1</td>\n",
       "      <td>8.747253e-01</td>\n",
       "      <td>1</td>\n",
       "      <td>1.000000e+00</td>\n",
       "      <td>0.92967</td>\n",
       "      <td>0.969231</td>\n",
       "      <td>0.953846</td>\n",
       "      <td>0.989011</td>\n",
       "      <td>0.881319</td>\n",
       "      <td>0.850549</td>\n",
       "      <td>1</td>\n",
       "      <td>0.964835</td>\n",
       "      <td>0.958242</td>\n",
       "    </tr>\n",
       "    <tr>\n",
       "      <th>var_smoothing</th>\n",
       "      <td>NaN</td>\n",
       "      <td>NaN</td>\n",
       "      <td>NaN</td>\n",
       "      <td>NaN</td>\n",
       "      <td>NaN</td>\n",
       "      <td>NaN</td>\n",
       "      <td>1.000000e-10</td>\n",
       "      <td>NaN</td>\n",
       "      <td>NaN</td>\n",
       "      <td>NaN</td>\n",
       "      <td>NaN</td>\n",
       "      <td>NaN</td>\n",
       "      <td>NaN</td>\n",
       "      <td>NaN</td>\n",
       "      <td>NaN</td>\n",
       "      <td>NaN</td>\n",
       "      <td>NaN</td>\n",
       "      <td>NaN</td>\n",
       "    </tr>\n",
       "    <tr>\n",
       "      <th>warm_start</th>\n",
       "      <td>NaN</td>\n",
       "      <td>NaN</td>\n",
       "      <td>NaN</td>\n",
       "      <td>NaN</td>\n",
       "      <td>NaN</td>\n",
       "      <td>1</td>\n",
       "      <td>NaN</td>\n",
       "      <td>NaN</td>\n",
       "      <td>NaN</td>\n",
       "      <td>NaN</td>\n",
       "      <td>NaN</td>\n",
       "      <td>NaN</td>\n",
       "      <td>NaN</td>\n",
       "      <td>NaN</td>\n",
       "      <td>1</td>\n",
       "      <td>1</td>\n",
       "      <td>NaN</td>\n",
       "      <td>NaN</td>\n",
       "    </tr>\n",
       "    <tr>\n",
       "      <th>weights</th>\n",
       "      <td>NaN</td>\n",
       "      <td>NaN</td>\n",
       "      <td>NaN</td>\n",
       "      <td>NaN</td>\n",
       "      <td>NaN</td>\n",
       "      <td>NaN</td>\n",
       "      <td>NaN</td>\n",
       "      <td>NaN</td>\n",
       "      <td>NaN</td>\n",
       "      <td>uniform</td>\n",
       "      <td>NaN</td>\n",
       "      <td>NaN</td>\n",
       "      <td>NaN</td>\n",
       "      <td>NaN</td>\n",
       "      <td>NaN</td>\n",
       "      <td>NaN</td>\n",
       "      <td>NaN</td>\n",
       "      <td>NaN</td>\n",
       "    </tr>\n",
       "  </tbody>\n",
       "</table>\n",
       "</div>"
      ],
      "text/plain": [
       "                   ada_boost    bagging  bernoulli decision_tree extra_tree  \\\n",
       "C                        NaN        NaN        NaN           NaN        NaN   \n",
       "activation               NaN        NaN        NaN           NaN        NaN   \n",
       "algorithm            SAMME.R        NaN        NaN           NaN        NaN   \n",
       "alpha                    NaN        NaN   0.100000           NaN        NaN   \n",
       "bootstrap_features       NaN   0.000000        NaN           NaN        NaN   \n",
       "criterion                NaN        NaN        NaN       entropy    entropy   \n",
       "early_stopping           NaN        NaN        NaN           NaN        NaN   \n",
       "f1_test             0.910661   0.919879   0.488964      0.775817   0.859649   \n",
       "f1_train                   1   1.000000   0.561754             1          1   \n",
       "l2_regularization        NaN        NaN        NaN           NaN        NaN   \n",
       "learning_rate            0.7        NaN        NaN           NaN        NaN   \n",
       "loss                     NaN        NaN        NaN           NaN        NaN   \n",
       "metric                   NaN        NaN        NaN           NaN        NaN   \n",
       "multi_class              NaN        NaN        NaN           NaN        NaN   \n",
       "n_estimators              70  40.000000        NaN           NaN        NaN   \n",
       "n_neighbors              NaN        NaN        NaN           NaN        NaN   \n",
       "oob_score                NaN        NaN        NaN           NaN        NaN   \n",
       "p                        NaN        NaN        NaN           NaN        NaN   \n",
       "penalty                  NaN        NaN        NaN           NaN        NaN   \n",
       "solver                   NaN        NaN        NaN           NaN        NaN   \n",
       "splitter                 NaN        NaN        NaN          best       best   \n",
       "test                0.912281   0.921053   0.631579      0.780702   0.859649   \n",
       "tol                      NaN        NaN        NaN           NaN        NaN   \n",
       "tr_time             0.359151   0.206349   0.323715      0.304448   0.011244   \n",
       "train                      1   1.000000   0.663736             1          1   \n",
       "var_smoothing            NaN        NaN        NaN           NaN        NaN   \n",
       "warm_start               NaN        NaN        NaN           NaN        NaN   \n",
       "weights                  NaN        NaN        NaN           NaN        NaN   \n",
       "\n",
       "                   extra_trees      gaussian gradient_boosting  \\\n",
       "C                          NaN           NaN               NaN   \n",
       "activation                 NaN           NaN               NaN   \n",
       "algorithm                  NaN           NaN               NaN   \n",
       "alpha                      NaN           NaN               NaN   \n",
       "bootstrap_features         NaN           NaN               NaN   \n",
       "criterion              entropy           NaN      friedman_mse   \n",
       "early_stopping             NaN           NaN               NaN   \n",
       "f1_test               0.909972  8.749258e-01          0.937684   \n",
       "f1_train                     1  8.719170e-01                 1   \n",
       "l2_regularization          NaN           NaN               NaN   \n",
       "learning_rate              NaN           NaN               0.8   \n",
       "loss                       NaN           NaN          deviance   \n",
       "metric                     NaN           NaN               NaN   \n",
       "multi_class                NaN           NaN               NaN   \n",
       "n_estimators                40           NaN               NaN   \n",
       "n_neighbors                NaN           NaN               NaN   \n",
       "oob_score                  NaN           NaN               NaN   \n",
       "p                          NaN           NaN               NaN   \n",
       "penalty                    NaN           NaN               NaN   \n",
       "solver                     NaN           NaN               NaN   \n",
       "splitter                   NaN           NaN               NaN   \n",
       "test                  0.912281  8.771930e-01          0.938596   \n",
       "tol                        NaN           NaN             5e-06   \n",
       "tr_time               0.075185  5.560000e-02          0.237548   \n",
       "train                        1  8.747253e-01                 1   \n",
       "var_smoothing              NaN  1.000000e-10               NaN   \n",
       "warm_start                   1           NaN               NaN   \n",
       "weights                    NaN           NaN               NaN   \n",
       "\n",
       "                    hist_gradient_boosting k_neighbors linear_svc  \\\n",
       "C                                      NaN         NaN        0.8   \n",
       "activation                             NaN         NaN        NaN   \n",
       "algorithm                              NaN   ball_tree        NaN   \n",
       "alpha                                  NaN         NaN        NaN   \n",
       "bootstrap_features                     NaN         NaN        NaN   \n",
       "criterion                              NaN         NaN        NaN   \n",
       "early_stopping                         NaN         NaN        NaN   \n",
       "f1_test                       9.013594e-01    0.818688   0.964509   \n",
       "f1_train                      1.000000e+00    0.928161    0.96903   \n",
       "l2_regularization             0.000000e+00         NaN        NaN   \n",
       "learning_rate                          NaN         NaN        NaN   \n",
       "loss                                   NaN         NaN        NaN   \n",
       "metric                                 NaN         NaN        NaN   \n",
       "multi_class                            NaN         NaN        ovr   \n",
       "n_estimators                           NaN         NaN        NaN   \n",
       "n_neighbors                            NaN           4        NaN   \n",
       "oob_score                              NaN         NaN        NaN   \n",
       "p                                      NaN           2        NaN   \n",
       "penalty                                NaN         NaN         l2   \n",
       "solver                                 NaN         NaN        NaN   \n",
       "splitter                               NaN         NaN        NaN   \n",
       "test                          9.035088e-01    0.833333   0.964912   \n",
       "tol                           1.000000e-08         NaN     0.0001   \n",
       "tr_time                       1.213653e+00    0.049448   0.514686   \n",
       "train                         1.000000e+00     0.92967   0.969231   \n",
       "var_smoothing                          NaN         NaN        NaN   \n",
       "warm_start                             NaN         NaN        NaN   \n",
       "weights                                NaN     uniform        NaN   \n",
       "\n",
       "                   logistic_regression         mlp nearest_centroid  \\\n",
       "C                                  1.4         NaN              NaN   \n",
       "activation                         NaN        relu              NaN   \n",
       "algorithm                          NaN         NaN              NaN   \n",
       "alpha                              NaN       5e-06              NaN   \n",
       "bootstrap_features                 NaN         NaN              NaN   \n",
       "criterion                          NaN         NaN              NaN   \n",
       "early_stopping                     NaN        True              NaN   \n",
       "f1_test                       0.946397    0.982456         0.929449   \n",
       "f1_train                      0.953225    0.989004         0.882272   \n",
       "l2_regularization                  NaN         NaN              NaN   \n",
       "learning_rate                      NaN  invscaling              NaN   \n",
       "loss                               NaN         NaN              NaN   \n",
       "metric                             NaN         NaN           cosine   \n",
       "multi_class                        NaN         NaN              NaN   \n",
       "n_estimators                       NaN         NaN              NaN   \n",
       "n_neighbors                        NaN         NaN              NaN   \n",
       "oob_score                          NaN         NaN              NaN   \n",
       "p                                  NaN         NaN              NaN   \n",
       "penalty                            NaN         NaN              NaN   \n",
       "solver                             sag       lbfgs              NaN   \n",
       "splitter                           NaN         NaN              NaN   \n",
       "test                          0.947368    0.982456         0.929825   \n",
       "tol                             0.0001         NaN              NaN   \n",
       "tr_time                       0.323357     2.49581         0.008295   \n",
       "train                         0.953846    0.989011         0.881319   \n",
       "var_smoothing                      NaN         NaN              NaN   \n",
       "warm_start                         NaN         NaN              NaN   \n",
       "weights                            NaN         NaN              NaN   \n",
       "\n",
       "                   passive_aggressive random_forest     ridge            sgd  \n",
       "C                                 NaN           NaN       NaN            NaN  \n",
       "activation                        NaN           NaN       NaN            NaN  \n",
       "algorithm                         NaN           NaN       NaN            NaN  \n",
       "alpha                             NaN           NaN  0.500000         0.0009  \n",
       "bootstrap_features                NaN           NaN       NaN            NaN  \n",
       "criterion                         NaN       entropy       NaN            NaN  \n",
       "early_stopping                  False           NaN       NaN            NaN  \n",
       "f1_test                      0.839832      0.892794  0.973465       0.946397  \n",
       "f1_train                     0.839833             1  0.964502       0.957748  \n",
       "l2_regularization                 NaN           NaN       NaN            NaN  \n",
       "learning_rate                     NaN           NaN       NaN            NaN  \n",
       "loss                    squared_hinge           NaN       NaN  squared_hinge  \n",
       "metric                            NaN           NaN       NaN            NaN  \n",
       "multi_class                       NaN           NaN       NaN            NaN  \n",
       "n_estimators                      NaN            45       NaN            NaN  \n",
       "n_neighbors                       NaN           NaN       NaN            NaN  \n",
       "oob_score                         NaN             1       NaN            NaN  \n",
       "p                                 NaN           NaN       NaN            NaN  \n",
       "penalty                           NaN           NaN       NaN             l1  \n",
       "solver                            NaN           NaN       NaN            NaN  \n",
       "splitter                          NaN           NaN       NaN            NaN  \n",
       "test                         0.850877      0.894737  0.973684       0.947368  \n",
       "tol                            0.0001           NaN  0.000100    1.66667e-05  \n",
       "tr_time                      0.365766      0.141224  0.330200       0.885112  \n",
       "train                        0.850549             1  0.964835       0.958242  \n",
       "var_smoothing                     NaN           NaN       NaN            NaN  \n",
       "warm_start                          1             1       NaN            NaN  \n",
       "weights                           NaN           NaN       NaN            NaN  "
      ]
     },
     "execution_count": 28,
     "metadata": {},
     "output_type": "execute_result"
    }
   ],
   "source": [
    "df"
   ]
  },
  {
   "cell_type": "code",
   "execution_count": 29,
   "metadata": {
    "pycharm": {}
   },
   "outputs": [],
   "source": [
    "df.to_csv(result_path)"
   ]
  }
 ],
 "metadata": {
  "kernelspec": {
   "display_name": "Python 3",
   "language": "python",
   "name": "python3"
  },
  "language_info": {
   "codemirror_mode": {
    "name": "ipython",
    "version": 3
   },
   "file_extension": ".py",
   "mimetype": "text/x-python",
   "name": "python",
   "nbconvert_exporter": "python",
   "pygments_lexer": "ipython3",
   "version": "3.6.7"
  }
 },
 "nbformat": 4,
 "nbformat_minor": 1
}
