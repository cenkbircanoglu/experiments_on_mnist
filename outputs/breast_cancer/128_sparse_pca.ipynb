{
 "cells": [
  {
   "cell_type": "code",
   "execution_count": 1,
   "metadata": {
    "pycharm": {}
   },
   "outputs": [],
   "source": [
    "import os\n",
    "import pandas as pd\n",
    "from sklearn.model_selection import StratifiedShuffleSplit\n",
    "\n",
    "from dimensionality_reduction import reduce_dimension\n",
    "import load_database\n",
    "from algorithms import *"
   ]
  },
  {
   "cell_type": "code",
   "execution_count": 2,
   "metadata": {
    "pycharm": {}
   },
   "outputs": [],
   "source": [
    "import warnings\n",
    "warnings.filterwarnings('ignore')"
   ]
  },
  {
   "cell_type": "code",
   "execution_count": 3,
   "metadata": {
    "pycharm": {}
   },
   "outputs": [],
   "source": [
    "database_name = os.environ['DATABASE']\n",
    "n_components = int(os.environ['N_COMPONENTS'])\n",
    "dimensionality_algorithm = os.environ['DIMENSIONALITY_ALGORITHM']"
   ]
  },
  {
   "cell_type": "code",
   "execution_count": 4,
   "metadata": {},
   "outputs": [],
   "source": [
    "result_path = 'results/%s_%s_%s.csv' %(database_name, n_components, dimensionality_algorithm)"
   ]
  },
  {
   "cell_type": "code",
   "execution_count": 5,
   "metadata": {},
   "outputs": [],
   "source": [
    "X, y = load_database.load(database_name)\n",
    "X = reduce_dimension(dimensionality_algorithm, X, n_components) if n_components else X"
   ]
  },
  {
   "cell_type": "code",
   "execution_count": 6,
   "metadata": {
    "pycharm": {}
   },
   "outputs": [
    {
     "data": {
      "text/plain": [
       "(569, 128)"
      ]
     },
     "execution_count": 6,
     "metadata": {},
     "output_type": "execute_result"
    }
   ],
   "source": [
    "X.shape"
   ]
  },
  {
   "cell_type": "code",
   "execution_count": 7,
   "metadata": {},
   "outputs": [],
   "source": [
    "results = {}"
   ]
  },
  {
   "cell_type": "code",
   "execution_count": 8,
   "metadata": {
    "pycharm": {}
   },
   "outputs": [],
   "source": [
    "sss = StratifiedShuffleSplit(n_splits=1, test_size=0.2)\n",
    "for train_index, test_index in sss.split(X, y):\n",
    "    X_train, X_test = X[train_index], X[test_index]\n",
    "    y_train, y_test = y[train_index], y[test_index]"
   ]
  },
  {
   "cell_type": "code",
   "execution_count": 9,
   "metadata": {
    "pycharm": {}
   },
   "outputs": [
    {
     "name": "stdout",
     "output_type": "stream",
     "text": [
      "0.35998499999999467\n",
      "{'algorithm': 'SAMME', 'learning_rate': 0.9, 'n_estimators': 50}\n",
      "0.9736263736263736\n",
      "1.0 0.9298245614035088 1.0 0.9294494170608614\n"
     ]
    }
   ],
   "source": [
    "result = train_test(X_train, y_train, X_test, y_test, 'ada_boost')\n",
    "results.update(result)"
   ]
  },
  {
   "cell_type": "code",
   "execution_count": 10,
   "metadata": {
    "pycharm": {}
   },
   "outputs": [
    {
     "name": "stdout",
     "output_type": "stream",
     "text": [
      "0.0882880000000057\n",
      "{'bootstrap_features': 1, 'n_estimators': 35}\n",
      "0.9758241758241758\n",
      "1.0 0.9473684210526315 1.0 0.9467638691322903\n"
     ]
    }
   ],
   "source": [
    "result = train_test(X_train, y_train, X_test, y_test, 'bagging')\n",
    "results.update(result)"
   ]
  },
  {
   "cell_type": "code",
   "execution_count": 11,
   "metadata": {
    "pycharm": {}
   },
   "outputs": [
    {
     "name": "stdout",
     "output_type": "stream",
     "text": [
      "0.06716399999999112\n",
      "{'criterion': 'gini', 'n_estimators': 30, 'warm_start': 1}\n",
      "0.9736263736263736\n",
      "1.0 0.9473684210526315 1.0 0.9467638691322903\n"
     ]
    }
   ],
   "source": [
    "result = train_test(X_train, y_train, X_test, y_test, 'extra_trees')\n",
    "results.update(result)"
   ]
  },
  {
   "cell_type": "code",
   "execution_count": 12,
   "metadata": {
    "pycharm": {}
   },
   "outputs": [
    {
     "name": "stdout",
     "output_type": "stream",
     "text": [
      "0.10004000000000701\n",
      "{'criterion': 'gini', 'n_estimators': 40, 'oob_score': 1, 'warm_start': 0}\n",
      "0.967032967032967\n",
      "1.0 0.9385964912280702 1.0 0.9376836024305945\n"
     ]
    }
   ],
   "source": [
    "result = train_test(X_train, y_train, X_test, y_test, 'random_forest')\n",
    "results.update(result)"
   ]
  },
  {
   "cell_type": "code",
   "execution_count": 13,
   "metadata": {
    "pycharm": {}
   },
   "outputs": [
    {
     "name": "stdout",
     "output_type": "stream",
     "text": [
      "0.7036010000000203\n",
      "{'C': 1.3, 'solver': 'newton-cg', 'tol': 0.0001}\n",
      "0.9604395604395605\n",
      "0.9714285714285714 0.9385964912280702 0.9712214031985518 0.9376836024305945\n"
     ]
    }
   ],
   "source": [
    "result = train_test(X_train, y_train, X_test, y_test, 'logistic_regression')\n",
    "results.update(result)"
   ]
  },
  {
   "cell_type": "code",
   "execution_count": 14,
   "metadata": {
    "pycharm": {}
   },
   "outputs": [
    {
     "name": "stdout",
     "output_type": "stream",
     "text": [
      "0.2031690000000026\n",
      "{'early_stopping': True, 'loss': 'hinge', 'tol': 2.5e-05, 'warm_start': 1}\n",
      "0.9736263736263736\n",
      "0.9802197802197802 0.9473684210526315 0.9801835183785562 0.9467638691322903\n"
     ]
    }
   ],
   "source": [
    "result = train_test(X_train, y_train, X_test, y_test, 'passive_aggressive')\n",
    "results.update(result)"
   ]
  },
  {
   "cell_type": "code",
   "execution_count": 15,
   "metadata": {
    "pycharm": {}
   },
   "outputs": [
    {
     "name": "stdout",
     "output_type": "stream",
     "text": [
      "0.16000599999998144\n",
      "{'alpha': 0.5, 'tol': 0.0001}\n",
      "0.9494505494505494\n",
      "0.9516483516483516 0.956140350877193 0.9509568821009499 0.9554882874504246\n"
     ]
    }
   ],
   "source": [
    "result = train_test(X_train, y_train, X_test, y_test, 'ridge')\n",
    "results.update(result)"
   ]
  },
  {
   "cell_type": "code",
   "execution_count": 16,
   "metadata": {
    "pycharm": {}
   },
   "outputs": [
    {
     "name": "stdout",
     "output_type": "stream",
     "text": [
      "0.6773050000000183\n",
      "{'alpha': 0.0008, 'loss': 'hinge', 'penalty': 'elasticnet', 'tol': 1.1111111111111112e-05}\n",
      "0.978021978021978\n",
      "0.9692307692307692 0.9473684210526315 0.9689851260130365 0.9467638691322903\n"
     ]
    }
   ],
   "source": [
    "result = train_test(X_train, y_train, X_test, y_test, 'sgd')\n",
    "results.update(result)"
   ]
  },
  {
   "cell_type": "code",
   "execution_count": 17,
   "metadata": {
    "pycharm": {}
   },
   "outputs": [
    {
     "name": "stdout",
     "output_type": "stream",
     "text": [
      "0.21844600000000014\n",
      "{'alpha': 0.9}\n",
      "0.6263736263736264\n",
      "0.6329670329670329 0.631578947368421 0.49739907232789643 0.5041605991262741\n"
     ]
    }
   ],
   "source": [
    "result = train_test(X_train, y_train, X_test, y_test, 'bernoulli')\n",
    "results.update(result)"
   ]
  },
  {
   "cell_type": "code",
   "execution_count": 18,
   "metadata": {
    "pycharm": {}
   },
   "outputs": [
    {
     "name": "stdout",
     "output_type": "stream",
     "text": [
      "0.04307699999998249\n",
      "{'var_smoothing': 1e-10}\n",
      "0.9494505494505494\n",
      "0.9516483516483516 0.9385964912280702 0.9516483516483516 0.9380859556298152\n"
     ]
    }
   ],
   "source": [
    "result = train_test(X_train, y_train, X_test, y_test, 'gaussian')\n",
    "results.update(result)"
   ]
  },
  {
   "cell_type": "code",
   "execution_count": 19,
   "metadata": {
    "pycharm": {}
   },
   "outputs": [
    {
     "name": "stdout",
     "output_type": "stream",
     "text": [
      "0.06179500000001781\n",
      "{'algorithm': 'ball_tree', 'n_neighbors': 6, 'p': 2, 'weights': 'uniform'}\n",
      "0.9648351648351648\n",
      "0.9758241758241758 0.9385964912280702 0.9757798557960131 0.9380859556298152\n"
     ]
    }
   ],
   "source": [
    "result = train_test(X_train, y_train, X_test, y_test, 'k_neighbors')\n",
    "results.update(result)"
   ]
  },
  {
   "cell_type": "code",
   "execution_count": 20,
   "metadata": {
    "pycharm": {}
   },
   "outputs": [
    {
     "name": "stdout",
     "output_type": "stream",
     "text": [
      "0.009234999999989668\n",
      "{'metric': 'euclidean'}\n",
      "0.9472527472527472\n",
      "0.9472527472527472 0.9473684210526315 0.9467523819990412 0.9463967611336033\n"
     ]
    }
   ],
   "source": [
    "result = train_test(X_train, y_train, X_test, y_test, 'nearest_centroid')\n",
    "results.update(result)"
   ]
  },
  {
   "cell_type": "code",
   "execution_count": 21,
   "metadata": {
    "pycharm": {}
   },
   "outputs": [
    {
     "name": "stdout",
     "output_type": "stream",
     "text": [
      "4.5463869999999815\n",
      "{'activation': 'logistic', 'alpha': 5e-06, 'early_stopping': True, 'learning_rate': 'invscaling', 'solver': 'lbfgs'}\n",
      "0.9692307692307692\n",
      "1.0 0.956140350877193 1.0 0.9554882874504246\n"
     ]
    }
   ],
   "source": [
    "result = train_test(X_train, y_train, X_test, y_test, 'mlp')\n",
    "results.update(result)"
   ]
  },
  {
   "cell_type": "code",
   "execution_count": 22,
   "metadata": {
    "pycharm": {}
   },
   "outputs": [
    {
     "name": "stdout",
     "output_type": "stream",
     "text": [
      "0.4010550000000137\n",
      "{'C': 1.2, 'multi_class': 'ovr', 'penalty': 'l2', 'tol': 0.0001}\n",
      "0.9736263736263736\n",
      "0.9802197802197802 0.9473684210526315 0.9801581675948969 0.9467638691322903\n"
     ]
    }
   ],
   "source": [
    "result = train_test(X_train, y_train, X_test, y_test, 'linear_svc')\n",
    "results.update(result)"
   ]
  },
  {
   "cell_type": "code",
   "execution_count": 23,
   "metadata": {
    "pycharm": {}
   },
   "outputs": [
    {
     "name": "stdout",
     "output_type": "stream",
     "text": [
      "0.12973500000001081\n",
      "{'criterion': 'gini', 'splitter': 'best'}\n",
      "0.9472527472527472\n",
      "1.0 0.9210526315789473 1.0 0.9208492773270942\n"
     ]
    }
   ],
   "source": [
    "result = train_test(X_train, y_train, X_test, y_test, 'decision_tree')\n",
    "results.update(result)"
   ]
  },
  {
   "cell_type": "code",
   "execution_count": 24,
   "metadata": {
    "pycharm": {}
   },
   "outputs": [
    {
     "name": "stdout",
     "output_type": "stream",
     "text": [
      "0.04409600000002456\n",
      "{'criterion': 'entropy', 'splitter': 'random'}\n",
      "0.9054945054945055\n",
      "1.0 0.8859649122807017 1.0 0.8850167747410855\n"
     ]
    }
   ],
   "source": [
    "result = train_test(X_train, y_train, X_test, y_test, 'extra_tree')\n",
    "results.update(result)"
   ]
  },
  {
   "cell_type": "code",
   "execution_count": 25,
   "metadata": {
    "pycharm": {}
   },
   "outputs": [
    {
     "name": "stdout",
     "output_type": "stream",
     "text": [
      "0.19066899999998554\n",
      "{'criterion': 'friedman_mse', 'learning_rate': 0.4, 'loss': 'deviance', 'tol': 3.3333333333333333e-06}\n",
      "0.9736263736263736\n",
      "1.0 0.9298245614035088 1.0 0.9294494170608614\n"
     ]
    }
   ],
   "source": [
    "result = train_test(X_train, y_train, X_test, y_test, 'gradient_boosting')\n",
    "results.update(result)"
   ]
  },
  {
   "cell_type": "code",
   "execution_count": 26,
   "metadata": {
    "pycharm": {}
   },
   "outputs": [
    {
     "name": "stdout",
     "output_type": "stream",
     "text": [
      "1.3968450000000132\n",
      "{'l2_regularization': 0.1, 'tol': 1e-08}\n",
      "0.9714285714285714\n",
      "1.0 0.9385964912280702 1.0 0.9384383268099622\n"
     ]
    }
   ],
   "source": [
    "result = train_test(X_train, y_train, X_test, y_test, 'hist_gradient_boosting')\n",
    "results.update(result)"
   ]
  },
  {
   "cell_type": "code",
   "execution_count": 27,
   "metadata": {
    "pycharm": {}
   },
   "outputs": [],
   "source": [
    "df = pd.DataFrame.from_records(results)"
   ]
  },
  {
   "cell_type": "code",
   "execution_count": 28,
   "metadata": {
    "pycharm": {}
   },
   "outputs": [
    {
     "data": {
      "text/html": [
       "<div>\n",
       "<style scoped>\n",
       "    .dataframe tbody tr th:only-of-type {\n",
       "        vertical-align: middle;\n",
       "    }\n",
       "\n",
       "    .dataframe tbody tr th {\n",
       "        vertical-align: top;\n",
       "    }\n",
       "\n",
       "    .dataframe thead th {\n",
       "        text-align: right;\n",
       "    }\n",
       "</style>\n",
       "<table border=\"1\" class=\"dataframe\">\n",
       "  <thead>\n",
       "    <tr style=\"text-align: right;\">\n",
       "      <th></th>\n",
       "      <th>ada_boost</th>\n",
       "      <th>bagging</th>\n",
       "      <th>bernoulli</th>\n",
       "      <th>decision_tree</th>\n",
       "      <th>extra_tree</th>\n",
       "      <th>extra_trees</th>\n",
       "      <th>gaussian</th>\n",
       "      <th>gradient_boosting</th>\n",
       "      <th>hist_gradient_boosting</th>\n",
       "      <th>k_neighbors</th>\n",
       "      <th>linear_svc</th>\n",
       "      <th>logistic_regression</th>\n",
       "      <th>mlp</th>\n",
       "      <th>nearest_centroid</th>\n",
       "      <th>passive_aggressive</th>\n",
       "      <th>random_forest</th>\n",
       "      <th>ridge</th>\n",
       "      <th>sgd</th>\n",
       "    </tr>\n",
       "  </thead>\n",
       "  <tbody>\n",
       "    <tr>\n",
       "      <th>C</th>\n",
       "      <td>NaN</td>\n",
       "      <td>NaN</td>\n",
       "      <td>NaN</td>\n",
       "      <td>NaN</td>\n",
       "      <td>NaN</td>\n",
       "      <td>NaN</td>\n",
       "      <td>NaN</td>\n",
       "      <td>NaN</td>\n",
       "      <td>NaN</td>\n",
       "      <td>NaN</td>\n",
       "      <td>1.2</td>\n",
       "      <td>1.3</td>\n",
       "      <td>NaN</td>\n",
       "      <td>NaN</td>\n",
       "      <td>NaN</td>\n",
       "      <td>NaN</td>\n",
       "      <td>NaN</td>\n",
       "      <td>NaN</td>\n",
       "    </tr>\n",
       "    <tr>\n",
       "      <th>activation</th>\n",
       "      <td>NaN</td>\n",
       "      <td>NaN</td>\n",
       "      <td>NaN</td>\n",
       "      <td>NaN</td>\n",
       "      <td>NaN</td>\n",
       "      <td>NaN</td>\n",
       "      <td>NaN</td>\n",
       "      <td>NaN</td>\n",
       "      <td>NaN</td>\n",
       "      <td>NaN</td>\n",
       "      <td>NaN</td>\n",
       "      <td>NaN</td>\n",
       "      <td>logistic</td>\n",
       "      <td>NaN</td>\n",
       "      <td>NaN</td>\n",
       "      <td>NaN</td>\n",
       "      <td>NaN</td>\n",
       "      <td>NaN</td>\n",
       "    </tr>\n",
       "    <tr>\n",
       "      <th>algorithm</th>\n",
       "      <td>SAMME</td>\n",
       "      <td>NaN</td>\n",
       "      <td>NaN</td>\n",
       "      <td>NaN</td>\n",
       "      <td>NaN</td>\n",
       "      <td>NaN</td>\n",
       "      <td>NaN</td>\n",
       "      <td>NaN</td>\n",
       "      <td>NaN</td>\n",
       "      <td>ball_tree</td>\n",
       "      <td>NaN</td>\n",
       "      <td>NaN</td>\n",
       "      <td>NaN</td>\n",
       "      <td>NaN</td>\n",
       "      <td>NaN</td>\n",
       "      <td>NaN</td>\n",
       "      <td>NaN</td>\n",
       "      <td>NaN</td>\n",
       "    </tr>\n",
       "    <tr>\n",
       "      <th>alpha</th>\n",
       "      <td>NaN</td>\n",
       "      <td>NaN</td>\n",
       "      <td>0.900000</td>\n",
       "      <td>NaN</td>\n",
       "      <td>NaN</td>\n",
       "      <td>NaN</td>\n",
       "      <td>NaN</td>\n",
       "      <td>NaN</td>\n",
       "      <td>NaN</td>\n",
       "      <td>NaN</td>\n",
       "      <td>NaN</td>\n",
       "      <td>NaN</td>\n",
       "      <td>5e-06</td>\n",
       "      <td>NaN</td>\n",
       "      <td>NaN</td>\n",
       "      <td>NaN</td>\n",
       "      <td>0.500000</td>\n",
       "      <td>0.0008</td>\n",
       "    </tr>\n",
       "    <tr>\n",
       "      <th>bootstrap_features</th>\n",
       "      <td>NaN</td>\n",
       "      <td>1.000000</td>\n",
       "      <td>NaN</td>\n",
       "      <td>NaN</td>\n",
       "      <td>NaN</td>\n",
       "      <td>NaN</td>\n",
       "      <td>NaN</td>\n",
       "      <td>NaN</td>\n",
       "      <td>NaN</td>\n",
       "      <td>NaN</td>\n",
       "      <td>NaN</td>\n",
       "      <td>NaN</td>\n",
       "      <td>NaN</td>\n",
       "      <td>NaN</td>\n",
       "      <td>NaN</td>\n",
       "      <td>NaN</td>\n",
       "      <td>NaN</td>\n",
       "      <td>NaN</td>\n",
       "    </tr>\n",
       "    <tr>\n",
       "      <th>criterion</th>\n",
       "      <td>NaN</td>\n",
       "      <td>NaN</td>\n",
       "      <td>NaN</td>\n",
       "      <td>gini</td>\n",
       "      <td>entropy</td>\n",
       "      <td>gini</td>\n",
       "      <td>NaN</td>\n",
       "      <td>friedman_mse</td>\n",
       "      <td>NaN</td>\n",
       "      <td>NaN</td>\n",
       "      <td>NaN</td>\n",
       "      <td>NaN</td>\n",
       "      <td>NaN</td>\n",
       "      <td>NaN</td>\n",
       "      <td>NaN</td>\n",
       "      <td>gini</td>\n",
       "      <td>NaN</td>\n",
       "      <td>NaN</td>\n",
       "    </tr>\n",
       "    <tr>\n",
       "      <th>early_stopping</th>\n",
       "      <td>NaN</td>\n",
       "      <td>NaN</td>\n",
       "      <td>NaN</td>\n",
       "      <td>NaN</td>\n",
       "      <td>NaN</td>\n",
       "      <td>NaN</td>\n",
       "      <td>NaN</td>\n",
       "      <td>NaN</td>\n",
       "      <td>NaN</td>\n",
       "      <td>NaN</td>\n",
       "      <td>NaN</td>\n",
       "      <td>NaN</td>\n",
       "      <td>True</td>\n",
       "      <td>NaN</td>\n",
       "      <td>True</td>\n",
       "      <td>NaN</td>\n",
       "      <td>NaN</td>\n",
       "      <td>NaN</td>\n",
       "    </tr>\n",
       "    <tr>\n",
       "      <th>f1_test</th>\n",
       "      <td>0.929449</td>\n",
       "      <td>0.946764</td>\n",
       "      <td>0.504161</td>\n",
       "      <td>0.920849</td>\n",
       "      <td>0.885017</td>\n",
       "      <td>0.946764</td>\n",
       "      <td>9.380860e-01</td>\n",
       "      <td>0.929449</td>\n",
       "      <td>9.384383e-01</td>\n",
       "      <td>0.938086</td>\n",
       "      <td>0.946764</td>\n",
       "      <td>0.937684</td>\n",
       "      <td>0.955488</td>\n",
       "      <td>0.946397</td>\n",
       "      <td>0.946764</td>\n",
       "      <td>0.937684</td>\n",
       "      <td>0.955488</td>\n",
       "      <td>0.946764</td>\n",
       "    </tr>\n",
       "    <tr>\n",
       "      <th>f1_train</th>\n",
       "      <td>1</td>\n",
       "      <td>1.000000</td>\n",
       "      <td>0.497399</td>\n",
       "      <td>1</td>\n",
       "      <td>1</td>\n",
       "      <td>1</td>\n",
       "      <td>9.516484e-01</td>\n",
       "      <td>1</td>\n",
       "      <td>1.000000e+00</td>\n",
       "      <td>0.97578</td>\n",
       "      <td>0.980158</td>\n",
       "      <td>0.971221</td>\n",
       "      <td>1</td>\n",
       "      <td>0.946752</td>\n",
       "      <td>0.980184</td>\n",
       "      <td>1</td>\n",
       "      <td>0.950957</td>\n",
       "      <td>0.968985</td>\n",
       "    </tr>\n",
       "    <tr>\n",
       "      <th>l2_regularization</th>\n",
       "      <td>NaN</td>\n",
       "      <td>NaN</td>\n",
       "      <td>NaN</td>\n",
       "      <td>NaN</td>\n",
       "      <td>NaN</td>\n",
       "      <td>NaN</td>\n",
       "      <td>NaN</td>\n",
       "      <td>NaN</td>\n",
       "      <td>1.000000e-01</td>\n",
       "      <td>NaN</td>\n",
       "      <td>NaN</td>\n",
       "      <td>NaN</td>\n",
       "      <td>NaN</td>\n",
       "      <td>NaN</td>\n",
       "      <td>NaN</td>\n",
       "      <td>NaN</td>\n",
       "      <td>NaN</td>\n",
       "      <td>NaN</td>\n",
       "    </tr>\n",
       "    <tr>\n",
       "      <th>learning_rate</th>\n",
       "      <td>0.9</td>\n",
       "      <td>NaN</td>\n",
       "      <td>NaN</td>\n",
       "      <td>NaN</td>\n",
       "      <td>NaN</td>\n",
       "      <td>NaN</td>\n",
       "      <td>NaN</td>\n",
       "      <td>0.4</td>\n",
       "      <td>NaN</td>\n",
       "      <td>NaN</td>\n",
       "      <td>NaN</td>\n",
       "      <td>NaN</td>\n",
       "      <td>invscaling</td>\n",
       "      <td>NaN</td>\n",
       "      <td>NaN</td>\n",
       "      <td>NaN</td>\n",
       "      <td>NaN</td>\n",
       "      <td>NaN</td>\n",
       "    </tr>\n",
       "    <tr>\n",
       "      <th>loss</th>\n",
       "      <td>NaN</td>\n",
       "      <td>NaN</td>\n",
       "      <td>NaN</td>\n",
       "      <td>NaN</td>\n",
       "      <td>NaN</td>\n",
       "      <td>NaN</td>\n",
       "      <td>NaN</td>\n",
       "      <td>deviance</td>\n",
       "      <td>NaN</td>\n",
       "      <td>NaN</td>\n",
       "      <td>NaN</td>\n",
       "      <td>NaN</td>\n",
       "      <td>NaN</td>\n",
       "      <td>NaN</td>\n",
       "      <td>hinge</td>\n",
       "      <td>NaN</td>\n",
       "      <td>NaN</td>\n",
       "      <td>hinge</td>\n",
       "    </tr>\n",
       "    <tr>\n",
       "      <th>metric</th>\n",
       "      <td>NaN</td>\n",
       "      <td>NaN</td>\n",
       "      <td>NaN</td>\n",
       "      <td>NaN</td>\n",
       "      <td>NaN</td>\n",
       "      <td>NaN</td>\n",
       "      <td>NaN</td>\n",
       "      <td>NaN</td>\n",
       "      <td>NaN</td>\n",
       "      <td>NaN</td>\n",
       "      <td>NaN</td>\n",
       "      <td>NaN</td>\n",
       "      <td>NaN</td>\n",
       "      <td>euclidean</td>\n",
       "      <td>NaN</td>\n",
       "      <td>NaN</td>\n",
       "      <td>NaN</td>\n",
       "      <td>NaN</td>\n",
       "    </tr>\n",
       "    <tr>\n",
       "      <th>multi_class</th>\n",
       "      <td>NaN</td>\n",
       "      <td>NaN</td>\n",
       "      <td>NaN</td>\n",
       "      <td>NaN</td>\n",
       "      <td>NaN</td>\n",
       "      <td>NaN</td>\n",
       "      <td>NaN</td>\n",
       "      <td>NaN</td>\n",
       "      <td>NaN</td>\n",
       "      <td>NaN</td>\n",
       "      <td>ovr</td>\n",
       "      <td>NaN</td>\n",
       "      <td>NaN</td>\n",
       "      <td>NaN</td>\n",
       "      <td>NaN</td>\n",
       "      <td>NaN</td>\n",
       "      <td>NaN</td>\n",
       "      <td>NaN</td>\n",
       "    </tr>\n",
       "    <tr>\n",
       "      <th>n_estimators</th>\n",
       "      <td>50</td>\n",
       "      <td>35.000000</td>\n",
       "      <td>NaN</td>\n",
       "      <td>NaN</td>\n",
       "      <td>NaN</td>\n",
       "      <td>30</td>\n",
       "      <td>NaN</td>\n",
       "      <td>NaN</td>\n",
       "      <td>NaN</td>\n",
       "      <td>NaN</td>\n",
       "      <td>NaN</td>\n",
       "      <td>NaN</td>\n",
       "      <td>NaN</td>\n",
       "      <td>NaN</td>\n",
       "      <td>NaN</td>\n",
       "      <td>40</td>\n",
       "      <td>NaN</td>\n",
       "      <td>NaN</td>\n",
       "    </tr>\n",
       "    <tr>\n",
       "      <th>n_neighbors</th>\n",
       "      <td>NaN</td>\n",
       "      <td>NaN</td>\n",
       "      <td>NaN</td>\n",
       "      <td>NaN</td>\n",
       "      <td>NaN</td>\n",
       "      <td>NaN</td>\n",
       "      <td>NaN</td>\n",
       "      <td>NaN</td>\n",
       "      <td>NaN</td>\n",
       "      <td>6</td>\n",
       "      <td>NaN</td>\n",
       "      <td>NaN</td>\n",
       "      <td>NaN</td>\n",
       "      <td>NaN</td>\n",
       "      <td>NaN</td>\n",
       "      <td>NaN</td>\n",
       "      <td>NaN</td>\n",
       "      <td>NaN</td>\n",
       "    </tr>\n",
       "    <tr>\n",
       "      <th>oob_score</th>\n",
       "      <td>NaN</td>\n",
       "      <td>NaN</td>\n",
       "      <td>NaN</td>\n",
       "      <td>NaN</td>\n",
       "      <td>NaN</td>\n",
       "      <td>NaN</td>\n",
       "      <td>NaN</td>\n",
       "      <td>NaN</td>\n",
       "      <td>NaN</td>\n",
       "      <td>NaN</td>\n",
       "      <td>NaN</td>\n",
       "      <td>NaN</td>\n",
       "      <td>NaN</td>\n",
       "      <td>NaN</td>\n",
       "      <td>NaN</td>\n",
       "      <td>1</td>\n",
       "      <td>NaN</td>\n",
       "      <td>NaN</td>\n",
       "    </tr>\n",
       "    <tr>\n",
       "      <th>p</th>\n",
       "      <td>NaN</td>\n",
       "      <td>NaN</td>\n",
       "      <td>NaN</td>\n",
       "      <td>NaN</td>\n",
       "      <td>NaN</td>\n",
       "      <td>NaN</td>\n",
       "      <td>NaN</td>\n",
       "      <td>NaN</td>\n",
       "      <td>NaN</td>\n",
       "      <td>2</td>\n",
       "      <td>NaN</td>\n",
       "      <td>NaN</td>\n",
       "      <td>NaN</td>\n",
       "      <td>NaN</td>\n",
       "      <td>NaN</td>\n",
       "      <td>NaN</td>\n",
       "      <td>NaN</td>\n",
       "      <td>NaN</td>\n",
       "    </tr>\n",
       "    <tr>\n",
       "      <th>penalty</th>\n",
       "      <td>NaN</td>\n",
       "      <td>NaN</td>\n",
       "      <td>NaN</td>\n",
       "      <td>NaN</td>\n",
       "      <td>NaN</td>\n",
       "      <td>NaN</td>\n",
       "      <td>NaN</td>\n",
       "      <td>NaN</td>\n",
       "      <td>NaN</td>\n",
       "      <td>NaN</td>\n",
       "      <td>l2</td>\n",
       "      <td>NaN</td>\n",
       "      <td>NaN</td>\n",
       "      <td>NaN</td>\n",
       "      <td>NaN</td>\n",
       "      <td>NaN</td>\n",
       "      <td>NaN</td>\n",
       "      <td>elasticnet</td>\n",
       "    </tr>\n",
       "    <tr>\n",
       "      <th>solver</th>\n",
       "      <td>NaN</td>\n",
       "      <td>NaN</td>\n",
       "      <td>NaN</td>\n",
       "      <td>NaN</td>\n",
       "      <td>NaN</td>\n",
       "      <td>NaN</td>\n",
       "      <td>NaN</td>\n",
       "      <td>NaN</td>\n",
       "      <td>NaN</td>\n",
       "      <td>NaN</td>\n",
       "      <td>NaN</td>\n",
       "      <td>newton-cg</td>\n",
       "      <td>lbfgs</td>\n",
       "      <td>NaN</td>\n",
       "      <td>NaN</td>\n",
       "      <td>NaN</td>\n",
       "      <td>NaN</td>\n",
       "      <td>NaN</td>\n",
       "    </tr>\n",
       "    <tr>\n",
       "      <th>splitter</th>\n",
       "      <td>NaN</td>\n",
       "      <td>NaN</td>\n",
       "      <td>NaN</td>\n",
       "      <td>best</td>\n",
       "      <td>random</td>\n",
       "      <td>NaN</td>\n",
       "      <td>NaN</td>\n",
       "      <td>NaN</td>\n",
       "      <td>NaN</td>\n",
       "      <td>NaN</td>\n",
       "      <td>NaN</td>\n",
       "      <td>NaN</td>\n",
       "      <td>NaN</td>\n",
       "      <td>NaN</td>\n",
       "      <td>NaN</td>\n",
       "      <td>NaN</td>\n",
       "      <td>NaN</td>\n",
       "      <td>NaN</td>\n",
       "    </tr>\n",
       "    <tr>\n",
       "      <th>test</th>\n",
       "      <td>0.929825</td>\n",
       "      <td>0.947368</td>\n",
       "      <td>0.631579</td>\n",
       "      <td>0.921053</td>\n",
       "      <td>0.885965</td>\n",
       "      <td>0.947368</td>\n",
       "      <td>9.385965e-01</td>\n",
       "      <td>0.929825</td>\n",
       "      <td>9.385965e-01</td>\n",
       "      <td>0.938596</td>\n",
       "      <td>0.947368</td>\n",
       "      <td>0.938596</td>\n",
       "      <td>0.95614</td>\n",
       "      <td>0.947368</td>\n",
       "      <td>0.947368</td>\n",
       "      <td>0.938596</td>\n",
       "      <td>0.956140</td>\n",
       "      <td>0.947368</td>\n",
       "    </tr>\n",
       "    <tr>\n",
       "      <th>tol</th>\n",
       "      <td>NaN</td>\n",
       "      <td>NaN</td>\n",
       "      <td>NaN</td>\n",
       "      <td>NaN</td>\n",
       "      <td>NaN</td>\n",
       "      <td>NaN</td>\n",
       "      <td>NaN</td>\n",
       "      <td>3.33333e-06</td>\n",
       "      <td>1.000000e-08</td>\n",
       "      <td>NaN</td>\n",
       "      <td>0.0001</td>\n",
       "      <td>0.0001</td>\n",
       "      <td>NaN</td>\n",
       "      <td>NaN</td>\n",
       "      <td>2.5e-05</td>\n",
       "      <td>NaN</td>\n",
       "      <td>0.000100</td>\n",
       "      <td>1.11111e-05</td>\n",
       "    </tr>\n",
       "    <tr>\n",
       "      <th>tr_time</th>\n",
       "      <td>0.359985</td>\n",
       "      <td>0.088288</td>\n",
       "      <td>0.218446</td>\n",
       "      <td>0.129735</td>\n",
       "      <td>0.044096</td>\n",
       "      <td>0.067164</td>\n",
       "      <td>4.307700e-02</td>\n",
       "      <td>0.190669</td>\n",
       "      <td>1.396845e+00</td>\n",
       "      <td>0.061795</td>\n",
       "      <td>0.401055</td>\n",
       "      <td>0.703601</td>\n",
       "      <td>4.54639</td>\n",
       "      <td>0.009235</td>\n",
       "      <td>0.203169</td>\n",
       "      <td>0.10004</td>\n",
       "      <td>0.160006</td>\n",
       "      <td>0.677305</td>\n",
       "    </tr>\n",
       "    <tr>\n",
       "      <th>train</th>\n",
       "      <td>1</td>\n",
       "      <td>1.000000</td>\n",
       "      <td>0.632967</td>\n",
       "      <td>1</td>\n",
       "      <td>1</td>\n",
       "      <td>1</td>\n",
       "      <td>9.516484e-01</td>\n",
       "      <td>1</td>\n",
       "      <td>1.000000e+00</td>\n",
       "      <td>0.975824</td>\n",
       "      <td>0.98022</td>\n",
       "      <td>0.971429</td>\n",
       "      <td>1</td>\n",
       "      <td>0.947253</td>\n",
       "      <td>0.98022</td>\n",
       "      <td>1</td>\n",
       "      <td>0.951648</td>\n",
       "      <td>0.969231</td>\n",
       "    </tr>\n",
       "    <tr>\n",
       "      <th>var_smoothing</th>\n",
       "      <td>NaN</td>\n",
       "      <td>NaN</td>\n",
       "      <td>NaN</td>\n",
       "      <td>NaN</td>\n",
       "      <td>NaN</td>\n",
       "      <td>NaN</td>\n",
       "      <td>1.000000e-10</td>\n",
       "      <td>NaN</td>\n",
       "      <td>NaN</td>\n",
       "      <td>NaN</td>\n",
       "      <td>NaN</td>\n",
       "      <td>NaN</td>\n",
       "      <td>NaN</td>\n",
       "      <td>NaN</td>\n",
       "      <td>NaN</td>\n",
       "      <td>NaN</td>\n",
       "      <td>NaN</td>\n",
       "      <td>NaN</td>\n",
       "    </tr>\n",
       "    <tr>\n",
       "      <th>warm_start</th>\n",
       "      <td>NaN</td>\n",
       "      <td>NaN</td>\n",
       "      <td>NaN</td>\n",
       "      <td>NaN</td>\n",
       "      <td>NaN</td>\n",
       "      <td>1</td>\n",
       "      <td>NaN</td>\n",
       "      <td>NaN</td>\n",
       "      <td>NaN</td>\n",
       "      <td>NaN</td>\n",
       "      <td>NaN</td>\n",
       "      <td>NaN</td>\n",
       "      <td>NaN</td>\n",
       "      <td>NaN</td>\n",
       "      <td>1</td>\n",
       "      <td>0</td>\n",
       "      <td>NaN</td>\n",
       "      <td>NaN</td>\n",
       "    </tr>\n",
       "    <tr>\n",
       "      <th>weights</th>\n",
       "      <td>NaN</td>\n",
       "      <td>NaN</td>\n",
       "      <td>NaN</td>\n",
       "      <td>NaN</td>\n",
       "      <td>NaN</td>\n",
       "      <td>NaN</td>\n",
       "      <td>NaN</td>\n",
       "      <td>NaN</td>\n",
       "      <td>NaN</td>\n",
       "      <td>uniform</td>\n",
       "      <td>NaN</td>\n",
       "      <td>NaN</td>\n",
       "      <td>NaN</td>\n",
       "      <td>NaN</td>\n",
       "      <td>NaN</td>\n",
       "      <td>NaN</td>\n",
       "      <td>NaN</td>\n",
       "      <td>NaN</td>\n",
       "    </tr>\n",
       "  </tbody>\n",
       "</table>\n",
       "</div>"
      ],
      "text/plain": [
       "                   ada_boost    bagging  bernoulli decision_tree extra_tree  \\\n",
       "C                        NaN        NaN        NaN           NaN        NaN   \n",
       "activation               NaN        NaN        NaN           NaN        NaN   \n",
       "algorithm              SAMME        NaN        NaN           NaN        NaN   \n",
       "alpha                    NaN        NaN   0.900000           NaN        NaN   \n",
       "bootstrap_features       NaN   1.000000        NaN           NaN        NaN   \n",
       "criterion                NaN        NaN        NaN          gini    entropy   \n",
       "early_stopping           NaN        NaN        NaN           NaN        NaN   \n",
       "f1_test             0.929449   0.946764   0.504161      0.920849   0.885017   \n",
       "f1_train                   1   1.000000   0.497399             1          1   \n",
       "l2_regularization        NaN        NaN        NaN           NaN        NaN   \n",
       "learning_rate            0.9        NaN        NaN           NaN        NaN   \n",
       "loss                     NaN        NaN        NaN           NaN        NaN   \n",
       "metric                   NaN        NaN        NaN           NaN        NaN   \n",
       "multi_class              NaN        NaN        NaN           NaN        NaN   \n",
       "n_estimators              50  35.000000        NaN           NaN        NaN   \n",
       "n_neighbors              NaN        NaN        NaN           NaN        NaN   \n",
       "oob_score                NaN        NaN        NaN           NaN        NaN   \n",
       "p                        NaN        NaN        NaN           NaN        NaN   \n",
       "penalty                  NaN        NaN        NaN           NaN        NaN   \n",
       "solver                   NaN        NaN        NaN           NaN        NaN   \n",
       "splitter                 NaN        NaN        NaN          best     random   \n",
       "test                0.929825   0.947368   0.631579      0.921053   0.885965   \n",
       "tol                      NaN        NaN        NaN           NaN        NaN   \n",
       "tr_time             0.359985   0.088288   0.218446      0.129735   0.044096   \n",
       "train                      1   1.000000   0.632967             1          1   \n",
       "var_smoothing            NaN        NaN        NaN           NaN        NaN   \n",
       "warm_start               NaN        NaN        NaN           NaN        NaN   \n",
       "weights                  NaN        NaN        NaN           NaN        NaN   \n",
       "\n",
       "                   extra_trees      gaussian gradient_boosting  \\\n",
       "C                          NaN           NaN               NaN   \n",
       "activation                 NaN           NaN               NaN   \n",
       "algorithm                  NaN           NaN               NaN   \n",
       "alpha                      NaN           NaN               NaN   \n",
       "bootstrap_features         NaN           NaN               NaN   \n",
       "criterion                 gini           NaN      friedman_mse   \n",
       "early_stopping             NaN           NaN               NaN   \n",
       "f1_test               0.946764  9.380860e-01          0.929449   \n",
       "f1_train                     1  9.516484e-01                 1   \n",
       "l2_regularization          NaN           NaN               NaN   \n",
       "learning_rate              NaN           NaN               0.4   \n",
       "loss                       NaN           NaN          deviance   \n",
       "metric                     NaN           NaN               NaN   \n",
       "multi_class                NaN           NaN               NaN   \n",
       "n_estimators                30           NaN               NaN   \n",
       "n_neighbors                NaN           NaN               NaN   \n",
       "oob_score                  NaN           NaN               NaN   \n",
       "p                          NaN           NaN               NaN   \n",
       "penalty                    NaN           NaN               NaN   \n",
       "solver                     NaN           NaN               NaN   \n",
       "splitter                   NaN           NaN               NaN   \n",
       "test                  0.947368  9.385965e-01          0.929825   \n",
       "tol                        NaN           NaN       3.33333e-06   \n",
       "tr_time               0.067164  4.307700e-02          0.190669   \n",
       "train                        1  9.516484e-01                 1   \n",
       "var_smoothing              NaN  1.000000e-10               NaN   \n",
       "warm_start                   1           NaN               NaN   \n",
       "weights                    NaN           NaN               NaN   \n",
       "\n",
       "                    hist_gradient_boosting k_neighbors linear_svc  \\\n",
       "C                                      NaN         NaN        1.2   \n",
       "activation                             NaN         NaN        NaN   \n",
       "algorithm                              NaN   ball_tree        NaN   \n",
       "alpha                                  NaN         NaN        NaN   \n",
       "bootstrap_features                     NaN         NaN        NaN   \n",
       "criterion                              NaN         NaN        NaN   \n",
       "early_stopping                         NaN         NaN        NaN   \n",
       "f1_test                       9.384383e-01    0.938086   0.946764   \n",
       "f1_train                      1.000000e+00     0.97578   0.980158   \n",
       "l2_regularization             1.000000e-01         NaN        NaN   \n",
       "learning_rate                          NaN         NaN        NaN   \n",
       "loss                                   NaN         NaN        NaN   \n",
       "metric                                 NaN         NaN        NaN   \n",
       "multi_class                            NaN         NaN        ovr   \n",
       "n_estimators                           NaN         NaN        NaN   \n",
       "n_neighbors                            NaN           6        NaN   \n",
       "oob_score                              NaN         NaN        NaN   \n",
       "p                                      NaN           2        NaN   \n",
       "penalty                                NaN         NaN         l2   \n",
       "solver                                 NaN         NaN        NaN   \n",
       "splitter                               NaN         NaN        NaN   \n",
       "test                          9.385965e-01    0.938596   0.947368   \n",
       "tol                           1.000000e-08         NaN     0.0001   \n",
       "tr_time                       1.396845e+00    0.061795   0.401055   \n",
       "train                         1.000000e+00    0.975824    0.98022   \n",
       "var_smoothing                          NaN         NaN        NaN   \n",
       "warm_start                             NaN         NaN        NaN   \n",
       "weights                                NaN     uniform        NaN   \n",
       "\n",
       "                   logistic_regression         mlp nearest_centroid  \\\n",
       "C                                  1.3         NaN              NaN   \n",
       "activation                         NaN    logistic              NaN   \n",
       "algorithm                          NaN         NaN              NaN   \n",
       "alpha                              NaN       5e-06              NaN   \n",
       "bootstrap_features                 NaN         NaN              NaN   \n",
       "criterion                          NaN         NaN              NaN   \n",
       "early_stopping                     NaN        True              NaN   \n",
       "f1_test                       0.937684    0.955488         0.946397   \n",
       "f1_train                      0.971221           1         0.946752   \n",
       "l2_regularization                  NaN         NaN              NaN   \n",
       "learning_rate                      NaN  invscaling              NaN   \n",
       "loss                               NaN         NaN              NaN   \n",
       "metric                             NaN         NaN        euclidean   \n",
       "multi_class                        NaN         NaN              NaN   \n",
       "n_estimators                       NaN         NaN              NaN   \n",
       "n_neighbors                        NaN         NaN              NaN   \n",
       "oob_score                          NaN         NaN              NaN   \n",
       "p                                  NaN         NaN              NaN   \n",
       "penalty                            NaN         NaN              NaN   \n",
       "solver                       newton-cg       lbfgs              NaN   \n",
       "splitter                           NaN         NaN              NaN   \n",
       "test                          0.938596     0.95614         0.947368   \n",
       "tol                             0.0001         NaN              NaN   \n",
       "tr_time                       0.703601     4.54639         0.009235   \n",
       "train                         0.971429           1         0.947253   \n",
       "var_smoothing                      NaN         NaN              NaN   \n",
       "warm_start                         NaN         NaN              NaN   \n",
       "weights                            NaN         NaN              NaN   \n",
       "\n",
       "                   passive_aggressive random_forest     ridge          sgd  \n",
       "C                                 NaN           NaN       NaN          NaN  \n",
       "activation                        NaN           NaN       NaN          NaN  \n",
       "algorithm                         NaN           NaN       NaN          NaN  \n",
       "alpha                             NaN           NaN  0.500000       0.0008  \n",
       "bootstrap_features                NaN           NaN       NaN          NaN  \n",
       "criterion                         NaN          gini       NaN          NaN  \n",
       "early_stopping                   True           NaN       NaN          NaN  \n",
       "f1_test                      0.946764      0.937684  0.955488     0.946764  \n",
       "f1_train                     0.980184             1  0.950957     0.968985  \n",
       "l2_regularization                 NaN           NaN       NaN          NaN  \n",
       "learning_rate                     NaN           NaN       NaN          NaN  \n",
       "loss                            hinge           NaN       NaN        hinge  \n",
       "metric                            NaN           NaN       NaN          NaN  \n",
       "multi_class                       NaN           NaN       NaN          NaN  \n",
       "n_estimators                      NaN            40       NaN          NaN  \n",
       "n_neighbors                       NaN           NaN       NaN          NaN  \n",
       "oob_score                         NaN             1       NaN          NaN  \n",
       "p                                 NaN           NaN       NaN          NaN  \n",
       "penalty                           NaN           NaN       NaN   elasticnet  \n",
       "solver                            NaN           NaN       NaN          NaN  \n",
       "splitter                          NaN           NaN       NaN          NaN  \n",
       "test                         0.947368      0.938596  0.956140     0.947368  \n",
       "tol                           2.5e-05           NaN  0.000100  1.11111e-05  \n",
       "tr_time                      0.203169       0.10004  0.160006     0.677305  \n",
       "train                         0.98022             1  0.951648     0.969231  \n",
       "var_smoothing                     NaN           NaN       NaN          NaN  \n",
       "warm_start                          1             0       NaN          NaN  \n",
       "weights                           NaN           NaN       NaN          NaN  "
      ]
     },
     "execution_count": 28,
     "metadata": {},
     "output_type": "execute_result"
    }
   ],
   "source": [
    "df"
   ]
  },
  {
   "cell_type": "code",
   "execution_count": 29,
   "metadata": {
    "pycharm": {}
   },
   "outputs": [],
   "source": [
    "df.to_csv(result_path)"
   ]
  }
 ],
 "metadata": {
  "kernelspec": {
   "display_name": "Python 3",
   "language": "python",
   "name": "python3"
  },
  "language_info": {
   "codemirror_mode": {
    "name": "ipython",
    "version": 3
   },
   "file_extension": ".py",
   "mimetype": "text/x-python",
   "name": "python",
   "nbconvert_exporter": "python",
   "pygments_lexer": "ipython3",
   "version": "3.6.7"
  }
 },
 "nbformat": 4,
 "nbformat_minor": 1
}
