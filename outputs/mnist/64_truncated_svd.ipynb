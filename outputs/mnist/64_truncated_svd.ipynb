{
 "cells": [
  {
   "cell_type": "code",
   "execution_count": 1,
   "metadata": {
    "pycharm": {}
   },
   "outputs": [],
   "source": [
    "import os\n",
    "import pandas as pd\n",
    "from sklearn.model_selection import StratifiedShuffleSplit\n",
    "\n",
    "from dimensionality_reduction import reduce_dimension\n",
    "import load_database\n",
    "from algorithms import *"
   ]
  },
  {
   "cell_type": "code",
   "execution_count": 2,
   "metadata": {
    "pycharm": {}
   },
   "outputs": [],
   "source": [
    "import warnings\n",
    "warnings.filterwarnings('ignore')"
   ]
  },
  {
   "cell_type": "code",
   "execution_count": 3,
   "metadata": {
    "pycharm": {}
   },
   "outputs": [],
   "source": [
    "database_name = os.environ['DATABASE']\n",
    "n_components = int(os.environ['N_COMPONENTS'])\n",
    "dimensionality_algorithm = os.environ['DIMENSIONALITY_ALGORITHM']"
   ]
  },
  {
   "cell_type": "code",
   "execution_count": 4,
   "metadata": {},
   "outputs": [],
   "source": [
    "result_path = 'results/%s_%s_%s.csv' %(database_name, n_components, dimensionality_algorithm)"
   ]
  },
  {
   "cell_type": "code",
   "execution_count": 5,
   "metadata": {},
   "outputs": [],
   "source": [
    "X, y = load_database.load(database_name)\n",
    "X = reduce_dimension(dimensionality_algorithm, X, n_components) if n_components else X"
   ]
  },
  {
   "cell_type": "code",
   "execution_count": 6,
   "metadata": {
    "pycharm": {}
   },
   "outputs": [
    {
     "data": {
      "text/plain": [
       "(70000, 64)"
      ]
     },
     "execution_count": 6,
     "metadata": {},
     "output_type": "execute_result"
    }
   ],
   "source": [
    "X.shape"
   ]
  },
  {
   "cell_type": "code",
   "execution_count": 7,
   "metadata": {},
   "outputs": [],
   "source": [
    "results = {}"
   ]
  },
  {
   "cell_type": "code",
   "execution_count": 8,
   "metadata": {
    "pycharm": {}
   },
   "outputs": [],
   "source": [
    "sss = StratifiedShuffleSplit(n_splits=1, test_size=0.2)\n",
    "for train_index, test_index in sss.split(X, y):\n",
    "    X_train, X_test = X[train_index], X[test_index]\n",
    "    y_train, y_test = y[train_index], y[test_index]"
   ]
  },
  {
   "cell_type": "code",
   "execution_count": 9,
   "metadata": {
    "pycharm": {}
   },
   "outputs": [
    {
     "name": "stdout",
     "output_type": "stream",
     "text": [
      "42.25689800000001\n",
      "{'algorithm': 'SAMME.R', 'learning_rate': 0.4, 'n_estimators': 90}\n",
      "0.7032857142857143\n",
      "0.7168214285714286 0.7093571428571429 0.7164591718856862 0.7089373931904345\n"
     ]
    }
   ],
   "source": [
    "result = train_test(X_train, y_train, X_test, y_test, 'ada_boost')\n",
    "results.update(result)"
   ]
  },
  {
   "cell_type": "code",
   "execution_count": 10,
   "metadata": {
    "pycharm": {}
   },
   "outputs": [
    {
     "name": "stdout",
     "output_type": "stream",
     "text": [
      "156.256903\n",
      "{'bootstrap_features': 1, 'n_estimators': 40}\n",
      "0.9417142857142857\n",
      "0.9999821428571428 0.9507142857142857 0.9999821428727169 0.9505985194267518\n"
     ]
    }
   ],
   "source": [
    "result = train_test(X_train, y_train, X_test, y_test, 'bagging')\n",
    "results.update(result)"
   ]
  },
  {
   "cell_type": "code",
   "execution_count": 11,
   "metadata": {
    "pycharm": {}
   },
   "outputs": [
    {
     "name": "stdout",
     "output_type": "stream",
     "text": [
      "4.637022999999999\n",
      "{'criterion': 'entropy', 'n_estimators': 45, 'warm_start': 1}\n",
      "0.9481428571428572\n",
      "1.0 0.9570714285714286 1.0 0.957007630432733\n"
     ]
    }
   ],
   "source": [
    "result = train_test(X_train, y_train, X_test, y_test, 'extra_trees')\n",
    "results.update(result)"
   ]
  },
  {
   "cell_type": "code",
   "execution_count": 12,
   "metadata": {
    "pycharm": {}
   },
   "outputs": [
    {
     "name": "stdout",
     "output_type": "stream",
     "text": [
      "55.78169600000001\n",
      "{'criterion': 'entropy', 'n_estimators': 45, 'oob_score': 0, 'warm_start': 0}\n",
      "0.9424642857142858\n",
      "1.0 0.9539285714285715 1.0 0.9538519037863132\n"
     ]
    }
   ],
   "source": [
    "result = train_test(X_train, y_train, X_test, y_test, 'random_forest')\n",
    "results.update(result)"
   ]
  },
  {
   "cell_type": "code",
   "execution_count": 13,
   "metadata": {
    "pycharm": {}
   },
   "outputs": [
    {
     "name": "stdout",
     "output_type": "stream",
     "text": [
      "23.135244\n",
      "{'C': 1.4, 'solver': 'saga', 'tol': 5e-05}\n",
      "0.8980357142857143\n",
      "0.9022857142857142 0.8986428571428572 0.9017679537165606 0.8980693690524322\n"
     ]
    }
   ],
   "source": [
    "result = train_test(X_train, y_train, X_test, y_test, 'logistic_regression')\n",
    "results.update(result)"
   ]
  },
  {
   "cell_type": "code",
   "execution_count": 14,
   "metadata": {
    "pycharm": {}
   },
   "outputs": [
    {
     "name": "stdout",
     "output_type": "stream",
     "text": [
      "2.2613360000000284\n",
      "{'early_stopping': False, 'loss': 'squared_hinge', 'tol': 0.0001, 'warm_start': 0}\n",
      "0.8898392857142857\n",
      "0.87325 0.8752142857142857 0.8769594652471099 0.878688179147851\n"
     ]
    }
   ],
   "source": [
    "result = train_test(X_train, y_train, X_test, y_test, 'passive_aggressive')\n",
    "results.update(result)"
   ]
  },
  {
   "cell_type": "code",
   "execution_count": 15,
   "metadata": {
    "pycharm": {}
   },
   "outputs": [
    {
     "name": "stdout",
     "output_type": "stream",
     "text": [
      "0.9384450000000015\n",
      "{'alpha': 1.2, 'tol': 0.0001}\n",
      "0.8465714285714285\n",
      "0.8480714285714286 0.8444285714285714 0.8460390138512632 0.8422346949413596\n"
     ]
    }
   ],
   "source": [
    "result = train_test(X_train, y_train, X_test, y_test, 'ridge')\n",
    "results.update(result)"
   ]
  },
  {
   "cell_type": "code",
   "execution_count": 16,
   "metadata": {
    "pycharm": {}
   },
   "outputs": [
    {
     "name": "stdout",
     "output_type": "stream",
     "text": [
      "88.77015499999999\n",
      "{'alpha': 0.0008, 'loss': 'modified_huber', 'penalty': 'none', 'tol': 3.3333333333333335e-05}\n",
      "0.89775\n",
      "0.9007321428571429 0.8972857142857142 0.90095659916709 0.8975242726240339\n"
     ]
    }
   ],
   "source": [
    "result = train_test(X_train, y_train, X_test, y_test, 'sgd')\n",
    "results.update(result)"
   ]
  },
  {
   "cell_type": "code",
   "execution_count": 17,
   "metadata": {
    "pycharm": {}
   },
   "outputs": [
    {
     "name": "stdout",
     "output_type": "stream",
     "text": [
      "0.38599199999998746\n",
      "{'alpha': 0.1}\n",
      "0.11253571428571428\n",
      "0.11346428571428571 0.1125 0.024639920790418834 0.022752808988764042\n"
     ]
    }
   ],
   "source": [
    "result = train_test(X_train, y_train, X_test, y_test, 'bernoulli')\n",
    "results.update(result)"
   ]
  },
  {
   "cell_type": "code",
   "execution_count": 18,
   "metadata": {
    "pycharm": {}
   },
   "outputs": [
    {
     "name": "stdout",
     "output_type": "stream",
     "text": [
      "0.3507539999999949\n",
      "{'var_smoothing': 1e-10}\n",
      "0.8747142857142857\n",
      "0.8760892857142857 0.8736428571428572 0.8767317398510963 0.8744082214831668\n"
     ]
    }
   ],
   "source": [
    "result = train_test(X_train, y_train, X_test, y_test, 'gaussian')\n",
    "results.update(result)"
   ]
  },
  {
   "cell_type": "code",
   "execution_count": 19,
   "metadata": {
    "pycharm": {}
   },
   "outputs": [
    {
     "name": "stdout",
     "output_type": "stream",
     "text": [
      "2.9201869999999985\n",
      "{'algorithm': 'ball_tree', 'n_neighbors': 4, 'p': 2, 'weights': 'distance'}\n",
      "0.9631964285714286\n",
      "1.0 0.9714285714285714 1.0 0.9713643298053043\n"
     ]
    }
   ],
   "source": [
    "result = train_test(X_train, y_train, X_test, y_test, 'k_neighbors')\n",
    "results.update(result)"
   ]
  },
  {
   "cell_type": "code",
   "execution_count": 20,
   "metadata": {
    "pycharm": {}
   },
   "outputs": [
    {
     "name": "stdout",
     "output_type": "stream",
     "text": [
      "0.2516200000000026\n",
      "{'metric': 'euclidean'}\n",
      "0.8455\n",
      "0.8462142857142857 0.8419285714285715 0.8462008159323912 0.8419044108459052\n"
     ]
    }
   ],
   "source": [
    "result = train_test(X_train, y_train, X_test, y_test, 'nearest_centroid')\n",
    "results.update(result)"
   ]
  },
  {
   "cell_type": "code",
   "execution_count": 21,
   "metadata": {
    "pycharm": {}
   },
   "outputs": [
    {
     "name": "stdout",
     "output_type": "stream",
     "text": [
      "322.592993\n",
      "{'activation': 'tanh', 'alpha': 2e-06, 'early_stopping': True, 'learning_rate': 'constant', 'solver': 'lbfgs'}\n",
      "0.9508571428571428\n",
      "0.9564464285714286 0.952 0.9564401810491419 0.9519733206848326\n"
     ]
    }
   ],
   "source": [
    "result = train_test(X_train, y_train, X_test, y_test, 'mlp')\n",
    "results.update(result)"
   ]
  },
  {
   "cell_type": "code",
   "execution_count": 22,
   "metadata": {
    "pycharm": {}
   },
   "outputs": [
    {
     "name": "stdout",
     "output_type": "stream",
     "text": [
      "27.543904999999995\n",
      "{'C': 1.4, 'multi_class': 'crammer_singer', 'penalty': 'l2', 'tol': 2.5e-05}\n",
      "0.911875\n",
      "0.9164464285714286 0.9132857142857143 0.916177449785288 0.9129260660297152\n"
     ]
    }
   ],
   "source": [
    "result = train_test(X_train, y_train, X_test, y_test, 'linear_svc')\n",
    "results.update(result)"
   ]
  },
  {
   "cell_type": "code",
   "execution_count": 23,
   "metadata": {
    "pycharm": {}
   },
   "outputs": [
    {
     "name": "stdout",
     "output_type": "stream",
     "text": [
      "14.629817000000003\n",
      "{'criterion': 'entropy', 'splitter': 'best'}\n",
      "0.8286785714285714\n",
      "1.0 0.8505 1.0 0.8504902021150259\n"
     ]
    }
   ],
   "source": [
    "result = train_test(X_train, y_train, X_test, y_test, 'decision_tree')\n",
    "results.update(result)"
   ]
  },
  {
   "cell_type": "code",
   "execution_count": 24,
   "metadata": {
    "pycharm": {}
   },
   "outputs": [
    {
     "name": "stdout",
     "output_type": "stream",
     "text": [
      "2.152966000000106\n",
      "{'criterion': 'entropy', 'splitter': 'best'}\n",
      "0.7599642857142858\n",
      "1.0 0.7757142857142857 1.0 0.7755428536304051\n"
     ]
    }
   ],
   "source": [
    "result = train_test(X_train, y_train, X_test, y_test, 'extra_tree')\n",
    "results.update(result)"
   ]
  },
  {
   "cell_type": "code",
   "execution_count": 25,
   "metadata": {
    "pycharm": {}
   },
   "outputs": [
    {
     "name": "stdout",
     "output_type": "stream",
     "text": [
      "333.2162890000002\n",
      "{'criterion': 'friedman_mse', 'learning_rate': 0.3, 'loss': 'deviance', 'tol': 1e-05}\n",
      "0.9341607142857142\n",
      "0.9851607142857143 0.9405714285714286 0.985153795690866 0.9405137885516779\n"
     ]
    }
   ],
   "source": [
    "result = train_test(X_train, y_train, X_test, y_test, 'gradient_boosting')\n",
    "results.update(result)"
   ]
  },
  {
   "cell_type": "code",
   "execution_count": 26,
   "metadata": {
    "pycharm": {}
   },
   "outputs": [
    {
     "name": "stdout",
     "output_type": "stream",
     "text": [
      "62.16557700000021\n",
      "{'l2_regularization': 0, 'tol': 1e-08}\n",
      "0.9600892857142858\n",
      "1.0 0.9670714285714286 1.0 0.9670437187296046\n"
     ]
    }
   ],
   "source": [
    "result = train_test(X_train, y_train, X_test, y_test, 'hist_gradient_boosting')\n",
    "results.update(result)"
   ]
  },
  {
   "cell_type": "code",
   "execution_count": 27,
   "metadata": {
    "pycharm": {}
   },
   "outputs": [],
   "source": [
    "df = pd.DataFrame.from_records(results)"
   ]
  },
  {
   "cell_type": "code",
   "execution_count": 28,
   "metadata": {
    "pycharm": {}
   },
   "outputs": [
    {
     "data": {
      "text/html": [
       "<div>\n",
       "<style scoped>\n",
       "    .dataframe tbody tr th:only-of-type {\n",
       "        vertical-align: middle;\n",
       "    }\n",
       "\n",
       "    .dataframe tbody tr th {\n",
       "        vertical-align: top;\n",
       "    }\n",
       "\n",
       "    .dataframe thead th {\n",
       "        text-align: right;\n",
       "    }\n",
       "</style>\n",
       "<table border=\"1\" class=\"dataframe\">\n",
       "  <thead>\n",
       "    <tr style=\"text-align: right;\">\n",
       "      <th></th>\n",
       "      <th>ada_boost</th>\n",
       "      <th>bagging</th>\n",
       "      <th>bernoulli</th>\n",
       "      <th>decision_tree</th>\n",
       "      <th>extra_tree</th>\n",
       "      <th>extra_trees</th>\n",
       "      <th>gaussian</th>\n",
       "      <th>gradient_boosting</th>\n",
       "      <th>hist_gradient_boosting</th>\n",
       "      <th>k_neighbors</th>\n",
       "      <th>linear_svc</th>\n",
       "      <th>logistic_regression</th>\n",
       "      <th>mlp</th>\n",
       "      <th>nearest_centroid</th>\n",
       "      <th>passive_aggressive</th>\n",
       "      <th>random_forest</th>\n",
       "      <th>ridge</th>\n",
       "      <th>sgd</th>\n",
       "    </tr>\n",
       "  </thead>\n",
       "  <tbody>\n",
       "    <tr>\n",
       "      <th>C</th>\n",
       "      <td>NaN</td>\n",
       "      <td>NaN</td>\n",
       "      <td>NaN</td>\n",
       "      <td>NaN</td>\n",
       "      <td>NaN</td>\n",
       "      <td>NaN</td>\n",
       "      <td>NaN</td>\n",
       "      <td>NaN</td>\n",
       "      <td>NaN</td>\n",
       "      <td>NaN</td>\n",
       "      <td>1.4</td>\n",
       "      <td>1.4</td>\n",
       "      <td>NaN</td>\n",
       "      <td>NaN</td>\n",
       "      <td>NaN</td>\n",
       "      <td>NaN</td>\n",
       "      <td>NaN</td>\n",
       "      <td>NaN</td>\n",
       "    </tr>\n",
       "    <tr>\n",
       "      <th>activation</th>\n",
       "      <td>NaN</td>\n",
       "      <td>NaN</td>\n",
       "      <td>NaN</td>\n",
       "      <td>NaN</td>\n",
       "      <td>NaN</td>\n",
       "      <td>NaN</td>\n",
       "      <td>NaN</td>\n",
       "      <td>NaN</td>\n",
       "      <td>NaN</td>\n",
       "      <td>NaN</td>\n",
       "      <td>NaN</td>\n",
       "      <td>NaN</td>\n",
       "      <td>tanh</td>\n",
       "      <td>NaN</td>\n",
       "      <td>NaN</td>\n",
       "      <td>NaN</td>\n",
       "      <td>NaN</td>\n",
       "      <td>NaN</td>\n",
       "    </tr>\n",
       "    <tr>\n",
       "      <th>algorithm</th>\n",
       "      <td>SAMME.R</td>\n",
       "      <td>NaN</td>\n",
       "      <td>NaN</td>\n",
       "      <td>NaN</td>\n",
       "      <td>NaN</td>\n",
       "      <td>NaN</td>\n",
       "      <td>NaN</td>\n",
       "      <td>NaN</td>\n",
       "      <td>NaN</td>\n",
       "      <td>ball_tree</td>\n",
       "      <td>NaN</td>\n",
       "      <td>NaN</td>\n",
       "      <td>NaN</td>\n",
       "      <td>NaN</td>\n",
       "      <td>NaN</td>\n",
       "      <td>NaN</td>\n",
       "      <td>NaN</td>\n",
       "      <td>NaN</td>\n",
       "    </tr>\n",
       "    <tr>\n",
       "      <th>alpha</th>\n",
       "      <td>NaN</td>\n",
       "      <td>NaN</td>\n",
       "      <td>0.100000</td>\n",
       "      <td>NaN</td>\n",
       "      <td>NaN</td>\n",
       "      <td>NaN</td>\n",
       "      <td>NaN</td>\n",
       "      <td>NaN</td>\n",
       "      <td>NaN</td>\n",
       "      <td>NaN</td>\n",
       "      <td>NaN</td>\n",
       "      <td>NaN</td>\n",
       "      <td>2e-06</td>\n",
       "      <td>NaN</td>\n",
       "      <td>NaN</td>\n",
       "      <td>NaN</td>\n",
       "      <td>1.200000</td>\n",
       "      <td>0.0008</td>\n",
       "    </tr>\n",
       "    <tr>\n",
       "      <th>bootstrap_features</th>\n",
       "      <td>NaN</td>\n",
       "      <td>1.000000</td>\n",
       "      <td>NaN</td>\n",
       "      <td>NaN</td>\n",
       "      <td>NaN</td>\n",
       "      <td>NaN</td>\n",
       "      <td>NaN</td>\n",
       "      <td>NaN</td>\n",
       "      <td>NaN</td>\n",
       "      <td>NaN</td>\n",
       "      <td>NaN</td>\n",
       "      <td>NaN</td>\n",
       "      <td>NaN</td>\n",
       "      <td>NaN</td>\n",
       "      <td>NaN</td>\n",
       "      <td>NaN</td>\n",
       "      <td>NaN</td>\n",
       "      <td>NaN</td>\n",
       "    </tr>\n",
       "    <tr>\n",
       "      <th>criterion</th>\n",
       "      <td>NaN</td>\n",
       "      <td>NaN</td>\n",
       "      <td>NaN</td>\n",
       "      <td>entropy</td>\n",
       "      <td>entropy</td>\n",
       "      <td>entropy</td>\n",
       "      <td>NaN</td>\n",
       "      <td>friedman_mse</td>\n",
       "      <td>NaN</td>\n",
       "      <td>NaN</td>\n",
       "      <td>NaN</td>\n",
       "      <td>NaN</td>\n",
       "      <td>NaN</td>\n",
       "      <td>NaN</td>\n",
       "      <td>NaN</td>\n",
       "      <td>entropy</td>\n",
       "      <td>NaN</td>\n",
       "      <td>NaN</td>\n",
       "    </tr>\n",
       "    <tr>\n",
       "      <th>early_stopping</th>\n",
       "      <td>NaN</td>\n",
       "      <td>NaN</td>\n",
       "      <td>NaN</td>\n",
       "      <td>NaN</td>\n",
       "      <td>NaN</td>\n",
       "      <td>NaN</td>\n",
       "      <td>NaN</td>\n",
       "      <td>NaN</td>\n",
       "      <td>NaN</td>\n",
       "      <td>NaN</td>\n",
       "      <td>NaN</td>\n",
       "      <td>NaN</td>\n",
       "      <td>True</td>\n",
       "      <td>NaN</td>\n",
       "      <td>False</td>\n",
       "      <td>NaN</td>\n",
       "      <td>NaN</td>\n",
       "      <td>NaN</td>\n",
       "    </tr>\n",
       "    <tr>\n",
       "      <th>f1_test</th>\n",
       "      <td>0.708937</td>\n",
       "      <td>0.950599</td>\n",
       "      <td>0.022753</td>\n",
       "      <td>0.85049</td>\n",
       "      <td>0.775543</td>\n",
       "      <td>0.957008</td>\n",
       "      <td>8.744082e-01</td>\n",
       "      <td>0.940514</td>\n",
       "      <td>9.670437e-01</td>\n",
       "      <td>0.971364</td>\n",
       "      <td>0.912926</td>\n",
       "      <td>0.898069</td>\n",
       "      <td>0.951973</td>\n",
       "      <td>0.841904</td>\n",
       "      <td>0.878688</td>\n",
       "      <td>0.953852</td>\n",
       "      <td>0.842235</td>\n",
       "      <td>0.897524</td>\n",
       "    </tr>\n",
       "    <tr>\n",
       "      <th>f1_train</th>\n",
       "      <td>0.716459</td>\n",
       "      <td>0.999982</td>\n",
       "      <td>0.024640</td>\n",
       "      <td>1</td>\n",
       "      <td>1</td>\n",
       "      <td>1</td>\n",
       "      <td>8.767317e-01</td>\n",
       "      <td>0.985154</td>\n",
       "      <td>1.000000e+00</td>\n",
       "      <td>1</td>\n",
       "      <td>0.916177</td>\n",
       "      <td>0.901768</td>\n",
       "      <td>0.95644</td>\n",
       "      <td>0.846201</td>\n",
       "      <td>0.876959</td>\n",
       "      <td>1</td>\n",
       "      <td>0.846039</td>\n",
       "      <td>0.900957</td>\n",
       "    </tr>\n",
       "    <tr>\n",
       "      <th>l2_regularization</th>\n",
       "      <td>NaN</td>\n",
       "      <td>NaN</td>\n",
       "      <td>NaN</td>\n",
       "      <td>NaN</td>\n",
       "      <td>NaN</td>\n",
       "      <td>NaN</td>\n",
       "      <td>NaN</td>\n",
       "      <td>NaN</td>\n",
       "      <td>0.000000e+00</td>\n",
       "      <td>NaN</td>\n",
       "      <td>NaN</td>\n",
       "      <td>NaN</td>\n",
       "      <td>NaN</td>\n",
       "      <td>NaN</td>\n",
       "      <td>NaN</td>\n",
       "      <td>NaN</td>\n",
       "      <td>NaN</td>\n",
       "      <td>NaN</td>\n",
       "    </tr>\n",
       "    <tr>\n",
       "      <th>learning_rate</th>\n",
       "      <td>0.4</td>\n",
       "      <td>NaN</td>\n",
       "      <td>NaN</td>\n",
       "      <td>NaN</td>\n",
       "      <td>NaN</td>\n",
       "      <td>NaN</td>\n",
       "      <td>NaN</td>\n",
       "      <td>0.3</td>\n",
       "      <td>NaN</td>\n",
       "      <td>NaN</td>\n",
       "      <td>NaN</td>\n",
       "      <td>NaN</td>\n",
       "      <td>constant</td>\n",
       "      <td>NaN</td>\n",
       "      <td>NaN</td>\n",
       "      <td>NaN</td>\n",
       "      <td>NaN</td>\n",
       "      <td>NaN</td>\n",
       "    </tr>\n",
       "    <tr>\n",
       "      <th>loss</th>\n",
       "      <td>NaN</td>\n",
       "      <td>NaN</td>\n",
       "      <td>NaN</td>\n",
       "      <td>NaN</td>\n",
       "      <td>NaN</td>\n",
       "      <td>NaN</td>\n",
       "      <td>NaN</td>\n",
       "      <td>deviance</td>\n",
       "      <td>NaN</td>\n",
       "      <td>NaN</td>\n",
       "      <td>NaN</td>\n",
       "      <td>NaN</td>\n",
       "      <td>NaN</td>\n",
       "      <td>NaN</td>\n",
       "      <td>squared_hinge</td>\n",
       "      <td>NaN</td>\n",
       "      <td>NaN</td>\n",
       "      <td>modified_huber</td>\n",
       "    </tr>\n",
       "    <tr>\n",
       "      <th>metric</th>\n",
       "      <td>NaN</td>\n",
       "      <td>NaN</td>\n",
       "      <td>NaN</td>\n",
       "      <td>NaN</td>\n",
       "      <td>NaN</td>\n",
       "      <td>NaN</td>\n",
       "      <td>NaN</td>\n",
       "      <td>NaN</td>\n",
       "      <td>NaN</td>\n",
       "      <td>NaN</td>\n",
       "      <td>NaN</td>\n",
       "      <td>NaN</td>\n",
       "      <td>NaN</td>\n",
       "      <td>euclidean</td>\n",
       "      <td>NaN</td>\n",
       "      <td>NaN</td>\n",
       "      <td>NaN</td>\n",
       "      <td>NaN</td>\n",
       "    </tr>\n",
       "    <tr>\n",
       "      <th>multi_class</th>\n",
       "      <td>NaN</td>\n",
       "      <td>NaN</td>\n",
       "      <td>NaN</td>\n",
       "      <td>NaN</td>\n",
       "      <td>NaN</td>\n",
       "      <td>NaN</td>\n",
       "      <td>NaN</td>\n",
       "      <td>NaN</td>\n",
       "      <td>NaN</td>\n",
       "      <td>NaN</td>\n",
       "      <td>crammer_singer</td>\n",
       "      <td>NaN</td>\n",
       "      <td>NaN</td>\n",
       "      <td>NaN</td>\n",
       "      <td>NaN</td>\n",
       "      <td>NaN</td>\n",
       "      <td>NaN</td>\n",
       "      <td>NaN</td>\n",
       "    </tr>\n",
       "    <tr>\n",
       "      <th>n_estimators</th>\n",
       "      <td>90</td>\n",
       "      <td>40.000000</td>\n",
       "      <td>NaN</td>\n",
       "      <td>NaN</td>\n",
       "      <td>NaN</td>\n",
       "      <td>45</td>\n",
       "      <td>NaN</td>\n",
       "      <td>NaN</td>\n",
       "      <td>NaN</td>\n",
       "      <td>NaN</td>\n",
       "      <td>NaN</td>\n",
       "      <td>NaN</td>\n",
       "      <td>NaN</td>\n",
       "      <td>NaN</td>\n",
       "      <td>NaN</td>\n",
       "      <td>45</td>\n",
       "      <td>NaN</td>\n",
       "      <td>NaN</td>\n",
       "    </tr>\n",
       "    <tr>\n",
       "      <th>n_neighbors</th>\n",
       "      <td>NaN</td>\n",
       "      <td>NaN</td>\n",
       "      <td>NaN</td>\n",
       "      <td>NaN</td>\n",
       "      <td>NaN</td>\n",
       "      <td>NaN</td>\n",
       "      <td>NaN</td>\n",
       "      <td>NaN</td>\n",
       "      <td>NaN</td>\n",
       "      <td>4</td>\n",
       "      <td>NaN</td>\n",
       "      <td>NaN</td>\n",
       "      <td>NaN</td>\n",
       "      <td>NaN</td>\n",
       "      <td>NaN</td>\n",
       "      <td>NaN</td>\n",
       "      <td>NaN</td>\n",
       "      <td>NaN</td>\n",
       "    </tr>\n",
       "    <tr>\n",
       "      <th>oob_score</th>\n",
       "      <td>NaN</td>\n",
       "      <td>NaN</td>\n",
       "      <td>NaN</td>\n",
       "      <td>NaN</td>\n",
       "      <td>NaN</td>\n",
       "      <td>NaN</td>\n",
       "      <td>NaN</td>\n",
       "      <td>NaN</td>\n",
       "      <td>NaN</td>\n",
       "      <td>NaN</td>\n",
       "      <td>NaN</td>\n",
       "      <td>NaN</td>\n",
       "      <td>NaN</td>\n",
       "      <td>NaN</td>\n",
       "      <td>NaN</td>\n",
       "      <td>0</td>\n",
       "      <td>NaN</td>\n",
       "      <td>NaN</td>\n",
       "    </tr>\n",
       "    <tr>\n",
       "      <th>p</th>\n",
       "      <td>NaN</td>\n",
       "      <td>NaN</td>\n",
       "      <td>NaN</td>\n",
       "      <td>NaN</td>\n",
       "      <td>NaN</td>\n",
       "      <td>NaN</td>\n",
       "      <td>NaN</td>\n",
       "      <td>NaN</td>\n",
       "      <td>NaN</td>\n",
       "      <td>2</td>\n",
       "      <td>NaN</td>\n",
       "      <td>NaN</td>\n",
       "      <td>NaN</td>\n",
       "      <td>NaN</td>\n",
       "      <td>NaN</td>\n",
       "      <td>NaN</td>\n",
       "      <td>NaN</td>\n",
       "      <td>NaN</td>\n",
       "    </tr>\n",
       "    <tr>\n",
       "      <th>penalty</th>\n",
       "      <td>NaN</td>\n",
       "      <td>NaN</td>\n",
       "      <td>NaN</td>\n",
       "      <td>NaN</td>\n",
       "      <td>NaN</td>\n",
       "      <td>NaN</td>\n",
       "      <td>NaN</td>\n",
       "      <td>NaN</td>\n",
       "      <td>NaN</td>\n",
       "      <td>NaN</td>\n",
       "      <td>l2</td>\n",
       "      <td>NaN</td>\n",
       "      <td>NaN</td>\n",
       "      <td>NaN</td>\n",
       "      <td>NaN</td>\n",
       "      <td>NaN</td>\n",
       "      <td>NaN</td>\n",
       "      <td>none</td>\n",
       "    </tr>\n",
       "    <tr>\n",
       "      <th>solver</th>\n",
       "      <td>NaN</td>\n",
       "      <td>NaN</td>\n",
       "      <td>NaN</td>\n",
       "      <td>NaN</td>\n",
       "      <td>NaN</td>\n",
       "      <td>NaN</td>\n",
       "      <td>NaN</td>\n",
       "      <td>NaN</td>\n",
       "      <td>NaN</td>\n",
       "      <td>NaN</td>\n",
       "      <td>NaN</td>\n",
       "      <td>saga</td>\n",
       "      <td>lbfgs</td>\n",
       "      <td>NaN</td>\n",
       "      <td>NaN</td>\n",
       "      <td>NaN</td>\n",
       "      <td>NaN</td>\n",
       "      <td>NaN</td>\n",
       "    </tr>\n",
       "    <tr>\n",
       "      <th>splitter</th>\n",
       "      <td>NaN</td>\n",
       "      <td>NaN</td>\n",
       "      <td>NaN</td>\n",
       "      <td>best</td>\n",
       "      <td>best</td>\n",
       "      <td>NaN</td>\n",
       "      <td>NaN</td>\n",
       "      <td>NaN</td>\n",
       "      <td>NaN</td>\n",
       "      <td>NaN</td>\n",
       "      <td>NaN</td>\n",
       "      <td>NaN</td>\n",
       "      <td>NaN</td>\n",
       "      <td>NaN</td>\n",
       "      <td>NaN</td>\n",
       "      <td>NaN</td>\n",
       "      <td>NaN</td>\n",
       "      <td>NaN</td>\n",
       "    </tr>\n",
       "    <tr>\n",
       "      <th>test</th>\n",
       "      <td>0.709357</td>\n",
       "      <td>0.950714</td>\n",
       "      <td>0.112500</td>\n",
       "      <td>0.8505</td>\n",
       "      <td>0.775714</td>\n",
       "      <td>0.957071</td>\n",
       "      <td>8.736429e-01</td>\n",
       "      <td>0.940571</td>\n",
       "      <td>9.670714e-01</td>\n",
       "      <td>0.971429</td>\n",
       "      <td>0.913286</td>\n",
       "      <td>0.898643</td>\n",
       "      <td>0.952</td>\n",
       "      <td>0.841929</td>\n",
       "      <td>0.875214</td>\n",
       "      <td>0.953929</td>\n",
       "      <td>0.844429</td>\n",
       "      <td>0.897286</td>\n",
       "    </tr>\n",
       "    <tr>\n",
       "      <th>tol</th>\n",
       "      <td>NaN</td>\n",
       "      <td>NaN</td>\n",
       "      <td>NaN</td>\n",
       "      <td>NaN</td>\n",
       "      <td>NaN</td>\n",
       "      <td>NaN</td>\n",
       "      <td>NaN</td>\n",
       "      <td>1e-05</td>\n",
       "      <td>1.000000e-08</td>\n",
       "      <td>NaN</td>\n",
       "      <td>2.5e-05</td>\n",
       "      <td>5e-05</td>\n",
       "      <td>NaN</td>\n",
       "      <td>NaN</td>\n",
       "      <td>0.0001</td>\n",
       "      <td>NaN</td>\n",
       "      <td>0.000100</td>\n",
       "      <td>3.33333e-05</td>\n",
       "    </tr>\n",
       "    <tr>\n",
       "      <th>tr_time</th>\n",
       "      <td>42.2569</td>\n",
       "      <td>156.256903</td>\n",
       "      <td>0.385992</td>\n",
       "      <td>14.6298</td>\n",
       "      <td>2.15297</td>\n",
       "      <td>4.63702</td>\n",
       "      <td>3.507540e-01</td>\n",
       "      <td>333.216</td>\n",
       "      <td>6.216558e+01</td>\n",
       "      <td>2.92019</td>\n",
       "      <td>27.5439</td>\n",
       "      <td>23.1352</td>\n",
       "      <td>322.593</td>\n",
       "      <td>0.25162</td>\n",
       "      <td>2.26134</td>\n",
       "      <td>55.7817</td>\n",
       "      <td>0.938445</td>\n",
       "      <td>88.7702</td>\n",
       "    </tr>\n",
       "    <tr>\n",
       "      <th>train</th>\n",
       "      <td>0.716821</td>\n",
       "      <td>0.999982</td>\n",
       "      <td>0.113464</td>\n",
       "      <td>1</td>\n",
       "      <td>1</td>\n",
       "      <td>1</td>\n",
       "      <td>8.760893e-01</td>\n",
       "      <td>0.985161</td>\n",
       "      <td>1.000000e+00</td>\n",
       "      <td>1</td>\n",
       "      <td>0.916446</td>\n",
       "      <td>0.902286</td>\n",
       "      <td>0.956446</td>\n",
       "      <td>0.846214</td>\n",
       "      <td>0.87325</td>\n",
       "      <td>1</td>\n",
       "      <td>0.848071</td>\n",
       "      <td>0.900732</td>\n",
       "    </tr>\n",
       "    <tr>\n",
       "      <th>var_smoothing</th>\n",
       "      <td>NaN</td>\n",
       "      <td>NaN</td>\n",
       "      <td>NaN</td>\n",
       "      <td>NaN</td>\n",
       "      <td>NaN</td>\n",
       "      <td>NaN</td>\n",
       "      <td>1.000000e-10</td>\n",
       "      <td>NaN</td>\n",
       "      <td>NaN</td>\n",
       "      <td>NaN</td>\n",
       "      <td>NaN</td>\n",
       "      <td>NaN</td>\n",
       "      <td>NaN</td>\n",
       "      <td>NaN</td>\n",
       "      <td>NaN</td>\n",
       "      <td>NaN</td>\n",
       "      <td>NaN</td>\n",
       "      <td>NaN</td>\n",
       "    </tr>\n",
       "    <tr>\n",
       "      <th>warm_start</th>\n",
       "      <td>NaN</td>\n",
       "      <td>NaN</td>\n",
       "      <td>NaN</td>\n",
       "      <td>NaN</td>\n",
       "      <td>NaN</td>\n",
       "      <td>1</td>\n",
       "      <td>NaN</td>\n",
       "      <td>NaN</td>\n",
       "      <td>NaN</td>\n",
       "      <td>NaN</td>\n",
       "      <td>NaN</td>\n",
       "      <td>NaN</td>\n",
       "      <td>NaN</td>\n",
       "      <td>NaN</td>\n",
       "      <td>0</td>\n",
       "      <td>0</td>\n",
       "      <td>NaN</td>\n",
       "      <td>NaN</td>\n",
       "    </tr>\n",
       "    <tr>\n",
       "      <th>weights</th>\n",
       "      <td>NaN</td>\n",
       "      <td>NaN</td>\n",
       "      <td>NaN</td>\n",
       "      <td>NaN</td>\n",
       "      <td>NaN</td>\n",
       "      <td>NaN</td>\n",
       "      <td>NaN</td>\n",
       "      <td>NaN</td>\n",
       "      <td>NaN</td>\n",
       "      <td>distance</td>\n",
       "      <td>NaN</td>\n",
       "      <td>NaN</td>\n",
       "      <td>NaN</td>\n",
       "      <td>NaN</td>\n",
       "      <td>NaN</td>\n",
       "      <td>NaN</td>\n",
       "      <td>NaN</td>\n",
       "      <td>NaN</td>\n",
       "    </tr>\n",
       "  </tbody>\n",
       "</table>\n",
       "</div>"
      ],
      "text/plain": [
       "                   ada_boost     bagging  bernoulli decision_tree extra_tree  \\\n",
       "C                        NaN         NaN        NaN           NaN        NaN   \n",
       "activation               NaN         NaN        NaN           NaN        NaN   \n",
       "algorithm            SAMME.R         NaN        NaN           NaN        NaN   \n",
       "alpha                    NaN         NaN   0.100000           NaN        NaN   \n",
       "bootstrap_features       NaN    1.000000        NaN           NaN        NaN   \n",
       "criterion                NaN         NaN        NaN       entropy    entropy   \n",
       "early_stopping           NaN         NaN        NaN           NaN        NaN   \n",
       "f1_test             0.708937    0.950599   0.022753       0.85049   0.775543   \n",
       "f1_train            0.716459    0.999982   0.024640             1          1   \n",
       "l2_regularization        NaN         NaN        NaN           NaN        NaN   \n",
       "learning_rate            0.4         NaN        NaN           NaN        NaN   \n",
       "loss                     NaN         NaN        NaN           NaN        NaN   \n",
       "metric                   NaN         NaN        NaN           NaN        NaN   \n",
       "multi_class              NaN         NaN        NaN           NaN        NaN   \n",
       "n_estimators              90   40.000000        NaN           NaN        NaN   \n",
       "n_neighbors              NaN         NaN        NaN           NaN        NaN   \n",
       "oob_score                NaN         NaN        NaN           NaN        NaN   \n",
       "p                        NaN         NaN        NaN           NaN        NaN   \n",
       "penalty                  NaN         NaN        NaN           NaN        NaN   \n",
       "solver                   NaN         NaN        NaN           NaN        NaN   \n",
       "splitter                 NaN         NaN        NaN          best       best   \n",
       "test                0.709357    0.950714   0.112500        0.8505   0.775714   \n",
       "tol                      NaN         NaN        NaN           NaN        NaN   \n",
       "tr_time              42.2569  156.256903   0.385992       14.6298    2.15297   \n",
       "train               0.716821    0.999982   0.113464             1          1   \n",
       "var_smoothing            NaN         NaN        NaN           NaN        NaN   \n",
       "warm_start               NaN         NaN        NaN           NaN        NaN   \n",
       "weights                  NaN         NaN        NaN           NaN        NaN   \n",
       "\n",
       "                   extra_trees      gaussian gradient_boosting  \\\n",
       "C                          NaN           NaN               NaN   \n",
       "activation                 NaN           NaN               NaN   \n",
       "algorithm                  NaN           NaN               NaN   \n",
       "alpha                      NaN           NaN               NaN   \n",
       "bootstrap_features         NaN           NaN               NaN   \n",
       "criterion              entropy           NaN      friedman_mse   \n",
       "early_stopping             NaN           NaN               NaN   \n",
       "f1_test               0.957008  8.744082e-01          0.940514   \n",
       "f1_train                     1  8.767317e-01          0.985154   \n",
       "l2_regularization          NaN           NaN               NaN   \n",
       "learning_rate              NaN           NaN               0.3   \n",
       "loss                       NaN           NaN          deviance   \n",
       "metric                     NaN           NaN               NaN   \n",
       "multi_class                NaN           NaN               NaN   \n",
       "n_estimators                45           NaN               NaN   \n",
       "n_neighbors                NaN           NaN               NaN   \n",
       "oob_score                  NaN           NaN               NaN   \n",
       "p                          NaN           NaN               NaN   \n",
       "penalty                    NaN           NaN               NaN   \n",
       "solver                     NaN           NaN               NaN   \n",
       "splitter                   NaN           NaN               NaN   \n",
       "test                  0.957071  8.736429e-01          0.940571   \n",
       "tol                        NaN           NaN             1e-05   \n",
       "tr_time                4.63702  3.507540e-01           333.216   \n",
       "train                        1  8.760893e-01          0.985161   \n",
       "var_smoothing              NaN  1.000000e-10               NaN   \n",
       "warm_start                   1           NaN               NaN   \n",
       "weights                    NaN           NaN               NaN   \n",
       "\n",
       "                    hist_gradient_boosting k_neighbors      linear_svc  \\\n",
       "C                                      NaN         NaN             1.4   \n",
       "activation                             NaN         NaN             NaN   \n",
       "algorithm                              NaN   ball_tree             NaN   \n",
       "alpha                                  NaN         NaN             NaN   \n",
       "bootstrap_features                     NaN         NaN             NaN   \n",
       "criterion                              NaN         NaN             NaN   \n",
       "early_stopping                         NaN         NaN             NaN   \n",
       "f1_test                       9.670437e-01    0.971364        0.912926   \n",
       "f1_train                      1.000000e+00           1        0.916177   \n",
       "l2_regularization             0.000000e+00         NaN             NaN   \n",
       "learning_rate                          NaN         NaN             NaN   \n",
       "loss                                   NaN         NaN             NaN   \n",
       "metric                                 NaN         NaN             NaN   \n",
       "multi_class                            NaN         NaN  crammer_singer   \n",
       "n_estimators                           NaN         NaN             NaN   \n",
       "n_neighbors                            NaN           4             NaN   \n",
       "oob_score                              NaN         NaN             NaN   \n",
       "p                                      NaN           2             NaN   \n",
       "penalty                                NaN         NaN              l2   \n",
       "solver                                 NaN         NaN             NaN   \n",
       "splitter                               NaN         NaN             NaN   \n",
       "test                          9.670714e-01    0.971429        0.913286   \n",
       "tol                           1.000000e-08         NaN         2.5e-05   \n",
       "tr_time                       6.216558e+01     2.92019         27.5439   \n",
       "train                         1.000000e+00           1        0.916446   \n",
       "var_smoothing                          NaN         NaN             NaN   \n",
       "warm_start                             NaN         NaN             NaN   \n",
       "weights                                NaN    distance             NaN   \n",
       "\n",
       "                   logistic_regression       mlp nearest_centroid  \\\n",
       "C                                  1.4       NaN              NaN   \n",
       "activation                         NaN      tanh              NaN   \n",
       "algorithm                          NaN       NaN              NaN   \n",
       "alpha                              NaN     2e-06              NaN   \n",
       "bootstrap_features                 NaN       NaN              NaN   \n",
       "criterion                          NaN       NaN              NaN   \n",
       "early_stopping                     NaN      True              NaN   \n",
       "f1_test                       0.898069  0.951973         0.841904   \n",
       "f1_train                      0.901768   0.95644         0.846201   \n",
       "l2_regularization                  NaN       NaN              NaN   \n",
       "learning_rate                      NaN  constant              NaN   \n",
       "loss                               NaN       NaN              NaN   \n",
       "metric                             NaN       NaN        euclidean   \n",
       "multi_class                        NaN       NaN              NaN   \n",
       "n_estimators                       NaN       NaN              NaN   \n",
       "n_neighbors                        NaN       NaN              NaN   \n",
       "oob_score                          NaN       NaN              NaN   \n",
       "p                                  NaN       NaN              NaN   \n",
       "penalty                            NaN       NaN              NaN   \n",
       "solver                            saga     lbfgs              NaN   \n",
       "splitter                           NaN       NaN              NaN   \n",
       "test                          0.898643     0.952         0.841929   \n",
       "tol                              5e-05       NaN              NaN   \n",
       "tr_time                        23.1352   322.593          0.25162   \n",
       "train                         0.902286  0.956446         0.846214   \n",
       "var_smoothing                      NaN       NaN              NaN   \n",
       "warm_start                         NaN       NaN              NaN   \n",
       "weights                            NaN       NaN              NaN   \n",
       "\n",
       "                   passive_aggressive random_forest     ridge             sgd  \n",
       "C                                 NaN           NaN       NaN             NaN  \n",
       "activation                        NaN           NaN       NaN             NaN  \n",
       "algorithm                         NaN           NaN       NaN             NaN  \n",
       "alpha                             NaN           NaN  1.200000          0.0008  \n",
       "bootstrap_features                NaN           NaN       NaN             NaN  \n",
       "criterion                         NaN       entropy       NaN             NaN  \n",
       "early_stopping                  False           NaN       NaN             NaN  \n",
       "f1_test                      0.878688      0.953852  0.842235        0.897524  \n",
       "f1_train                     0.876959             1  0.846039        0.900957  \n",
       "l2_regularization                 NaN           NaN       NaN             NaN  \n",
       "learning_rate                     NaN           NaN       NaN             NaN  \n",
       "loss                    squared_hinge           NaN       NaN  modified_huber  \n",
       "metric                            NaN           NaN       NaN             NaN  \n",
       "multi_class                       NaN           NaN       NaN             NaN  \n",
       "n_estimators                      NaN            45       NaN             NaN  \n",
       "n_neighbors                       NaN           NaN       NaN             NaN  \n",
       "oob_score                         NaN             0       NaN             NaN  \n",
       "p                                 NaN           NaN       NaN             NaN  \n",
       "penalty                           NaN           NaN       NaN            none  \n",
       "solver                            NaN           NaN       NaN             NaN  \n",
       "splitter                          NaN           NaN       NaN             NaN  \n",
       "test                         0.875214      0.953929  0.844429        0.897286  \n",
       "tol                            0.0001           NaN  0.000100     3.33333e-05  \n",
       "tr_time                       2.26134       55.7817  0.938445         88.7702  \n",
       "train                         0.87325             1  0.848071        0.900732  \n",
       "var_smoothing                     NaN           NaN       NaN             NaN  \n",
       "warm_start                          0             0       NaN             NaN  \n",
       "weights                           NaN           NaN       NaN             NaN  "
      ]
     },
     "execution_count": 28,
     "metadata": {},
     "output_type": "execute_result"
    }
   ],
   "source": [
    "df"
   ]
  },
  {
   "cell_type": "code",
   "execution_count": 29,
   "metadata": {
    "pycharm": {}
   },
   "outputs": [],
   "source": [
    "df.to_csv(result_path)"
   ]
  }
 ],
 "metadata": {
  "kernelspec": {
   "display_name": "Python 3",
   "language": "python",
   "name": "python3"
  },
  "language_info": {
   "codemirror_mode": {
    "name": "ipython",
    "version": 3
   },
   "file_extension": ".py",
   "mimetype": "text/x-python",
   "name": "python",
   "nbconvert_exporter": "python",
   "pygments_lexer": "ipython3",
   "version": "3.6.7"
  }
 },
 "nbformat": 4,
 "nbformat_minor": 1
}
