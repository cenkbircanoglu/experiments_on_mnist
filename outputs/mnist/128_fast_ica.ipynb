{
 "cells": [
  {
   "cell_type": "code",
   "execution_count": 1,
   "metadata": {
    "pycharm": {}
   },
   "outputs": [],
   "source": [
    "import os\n",
    "import pandas as pd\n",
    "from sklearn.model_selection import StratifiedShuffleSplit\n",
    "\n",
    "from dimensionality_reduction import reduce_dimension\n",
    "import load_database\n",
    "from algorithms import *"
   ]
  },
  {
   "cell_type": "code",
   "execution_count": 2,
   "metadata": {
    "pycharm": {}
   },
   "outputs": [],
   "source": [
    "import warnings\n",
    "warnings.filterwarnings('ignore')"
   ]
  },
  {
   "cell_type": "code",
   "execution_count": 3,
   "metadata": {
    "pycharm": {}
   },
   "outputs": [],
   "source": [
    "database_name = os.environ['DATABASE']\n",
    "n_components = int(os.environ['N_COMPONENTS'])\n",
    "dimensionality_algorithm = os.environ['DIMENSIONALITY_ALGORITHM']"
   ]
  },
  {
   "cell_type": "code",
   "execution_count": 4,
   "metadata": {},
   "outputs": [],
   "source": [
    "result_path = 'results/%s_%s_%s.csv' %(database_name, n_components, dimensionality_algorithm)"
   ]
  },
  {
   "cell_type": "code",
   "execution_count": 5,
   "metadata": {},
   "outputs": [],
   "source": [
    "X, y = load_database.load(database_name)\n",
    "X = reduce_dimension(dimensionality_algorithm, X, n_components) if n_components else X"
   ]
  },
  {
   "cell_type": "code",
   "execution_count": 6,
   "metadata": {
    "pycharm": {}
   },
   "outputs": [
    {
     "data": {
      "text/plain": [
       "(70000, 128)"
      ]
     },
     "execution_count": 6,
     "metadata": {},
     "output_type": "execute_result"
    }
   ],
   "source": [
    "X.shape"
   ]
  },
  {
   "cell_type": "code",
   "execution_count": 7,
   "metadata": {},
   "outputs": [],
   "source": [
    "results = {}"
   ]
  },
  {
   "cell_type": "code",
   "execution_count": 8,
   "metadata": {
    "pycharm": {}
   },
   "outputs": [],
   "source": [
    "sss = StratifiedShuffleSplit(n_splits=1, test_size=0.2)\n",
    "for train_index, test_index in sss.split(X, y):\n",
    "    X_train, X_test = X[train_index], X[test_index]\n",
    "    y_train, y_test = y[train_index], y[test_index]"
   ]
  },
  {
   "cell_type": "code",
   "execution_count": 9,
   "metadata": {
    "pycharm": {}
   },
   "outputs": [
    {
     "name": "stdout",
     "output_type": "stream",
     "text": [
      "78.074692\n",
      "{'algorithm': 'SAMME.R', 'learning_rate': 0.5, 'n_estimators': 90}\n",
      "0.729875\n",
      "0.7397678571428571 0.7372142857142857 0.7429963512127962 0.740383420974078\n"
     ]
    }
   ],
   "source": [
    "result = train_test(X_train, y_train, X_test, y_test, 'ada_boost')\n",
    "results.update(result)"
   ]
  },
  {
   "cell_type": "code",
   "execution_count": 10,
   "metadata": {
    "pycharm": {}
   },
   "outputs": [
    {
     "name": "stdout",
     "output_type": "stream",
     "text": [
      "519.119484\n",
      "{'bootstrap_features': 1, 'n_estimators': 45}\n",
      "0.8912678571428572\n",
      "1.0 0.9119285714285714 1.0 0.9116000604264906\n"
     ]
    }
   ],
   "source": [
    "result = train_test(X_train, y_train, X_test, y_test, 'bagging')\n",
    "results.update(result)"
   ]
  },
  {
   "cell_type": "code",
   "execution_count": 11,
   "metadata": {
    "pycharm": {}
   },
   "outputs": [
    {
     "name": "stdout",
     "output_type": "stream",
     "text": [
      "7.863958000000025\n",
      "{'criterion': 'gini', 'n_estimators': 45, 'warm_start': 0}\n",
      "0.9036785714285714\n",
      "1.0 0.9157857142857143 1.0 0.9153999395454375\n"
     ]
    }
   ],
   "source": [
    "result = train_test(X_train, y_train, X_test, y_test, 'extra_trees')\n",
    "results.update(result)"
   ]
  },
  {
   "cell_type": "code",
   "execution_count": 12,
   "metadata": {
    "pycharm": {}
   },
   "outputs": [
    {
     "name": "stdout",
     "output_type": "stream",
     "text": [
      "45.11832299999992\n",
      "{'criterion': 'gini', 'n_estimators': 45, 'oob_score': 1, 'warm_start': 0}\n",
      "0.8846785714285714\n",
      "1.0 0.9037857142857143 1.0 0.9034195186654606\n"
     ]
    }
   ],
   "source": [
    "result = train_test(X_train, y_train, X_test, y_test, 'random_forest')\n",
    "results.update(result)"
   ]
  },
  {
   "cell_type": "code",
   "execution_count": 13,
   "metadata": {
    "pycharm": {}
   },
   "outputs": [
    {
     "name": "stdout",
     "output_type": "stream",
     "text": [
      "224.48333000000002\n",
      "{'C': 1.4, 'solver': 'newton-cg', 'tol': 0.0001}\n",
      "0.897875\n",
      "0.9066785714285714 0.9013571428571429 0.9062621271254674 0.9007372745370391\n"
     ]
    }
   ],
   "source": [
    "result = train_test(X_train, y_train, X_test, y_test, 'logistic_regression')\n",
    "results.update(result)"
   ]
  },
  {
   "cell_type": "code",
   "execution_count": 14,
   "metadata": {
    "pycharm": {}
   },
   "outputs": [
    {
     "name": "stdout",
     "output_type": "stream",
     "text": [
      "6.611066999999821\n",
      "{'early_stopping': False, 'loss': 'hinge', 'tol': 2.5e-05, 'warm_start': 0}\n",
      "0.8856607142857142\n",
      "0.8653035714285714 0.8631428571428571 0.8613767324608713 0.8585325149140164\n"
     ]
    }
   ],
   "source": [
    "result = train_test(X_train, y_train, X_test, y_test, 'passive_aggressive')\n",
    "results.update(result)"
   ]
  },
  {
   "cell_type": "code",
   "execution_count": 15,
   "metadata": {
    "pycharm": {}
   },
   "outputs": [
    {
     "name": "stdout",
     "output_type": "stream",
     "text": [
      "1.0611149999999725\n",
      "{'alpha': 0.5, 'tol': 0.0001}\n",
      "0.8510892857142857\n",
      "0.8539285714285715 0.8507142857142858 0.8522845385687715 0.8485623683157992\n"
     ]
    }
   ],
   "source": [
    "result = train_test(X_train, y_train, X_test, y_test, 'ridge')\n",
    "results.update(result)"
   ]
  },
  {
   "cell_type": "code",
   "execution_count": 16,
   "metadata": {
    "pycharm": {}
   },
   "outputs": [
    {
     "name": "stdout",
     "output_type": "stream",
     "text": [
      "30.962160999999924\n",
      "{'alpha': 0.0009, 'loss': 'hinge', 'penalty': 'none', 'tol': 1.25e-05}\n",
      "0.8923571428571428\n",
      "0.8975535714285714 0.8932857142857142 0.8972607034567727 0.892779062060653\n"
     ]
    }
   ],
   "source": [
    "result = train_test(X_train, y_train, X_test, y_test, 'sgd')\n",
    "results.update(result)"
   ]
  },
  {
   "cell_type": "code",
   "execution_count": 17,
   "metadata": {
    "pycharm": {}
   },
   "outputs": [
    {
     "name": "stdout",
     "output_type": "stream",
     "text": [
      "0.4486850000000686\n",
      "{'alpha': 0.1}\n",
      "0.11253571428571428\n",
      "0.11428571428571428 0.1125 0.02629445289700944 0.022752808988764042\n"
     ]
    }
   ],
   "source": [
    "result = train_test(X_train, y_train, X_test, y_test, 'bernoulli')\n",
    "results.update(result)"
   ]
  },
  {
   "cell_type": "code",
   "execution_count": 18,
   "metadata": {
    "pycharm": {}
   },
   "outputs": [
    {
     "name": "stdout",
     "output_type": "stream",
     "text": [
      "0.39549700000020493\n",
      "{'var_smoothing': 1e-10}\n",
      "0.8922678571428572\n",
      "0.8935714285714286 0.8940714285714285 0.8944729690780254 0.8950752336825172\n"
     ]
    }
   ],
   "source": [
    "result = train_test(X_train, y_train, X_test, y_test, 'gaussian')\n",
    "results.update(result)"
   ]
  },
  {
   "cell_type": "code",
   "execution_count": 19,
   "metadata": {
    "pycharm": {}
   },
   "outputs": [
    {
     "name": "stdout",
     "output_type": "stream",
     "text": [
      "5.132064000000128\n",
      "{'algorithm': 'ball_tree', 'n_neighbors': 4, 'p': 2, 'weights': 'distance'}\n",
      "0.9119285714285714\n",
      "1.0 0.9292857142857143 1.0 0.9288636884650585\n"
     ]
    }
   ],
   "source": [
    "result = train_test(X_train, y_train, X_test, y_test, 'k_neighbors')\n",
    "results.update(result)"
   ]
  },
  {
   "cell_type": "code",
   "execution_count": 20,
   "metadata": {
    "pycharm": {}
   },
   "outputs": [
    {
     "name": "stdout",
     "output_type": "stream",
     "text": [
      "0.27911200000016834\n",
      "{'metric': 'euclidean'}\n",
      "0.8374642857142857\n",
      "0.8414285714285714 0.8387857142857142 0.8415377842705933 0.8386662111230699\n"
     ]
    }
   ],
   "source": [
    "result = train_test(X_train, y_train, X_test, y_test, 'nearest_centroid')\n",
    "results.update(result)"
   ]
  },
  {
   "cell_type": "code",
   "execution_count": 21,
   "metadata": {
    "pycharm": {}
   },
   "outputs": [
    {
     "name": "stdout",
     "output_type": "stream",
     "text": [
      "313.65983800000004\n",
      "{'activation': 'logistic', 'alpha': 1.4285714285714286e-06, 'early_stopping': True, 'learning_rate': 'invscaling', 'solver': 'lbfgs'}\n",
      "0.9144821428571429\n",
      "0.9250535714285715 0.9200714285714285 0.924908098404384 0.9198394172307349\n"
     ]
    }
   ],
   "source": [
    "result = train_test(X_train, y_train, X_test, y_test, 'mlp')\n",
    "results.update(result)"
   ]
  },
  {
   "cell_type": "code",
   "execution_count": 22,
   "metadata": {
    "pycharm": {}
   },
   "outputs": [
    {
     "name": "stdout",
     "output_type": "stream",
     "text": [
      "87.32677899999999\n",
      "{'C': 1.4, 'multi_class': 'crammer_singer', 'penalty': 'l2', 'tol': 5e-05}\n",
      "0.9137678571428571\n",
      "0.9237678571428571 0.9195 0.9235015060155453 0.9191382723333182\n"
     ]
    }
   ],
   "source": [
    "result = train_test(X_train, y_train, X_test, y_test, 'linear_svc')\n",
    "results.update(result)"
   ]
  },
  {
   "cell_type": "code",
   "execution_count": 23,
   "metadata": {
    "pycharm": {}
   },
   "outputs": [
    {
     "name": "stdout",
     "output_type": "stream",
     "text": [
      "20.96857\n",
      "{'criterion': 'gini', 'splitter': 'best'}\n",
      "0.7100892857142858\n",
      "1.0 0.7353571428571428 1.0 0.7342143238355296\n"
     ]
    }
   ],
   "source": [
    "result = train_test(X_train, y_train, X_test, y_test, 'decision_tree')\n",
    "results.update(result)"
   ]
  },
  {
   "cell_type": "code",
   "execution_count": 24,
   "metadata": {
    "pycharm": {}
   },
   "outputs": [
    {
     "name": "stdout",
     "output_type": "stream",
     "text": [
      "1.8906050000000505\n",
      "{'criterion': 'gini', 'splitter': 'best'}\n",
      "0.6085\n",
      "1.0 0.6785714285714286 1.0 0.6779261541989601\n"
     ]
    }
   ],
   "source": [
    "result = train_test(X_train, y_train, X_test, y_test, 'extra_tree')\n",
    "results.update(result)"
   ]
  },
  {
   "cell_type": "code",
   "execution_count": 25,
   "metadata": {
    "pycharm": {}
   },
   "outputs": [
    {
     "name": "stdout",
     "output_type": "stream",
     "text": [
      "642.9332340000001\n",
      "{'criterion': 'friedman_mse', 'learning_rate': 0.4, 'loss': 'deviance', 'tol': 3.3333333333333333e-06}\n",
      "0.9273392857142857\n",
      "0.9914107142857143 0.9402857142857143 0.9914087331802763 0.9402511445948956\n"
     ]
    }
   ],
   "source": [
    "result = train_test(X_train, y_train, X_test, y_test, 'gradient_boosting')\n",
    "results.update(result)"
   ]
  },
  {
   "cell_type": "code",
   "execution_count": 26,
   "metadata": {
    "pycharm": {}
   },
   "outputs": [
    {
     "name": "stdout",
     "output_type": "stream",
     "text": [
      "119.14004699999987\n",
      "{'l2_regularization': 0.1, 'tol': 1e-08}\n",
      "0.9554464285714286\n",
      "1.0 0.9622857142857143 1.0 0.9623054548474533\n"
     ]
    }
   ],
   "source": [
    "result = train_test(X_train, y_train, X_test, y_test, 'hist_gradient_boosting')\n",
    "results.update(result)"
   ]
  },
  {
   "cell_type": "code",
   "execution_count": 27,
   "metadata": {
    "pycharm": {}
   },
   "outputs": [],
   "source": [
    "df = pd.DataFrame.from_records(results)"
   ]
  },
  {
   "cell_type": "code",
   "execution_count": 28,
   "metadata": {
    "pycharm": {}
   },
   "outputs": [
    {
     "data": {
      "text/html": [
       "<div>\n",
       "<style scoped>\n",
       "    .dataframe tbody tr th:only-of-type {\n",
       "        vertical-align: middle;\n",
       "    }\n",
       "\n",
       "    .dataframe tbody tr th {\n",
       "        vertical-align: top;\n",
       "    }\n",
       "\n",
       "    .dataframe thead th {\n",
       "        text-align: right;\n",
       "    }\n",
       "</style>\n",
       "<table border=\"1\" class=\"dataframe\">\n",
       "  <thead>\n",
       "    <tr style=\"text-align: right;\">\n",
       "      <th></th>\n",
       "      <th>ada_boost</th>\n",
       "      <th>bagging</th>\n",
       "      <th>bernoulli</th>\n",
       "      <th>decision_tree</th>\n",
       "      <th>extra_tree</th>\n",
       "      <th>extra_trees</th>\n",
       "      <th>gaussian</th>\n",
       "      <th>gradient_boosting</th>\n",
       "      <th>hist_gradient_boosting</th>\n",
       "      <th>k_neighbors</th>\n",
       "      <th>linear_svc</th>\n",
       "      <th>logistic_regression</th>\n",
       "      <th>mlp</th>\n",
       "      <th>nearest_centroid</th>\n",
       "      <th>passive_aggressive</th>\n",
       "      <th>random_forest</th>\n",
       "      <th>ridge</th>\n",
       "      <th>sgd</th>\n",
       "    </tr>\n",
       "  </thead>\n",
       "  <tbody>\n",
       "    <tr>\n",
       "      <th>C</th>\n",
       "      <td>NaN</td>\n",
       "      <td>NaN</td>\n",
       "      <td>NaN</td>\n",
       "      <td>NaN</td>\n",
       "      <td>NaN</td>\n",
       "      <td>NaN</td>\n",
       "      <td>NaN</td>\n",
       "      <td>NaN</td>\n",
       "      <td>NaN</td>\n",
       "      <td>NaN</td>\n",
       "      <td>1.4</td>\n",
       "      <td>1.4</td>\n",
       "      <td>NaN</td>\n",
       "      <td>NaN</td>\n",
       "      <td>NaN</td>\n",
       "      <td>NaN</td>\n",
       "      <td>NaN</td>\n",
       "      <td>NaN</td>\n",
       "    </tr>\n",
       "    <tr>\n",
       "      <th>activation</th>\n",
       "      <td>NaN</td>\n",
       "      <td>NaN</td>\n",
       "      <td>NaN</td>\n",
       "      <td>NaN</td>\n",
       "      <td>NaN</td>\n",
       "      <td>NaN</td>\n",
       "      <td>NaN</td>\n",
       "      <td>NaN</td>\n",
       "      <td>NaN</td>\n",
       "      <td>NaN</td>\n",
       "      <td>NaN</td>\n",
       "      <td>NaN</td>\n",
       "      <td>logistic</td>\n",
       "      <td>NaN</td>\n",
       "      <td>NaN</td>\n",
       "      <td>NaN</td>\n",
       "      <td>NaN</td>\n",
       "      <td>NaN</td>\n",
       "    </tr>\n",
       "    <tr>\n",
       "      <th>algorithm</th>\n",
       "      <td>SAMME.R</td>\n",
       "      <td>NaN</td>\n",
       "      <td>NaN</td>\n",
       "      <td>NaN</td>\n",
       "      <td>NaN</td>\n",
       "      <td>NaN</td>\n",
       "      <td>NaN</td>\n",
       "      <td>NaN</td>\n",
       "      <td>NaN</td>\n",
       "      <td>ball_tree</td>\n",
       "      <td>NaN</td>\n",
       "      <td>NaN</td>\n",
       "      <td>NaN</td>\n",
       "      <td>NaN</td>\n",
       "      <td>NaN</td>\n",
       "      <td>NaN</td>\n",
       "      <td>NaN</td>\n",
       "      <td>NaN</td>\n",
       "    </tr>\n",
       "    <tr>\n",
       "      <th>alpha</th>\n",
       "      <td>NaN</td>\n",
       "      <td>NaN</td>\n",
       "      <td>0.100000</td>\n",
       "      <td>NaN</td>\n",
       "      <td>NaN</td>\n",
       "      <td>NaN</td>\n",
       "      <td>NaN</td>\n",
       "      <td>NaN</td>\n",
       "      <td>NaN</td>\n",
       "      <td>NaN</td>\n",
       "      <td>NaN</td>\n",
       "      <td>NaN</td>\n",
       "      <td>1.42857e-06</td>\n",
       "      <td>NaN</td>\n",
       "      <td>NaN</td>\n",
       "      <td>NaN</td>\n",
       "      <td>0.500000</td>\n",
       "      <td>0.0009</td>\n",
       "    </tr>\n",
       "    <tr>\n",
       "      <th>bootstrap_features</th>\n",
       "      <td>NaN</td>\n",
       "      <td>1.000000</td>\n",
       "      <td>NaN</td>\n",
       "      <td>NaN</td>\n",
       "      <td>NaN</td>\n",
       "      <td>NaN</td>\n",
       "      <td>NaN</td>\n",
       "      <td>NaN</td>\n",
       "      <td>NaN</td>\n",
       "      <td>NaN</td>\n",
       "      <td>NaN</td>\n",
       "      <td>NaN</td>\n",
       "      <td>NaN</td>\n",
       "      <td>NaN</td>\n",
       "      <td>NaN</td>\n",
       "      <td>NaN</td>\n",
       "      <td>NaN</td>\n",
       "      <td>NaN</td>\n",
       "    </tr>\n",
       "    <tr>\n",
       "      <th>criterion</th>\n",
       "      <td>NaN</td>\n",
       "      <td>NaN</td>\n",
       "      <td>NaN</td>\n",
       "      <td>gini</td>\n",
       "      <td>gini</td>\n",
       "      <td>gini</td>\n",
       "      <td>NaN</td>\n",
       "      <td>friedman_mse</td>\n",
       "      <td>NaN</td>\n",
       "      <td>NaN</td>\n",
       "      <td>NaN</td>\n",
       "      <td>NaN</td>\n",
       "      <td>NaN</td>\n",
       "      <td>NaN</td>\n",
       "      <td>NaN</td>\n",
       "      <td>gini</td>\n",
       "      <td>NaN</td>\n",
       "      <td>NaN</td>\n",
       "    </tr>\n",
       "    <tr>\n",
       "      <th>early_stopping</th>\n",
       "      <td>NaN</td>\n",
       "      <td>NaN</td>\n",
       "      <td>NaN</td>\n",
       "      <td>NaN</td>\n",
       "      <td>NaN</td>\n",
       "      <td>NaN</td>\n",
       "      <td>NaN</td>\n",
       "      <td>NaN</td>\n",
       "      <td>NaN</td>\n",
       "      <td>NaN</td>\n",
       "      <td>NaN</td>\n",
       "      <td>NaN</td>\n",
       "      <td>True</td>\n",
       "      <td>NaN</td>\n",
       "      <td>False</td>\n",
       "      <td>NaN</td>\n",
       "      <td>NaN</td>\n",
       "      <td>NaN</td>\n",
       "    </tr>\n",
       "    <tr>\n",
       "      <th>f1_test</th>\n",
       "      <td>0.740383</td>\n",
       "      <td>0.911600</td>\n",
       "      <td>0.022753</td>\n",
       "      <td>0.734214</td>\n",
       "      <td>0.677926</td>\n",
       "      <td>0.9154</td>\n",
       "      <td>8.950752e-01</td>\n",
       "      <td>0.940251</td>\n",
       "      <td>9.623055e-01</td>\n",
       "      <td>0.928864</td>\n",
       "      <td>0.919138</td>\n",
       "      <td>0.900737</td>\n",
       "      <td>0.919839</td>\n",
       "      <td>0.838666</td>\n",
       "      <td>0.858533</td>\n",
       "      <td>0.90342</td>\n",
       "      <td>0.848562</td>\n",
       "      <td>0.892779</td>\n",
       "    </tr>\n",
       "    <tr>\n",
       "      <th>f1_train</th>\n",
       "      <td>0.742996</td>\n",
       "      <td>1.000000</td>\n",
       "      <td>0.026294</td>\n",
       "      <td>1</td>\n",
       "      <td>1</td>\n",
       "      <td>1</td>\n",
       "      <td>8.944730e-01</td>\n",
       "      <td>0.991409</td>\n",
       "      <td>1.000000e+00</td>\n",
       "      <td>1</td>\n",
       "      <td>0.923502</td>\n",
       "      <td>0.906262</td>\n",
       "      <td>0.924908</td>\n",
       "      <td>0.841538</td>\n",
       "      <td>0.861377</td>\n",
       "      <td>1</td>\n",
       "      <td>0.852285</td>\n",
       "      <td>0.897261</td>\n",
       "    </tr>\n",
       "    <tr>\n",
       "      <th>l2_regularization</th>\n",
       "      <td>NaN</td>\n",
       "      <td>NaN</td>\n",
       "      <td>NaN</td>\n",
       "      <td>NaN</td>\n",
       "      <td>NaN</td>\n",
       "      <td>NaN</td>\n",
       "      <td>NaN</td>\n",
       "      <td>NaN</td>\n",
       "      <td>1.000000e-01</td>\n",
       "      <td>NaN</td>\n",
       "      <td>NaN</td>\n",
       "      <td>NaN</td>\n",
       "      <td>NaN</td>\n",
       "      <td>NaN</td>\n",
       "      <td>NaN</td>\n",
       "      <td>NaN</td>\n",
       "      <td>NaN</td>\n",
       "      <td>NaN</td>\n",
       "    </tr>\n",
       "    <tr>\n",
       "      <th>learning_rate</th>\n",
       "      <td>0.5</td>\n",
       "      <td>NaN</td>\n",
       "      <td>NaN</td>\n",
       "      <td>NaN</td>\n",
       "      <td>NaN</td>\n",
       "      <td>NaN</td>\n",
       "      <td>NaN</td>\n",
       "      <td>0.4</td>\n",
       "      <td>NaN</td>\n",
       "      <td>NaN</td>\n",
       "      <td>NaN</td>\n",
       "      <td>NaN</td>\n",
       "      <td>invscaling</td>\n",
       "      <td>NaN</td>\n",
       "      <td>NaN</td>\n",
       "      <td>NaN</td>\n",
       "      <td>NaN</td>\n",
       "      <td>NaN</td>\n",
       "    </tr>\n",
       "    <tr>\n",
       "      <th>loss</th>\n",
       "      <td>NaN</td>\n",
       "      <td>NaN</td>\n",
       "      <td>NaN</td>\n",
       "      <td>NaN</td>\n",
       "      <td>NaN</td>\n",
       "      <td>NaN</td>\n",
       "      <td>NaN</td>\n",
       "      <td>deviance</td>\n",
       "      <td>NaN</td>\n",
       "      <td>NaN</td>\n",
       "      <td>NaN</td>\n",
       "      <td>NaN</td>\n",
       "      <td>NaN</td>\n",
       "      <td>NaN</td>\n",
       "      <td>hinge</td>\n",
       "      <td>NaN</td>\n",
       "      <td>NaN</td>\n",
       "      <td>hinge</td>\n",
       "    </tr>\n",
       "    <tr>\n",
       "      <th>metric</th>\n",
       "      <td>NaN</td>\n",
       "      <td>NaN</td>\n",
       "      <td>NaN</td>\n",
       "      <td>NaN</td>\n",
       "      <td>NaN</td>\n",
       "      <td>NaN</td>\n",
       "      <td>NaN</td>\n",
       "      <td>NaN</td>\n",
       "      <td>NaN</td>\n",
       "      <td>NaN</td>\n",
       "      <td>NaN</td>\n",
       "      <td>NaN</td>\n",
       "      <td>NaN</td>\n",
       "      <td>euclidean</td>\n",
       "      <td>NaN</td>\n",
       "      <td>NaN</td>\n",
       "      <td>NaN</td>\n",
       "      <td>NaN</td>\n",
       "    </tr>\n",
       "    <tr>\n",
       "      <th>multi_class</th>\n",
       "      <td>NaN</td>\n",
       "      <td>NaN</td>\n",
       "      <td>NaN</td>\n",
       "      <td>NaN</td>\n",
       "      <td>NaN</td>\n",
       "      <td>NaN</td>\n",
       "      <td>NaN</td>\n",
       "      <td>NaN</td>\n",
       "      <td>NaN</td>\n",
       "      <td>NaN</td>\n",
       "      <td>crammer_singer</td>\n",
       "      <td>NaN</td>\n",
       "      <td>NaN</td>\n",
       "      <td>NaN</td>\n",
       "      <td>NaN</td>\n",
       "      <td>NaN</td>\n",
       "      <td>NaN</td>\n",
       "      <td>NaN</td>\n",
       "    </tr>\n",
       "    <tr>\n",
       "      <th>n_estimators</th>\n",
       "      <td>90</td>\n",
       "      <td>45.000000</td>\n",
       "      <td>NaN</td>\n",
       "      <td>NaN</td>\n",
       "      <td>NaN</td>\n",
       "      <td>45</td>\n",
       "      <td>NaN</td>\n",
       "      <td>NaN</td>\n",
       "      <td>NaN</td>\n",
       "      <td>NaN</td>\n",
       "      <td>NaN</td>\n",
       "      <td>NaN</td>\n",
       "      <td>NaN</td>\n",
       "      <td>NaN</td>\n",
       "      <td>NaN</td>\n",
       "      <td>45</td>\n",
       "      <td>NaN</td>\n",
       "      <td>NaN</td>\n",
       "    </tr>\n",
       "    <tr>\n",
       "      <th>n_neighbors</th>\n",
       "      <td>NaN</td>\n",
       "      <td>NaN</td>\n",
       "      <td>NaN</td>\n",
       "      <td>NaN</td>\n",
       "      <td>NaN</td>\n",
       "      <td>NaN</td>\n",
       "      <td>NaN</td>\n",
       "      <td>NaN</td>\n",
       "      <td>NaN</td>\n",
       "      <td>4</td>\n",
       "      <td>NaN</td>\n",
       "      <td>NaN</td>\n",
       "      <td>NaN</td>\n",
       "      <td>NaN</td>\n",
       "      <td>NaN</td>\n",
       "      <td>NaN</td>\n",
       "      <td>NaN</td>\n",
       "      <td>NaN</td>\n",
       "    </tr>\n",
       "    <tr>\n",
       "      <th>oob_score</th>\n",
       "      <td>NaN</td>\n",
       "      <td>NaN</td>\n",
       "      <td>NaN</td>\n",
       "      <td>NaN</td>\n",
       "      <td>NaN</td>\n",
       "      <td>NaN</td>\n",
       "      <td>NaN</td>\n",
       "      <td>NaN</td>\n",
       "      <td>NaN</td>\n",
       "      <td>NaN</td>\n",
       "      <td>NaN</td>\n",
       "      <td>NaN</td>\n",
       "      <td>NaN</td>\n",
       "      <td>NaN</td>\n",
       "      <td>NaN</td>\n",
       "      <td>1</td>\n",
       "      <td>NaN</td>\n",
       "      <td>NaN</td>\n",
       "    </tr>\n",
       "    <tr>\n",
       "      <th>p</th>\n",
       "      <td>NaN</td>\n",
       "      <td>NaN</td>\n",
       "      <td>NaN</td>\n",
       "      <td>NaN</td>\n",
       "      <td>NaN</td>\n",
       "      <td>NaN</td>\n",
       "      <td>NaN</td>\n",
       "      <td>NaN</td>\n",
       "      <td>NaN</td>\n",
       "      <td>2</td>\n",
       "      <td>NaN</td>\n",
       "      <td>NaN</td>\n",
       "      <td>NaN</td>\n",
       "      <td>NaN</td>\n",
       "      <td>NaN</td>\n",
       "      <td>NaN</td>\n",
       "      <td>NaN</td>\n",
       "      <td>NaN</td>\n",
       "    </tr>\n",
       "    <tr>\n",
       "      <th>penalty</th>\n",
       "      <td>NaN</td>\n",
       "      <td>NaN</td>\n",
       "      <td>NaN</td>\n",
       "      <td>NaN</td>\n",
       "      <td>NaN</td>\n",
       "      <td>NaN</td>\n",
       "      <td>NaN</td>\n",
       "      <td>NaN</td>\n",
       "      <td>NaN</td>\n",
       "      <td>NaN</td>\n",
       "      <td>l2</td>\n",
       "      <td>NaN</td>\n",
       "      <td>NaN</td>\n",
       "      <td>NaN</td>\n",
       "      <td>NaN</td>\n",
       "      <td>NaN</td>\n",
       "      <td>NaN</td>\n",
       "      <td>none</td>\n",
       "    </tr>\n",
       "    <tr>\n",
       "      <th>solver</th>\n",
       "      <td>NaN</td>\n",
       "      <td>NaN</td>\n",
       "      <td>NaN</td>\n",
       "      <td>NaN</td>\n",
       "      <td>NaN</td>\n",
       "      <td>NaN</td>\n",
       "      <td>NaN</td>\n",
       "      <td>NaN</td>\n",
       "      <td>NaN</td>\n",
       "      <td>NaN</td>\n",
       "      <td>NaN</td>\n",
       "      <td>newton-cg</td>\n",
       "      <td>lbfgs</td>\n",
       "      <td>NaN</td>\n",
       "      <td>NaN</td>\n",
       "      <td>NaN</td>\n",
       "      <td>NaN</td>\n",
       "      <td>NaN</td>\n",
       "    </tr>\n",
       "    <tr>\n",
       "      <th>splitter</th>\n",
       "      <td>NaN</td>\n",
       "      <td>NaN</td>\n",
       "      <td>NaN</td>\n",
       "      <td>best</td>\n",
       "      <td>best</td>\n",
       "      <td>NaN</td>\n",
       "      <td>NaN</td>\n",
       "      <td>NaN</td>\n",
       "      <td>NaN</td>\n",
       "      <td>NaN</td>\n",
       "      <td>NaN</td>\n",
       "      <td>NaN</td>\n",
       "      <td>NaN</td>\n",
       "      <td>NaN</td>\n",
       "      <td>NaN</td>\n",
       "      <td>NaN</td>\n",
       "      <td>NaN</td>\n",
       "      <td>NaN</td>\n",
       "    </tr>\n",
       "    <tr>\n",
       "      <th>test</th>\n",
       "      <td>0.737214</td>\n",
       "      <td>0.911929</td>\n",
       "      <td>0.112500</td>\n",
       "      <td>0.735357</td>\n",
       "      <td>0.678571</td>\n",
       "      <td>0.915786</td>\n",
       "      <td>8.940714e-01</td>\n",
       "      <td>0.940286</td>\n",
       "      <td>9.622857e-01</td>\n",
       "      <td>0.929286</td>\n",
       "      <td>0.9195</td>\n",
       "      <td>0.901357</td>\n",
       "      <td>0.920071</td>\n",
       "      <td>0.838786</td>\n",
       "      <td>0.863143</td>\n",
       "      <td>0.903786</td>\n",
       "      <td>0.850714</td>\n",
       "      <td>0.893286</td>\n",
       "    </tr>\n",
       "    <tr>\n",
       "      <th>tol</th>\n",
       "      <td>NaN</td>\n",
       "      <td>NaN</td>\n",
       "      <td>NaN</td>\n",
       "      <td>NaN</td>\n",
       "      <td>NaN</td>\n",
       "      <td>NaN</td>\n",
       "      <td>NaN</td>\n",
       "      <td>3.33333e-06</td>\n",
       "      <td>1.000000e-08</td>\n",
       "      <td>NaN</td>\n",
       "      <td>5e-05</td>\n",
       "      <td>0.0001</td>\n",
       "      <td>NaN</td>\n",
       "      <td>NaN</td>\n",
       "      <td>2.5e-05</td>\n",
       "      <td>NaN</td>\n",
       "      <td>0.000100</td>\n",
       "      <td>1.25e-05</td>\n",
       "    </tr>\n",
       "    <tr>\n",
       "      <th>tr_time</th>\n",
       "      <td>78.0747</td>\n",
       "      <td>519.119484</td>\n",
       "      <td>0.448685</td>\n",
       "      <td>20.9686</td>\n",
       "      <td>1.89061</td>\n",
       "      <td>7.86396</td>\n",
       "      <td>3.954970e-01</td>\n",
       "      <td>642.933</td>\n",
       "      <td>1.191400e+02</td>\n",
       "      <td>5.13206</td>\n",
       "      <td>87.3268</td>\n",
       "      <td>224.483</td>\n",
       "      <td>313.66</td>\n",
       "      <td>0.279112</td>\n",
       "      <td>6.61107</td>\n",
       "      <td>45.1183</td>\n",
       "      <td>1.061115</td>\n",
       "      <td>30.9622</td>\n",
       "    </tr>\n",
       "    <tr>\n",
       "      <th>train</th>\n",
       "      <td>0.739768</td>\n",
       "      <td>1.000000</td>\n",
       "      <td>0.114286</td>\n",
       "      <td>1</td>\n",
       "      <td>1</td>\n",
       "      <td>1</td>\n",
       "      <td>8.935714e-01</td>\n",
       "      <td>0.991411</td>\n",
       "      <td>1.000000e+00</td>\n",
       "      <td>1</td>\n",
       "      <td>0.923768</td>\n",
       "      <td>0.906679</td>\n",
       "      <td>0.925054</td>\n",
       "      <td>0.841429</td>\n",
       "      <td>0.865304</td>\n",
       "      <td>1</td>\n",
       "      <td>0.853929</td>\n",
       "      <td>0.897554</td>\n",
       "    </tr>\n",
       "    <tr>\n",
       "      <th>var_smoothing</th>\n",
       "      <td>NaN</td>\n",
       "      <td>NaN</td>\n",
       "      <td>NaN</td>\n",
       "      <td>NaN</td>\n",
       "      <td>NaN</td>\n",
       "      <td>NaN</td>\n",
       "      <td>1.000000e-10</td>\n",
       "      <td>NaN</td>\n",
       "      <td>NaN</td>\n",
       "      <td>NaN</td>\n",
       "      <td>NaN</td>\n",
       "      <td>NaN</td>\n",
       "      <td>NaN</td>\n",
       "      <td>NaN</td>\n",
       "      <td>NaN</td>\n",
       "      <td>NaN</td>\n",
       "      <td>NaN</td>\n",
       "      <td>NaN</td>\n",
       "    </tr>\n",
       "    <tr>\n",
       "      <th>warm_start</th>\n",
       "      <td>NaN</td>\n",
       "      <td>NaN</td>\n",
       "      <td>NaN</td>\n",
       "      <td>NaN</td>\n",
       "      <td>NaN</td>\n",
       "      <td>0</td>\n",
       "      <td>NaN</td>\n",
       "      <td>NaN</td>\n",
       "      <td>NaN</td>\n",
       "      <td>NaN</td>\n",
       "      <td>NaN</td>\n",
       "      <td>NaN</td>\n",
       "      <td>NaN</td>\n",
       "      <td>NaN</td>\n",
       "      <td>0</td>\n",
       "      <td>0</td>\n",
       "      <td>NaN</td>\n",
       "      <td>NaN</td>\n",
       "    </tr>\n",
       "    <tr>\n",
       "      <th>weights</th>\n",
       "      <td>NaN</td>\n",
       "      <td>NaN</td>\n",
       "      <td>NaN</td>\n",
       "      <td>NaN</td>\n",
       "      <td>NaN</td>\n",
       "      <td>NaN</td>\n",
       "      <td>NaN</td>\n",
       "      <td>NaN</td>\n",
       "      <td>NaN</td>\n",
       "      <td>distance</td>\n",
       "      <td>NaN</td>\n",
       "      <td>NaN</td>\n",
       "      <td>NaN</td>\n",
       "      <td>NaN</td>\n",
       "      <td>NaN</td>\n",
       "      <td>NaN</td>\n",
       "      <td>NaN</td>\n",
       "      <td>NaN</td>\n",
       "    </tr>\n",
       "  </tbody>\n",
       "</table>\n",
       "</div>"
      ],
      "text/plain": [
       "                   ada_boost     bagging  bernoulli decision_tree extra_tree  \\\n",
       "C                        NaN         NaN        NaN           NaN        NaN   \n",
       "activation               NaN         NaN        NaN           NaN        NaN   \n",
       "algorithm            SAMME.R         NaN        NaN           NaN        NaN   \n",
       "alpha                    NaN         NaN   0.100000           NaN        NaN   \n",
       "bootstrap_features       NaN    1.000000        NaN           NaN        NaN   \n",
       "criterion                NaN         NaN        NaN          gini       gini   \n",
       "early_stopping           NaN         NaN        NaN           NaN        NaN   \n",
       "f1_test             0.740383    0.911600   0.022753      0.734214   0.677926   \n",
       "f1_train            0.742996    1.000000   0.026294             1          1   \n",
       "l2_regularization        NaN         NaN        NaN           NaN        NaN   \n",
       "learning_rate            0.5         NaN        NaN           NaN        NaN   \n",
       "loss                     NaN         NaN        NaN           NaN        NaN   \n",
       "metric                   NaN         NaN        NaN           NaN        NaN   \n",
       "multi_class              NaN         NaN        NaN           NaN        NaN   \n",
       "n_estimators              90   45.000000        NaN           NaN        NaN   \n",
       "n_neighbors              NaN         NaN        NaN           NaN        NaN   \n",
       "oob_score                NaN         NaN        NaN           NaN        NaN   \n",
       "p                        NaN         NaN        NaN           NaN        NaN   \n",
       "penalty                  NaN         NaN        NaN           NaN        NaN   \n",
       "solver                   NaN         NaN        NaN           NaN        NaN   \n",
       "splitter                 NaN         NaN        NaN          best       best   \n",
       "test                0.737214    0.911929   0.112500      0.735357   0.678571   \n",
       "tol                      NaN         NaN        NaN           NaN        NaN   \n",
       "tr_time              78.0747  519.119484   0.448685       20.9686    1.89061   \n",
       "train               0.739768    1.000000   0.114286             1          1   \n",
       "var_smoothing            NaN         NaN        NaN           NaN        NaN   \n",
       "warm_start               NaN         NaN        NaN           NaN        NaN   \n",
       "weights                  NaN         NaN        NaN           NaN        NaN   \n",
       "\n",
       "                   extra_trees      gaussian gradient_boosting  \\\n",
       "C                          NaN           NaN               NaN   \n",
       "activation                 NaN           NaN               NaN   \n",
       "algorithm                  NaN           NaN               NaN   \n",
       "alpha                      NaN           NaN               NaN   \n",
       "bootstrap_features         NaN           NaN               NaN   \n",
       "criterion                 gini           NaN      friedman_mse   \n",
       "early_stopping             NaN           NaN               NaN   \n",
       "f1_test                 0.9154  8.950752e-01          0.940251   \n",
       "f1_train                     1  8.944730e-01          0.991409   \n",
       "l2_regularization          NaN           NaN               NaN   \n",
       "learning_rate              NaN           NaN               0.4   \n",
       "loss                       NaN           NaN          deviance   \n",
       "metric                     NaN           NaN               NaN   \n",
       "multi_class                NaN           NaN               NaN   \n",
       "n_estimators                45           NaN               NaN   \n",
       "n_neighbors                NaN           NaN               NaN   \n",
       "oob_score                  NaN           NaN               NaN   \n",
       "p                          NaN           NaN               NaN   \n",
       "penalty                    NaN           NaN               NaN   \n",
       "solver                     NaN           NaN               NaN   \n",
       "splitter                   NaN           NaN               NaN   \n",
       "test                  0.915786  8.940714e-01          0.940286   \n",
       "tol                        NaN           NaN       3.33333e-06   \n",
       "tr_time                7.86396  3.954970e-01           642.933   \n",
       "train                        1  8.935714e-01          0.991411   \n",
       "var_smoothing              NaN  1.000000e-10               NaN   \n",
       "warm_start                   0           NaN               NaN   \n",
       "weights                    NaN           NaN               NaN   \n",
       "\n",
       "                    hist_gradient_boosting k_neighbors      linear_svc  \\\n",
       "C                                      NaN         NaN             1.4   \n",
       "activation                             NaN         NaN             NaN   \n",
       "algorithm                              NaN   ball_tree             NaN   \n",
       "alpha                                  NaN         NaN             NaN   \n",
       "bootstrap_features                     NaN         NaN             NaN   \n",
       "criterion                              NaN         NaN             NaN   \n",
       "early_stopping                         NaN         NaN             NaN   \n",
       "f1_test                       9.623055e-01    0.928864        0.919138   \n",
       "f1_train                      1.000000e+00           1        0.923502   \n",
       "l2_regularization             1.000000e-01         NaN             NaN   \n",
       "learning_rate                          NaN         NaN             NaN   \n",
       "loss                                   NaN         NaN             NaN   \n",
       "metric                                 NaN         NaN             NaN   \n",
       "multi_class                            NaN         NaN  crammer_singer   \n",
       "n_estimators                           NaN         NaN             NaN   \n",
       "n_neighbors                            NaN           4             NaN   \n",
       "oob_score                              NaN         NaN             NaN   \n",
       "p                                      NaN           2             NaN   \n",
       "penalty                                NaN         NaN              l2   \n",
       "solver                                 NaN         NaN             NaN   \n",
       "splitter                               NaN         NaN             NaN   \n",
       "test                          9.622857e-01    0.929286          0.9195   \n",
       "tol                           1.000000e-08         NaN           5e-05   \n",
       "tr_time                       1.191400e+02     5.13206         87.3268   \n",
       "train                         1.000000e+00           1        0.923768   \n",
       "var_smoothing                          NaN         NaN             NaN   \n",
       "warm_start                             NaN         NaN             NaN   \n",
       "weights                                NaN    distance             NaN   \n",
       "\n",
       "                   logistic_regression          mlp nearest_centroid  \\\n",
       "C                                  1.4          NaN              NaN   \n",
       "activation                         NaN     logistic              NaN   \n",
       "algorithm                          NaN          NaN              NaN   \n",
       "alpha                              NaN  1.42857e-06              NaN   \n",
       "bootstrap_features                 NaN          NaN              NaN   \n",
       "criterion                          NaN          NaN              NaN   \n",
       "early_stopping                     NaN         True              NaN   \n",
       "f1_test                       0.900737     0.919839         0.838666   \n",
       "f1_train                      0.906262     0.924908         0.841538   \n",
       "l2_regularization                  NaN          NaN              NaN   \n",
       "learning_rate                      NaN   invscaling              NaN   \n",
       "loss                               NaN          NaN              NaN   \n",
       "metric                             NaN          NaN        euclidean   \n",
       "multi_class                        NaN          NaN              NaN   \n",
       "n_estimators                       NaN          NaN              NaN   \n",
       "n_neighbors                        NaN          NaN              NaN   \n",
       "oob_score                          NaN          NaN              NaN   \n",
       "p                                  NaN          NaN              NaN   \n",
       "penalty                            NaN          NaN              NaN   \n",
       "solver                       newton-cg        lbfgs              NaN   \n",
       "splitter                           NaN          NaN              NaN   \n",
       "test                          0.901357     0.920071         0.838786   \n",
       "tol                             0.0001          NaN              NaN   \n",
       "tr_time                        224.483       313.66         0.279112   \n",
       "train                         0.906679     0.925054         0.841429   \n",
       "var_smoothing                      NaN          NaN              NaN   \n",
       "warm_start                         NaN          NaN              NaN   \n",
       "weights                            NaN          NaN              NaN   \n",
       "\n",
       "                   passive_aggressive random_forest     ridge       sgd  \n",
       "C                                 NaN           NaN       NaN       NaN  \n",
       "activation                        NaN           NaN       NaN       NaN  \n",
       "algorithm                         NaN           NaN       NaN       NaN  \n",
       "alpha                             NaN           NaN  0.500000    0.0009  \n",
       "bootstrap_features                NaN           NaN       NaN       NaN  \n",
       "criterion                         NaN          gini       NaN       NaN  \n",
       "early_stopping                  False           NaN       NaN       NaN  \n",
       "f1_test                      0.858533       0.90342  0.848562  0.892779  \n",
       "f1_train                     0.861377             1  0.852285  0.897261  \n",
       "l2_regularization                 NaN           NaN       NaN       NaN  \n",
       "learning_rate                     NaN           NaN       NaN       NaN  \n",
       "loss                            hinge           NaN       NaN     hinge  \n",
       "metric                            NaN           NaN       NaN       NaN  \n",
       "multi_class                       NaN           NaN       NaN       NaN  \n",
       "n_estimators                      NaN            45       NaN       NaN  \n",
       "n_neighbors                       NaN           NaN       NaN       NaN  \n",
       "oob_score                         NaN             1       NaN       NaN  \n",
       "p                                 NaN           NaN       NaN       NaN  \n",
       "penalty                           NaN           NaN       NaN      none  \n",
       "solver                            NaN           NaN       NaN       NaN  \n",
       "splitter                          NaN           NaN       NaN       NaN  \n",
       "test                         0.863143      0.903786  0.850714  0.893286  \n",
       "tol                           2.5e-05           NaN  0.000100  1.25e-05  \n",
       "tr_time                       6.61107       45.1183  1.061115   30.9622  \n",
       "train                        0.865304             1  0.853929  0.897554  \n",
       "var_smoothing                     NaN           NaN       NaN       NaN  \n",
       "warm_start                          0             0       NaN       NaN  \n",
       "weights                           NaN           NaN       NaN       NaN  "
      ]
     },
     "execution_count": 28,
     "metadata": {},
     "output_type": "execute_result"
    }
   ],
   "source": [
    "df"
   ]
  },
  {
   "cell_type": "code",
   "execution_count": 29,
   "metadata": {
    "pycharm": {}
   },
   "outputs": [],
   "source": [
    "df.to_csv(result_path)"
   ]
  }
 ],
 "metadata": {
  "kernelspec": {
   "display_name": "Python 3",
   "language": "python",
   "name": "python3"
  },
  "language_info": {
   "codemirror_mode": {
    "name": "ipython",
    "version": 3
   },
   "file_extension": ".py",
   "mimetype": "text/x-python",
   "name": "python",
   "nbconvert_exporter": "python",
   "pygments_lexer": "ipython3",
   "version": "3.6.7"
  }
 },
 "nbformat": 4,
 "nbformat_minor": 1
}
