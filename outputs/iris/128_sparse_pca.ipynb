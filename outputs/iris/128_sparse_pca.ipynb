{
 "cells": [
  {
   "cell_type": "code",
   "execution_count": 1,
   "metadata": {
    "pycharm": {}
   },
   "outputs": [],
   "source": [
    "import os\n",
    "import pandas as pd\n",
    "from sklearn.model_selection import StratifiedShuffleSplit\n",
    "\n",
    "from dimensionality_reduction import reduce_dimension\n",
    "import load_database\n",
    "from algorithms import *"
   ]
  },
  {
   "cell_type": "code",
   "execution_count": 2,
   "metadata": {
    "pycharm": {}
   },
   "outputs": [],
   "source": [
    "import warnings\n",
    "warnings.filterwarnings('ignore')"
   ]
  },
  {
   "cell_type": "code",
   "execution_count": 3,
   "metadata": {
    "pycharm": {}
   },
   "outputs": [],
   "source": [
    "database_name = os.environ['DATABASE']\n",
    "n_components = int(os.environ['N_COMPONENTS'])\n",
    "dimensionality_algorithm = os.environ['DIMENSIONALITY_ALGORITHM']"
   ]
  },
  {
   "cell_type": "code",
   "execution_count": 4,
   "metadata": {},
   "outputs": [],
   "source": [
    "result_path = 'results/%s_%s_%s.csv' %(database_name, n_components, dimensionality_algorithm)"
   ]
  },
  {
   "cell_type": "code",
   "execution_count": 5,
   "metadata": {},
   "outputs": [],
   "source": [
    "X, y = load_database.load(database_name)\n",
    "X = reduce_dimension(dimensionality_algorithm, X, n_components) if n_components else X"
   ]
  },
  {
   "cell_type": "code",
   "execution_count": 6,
   "metadata": {
    "pycharm": {}
   },
   "outputs": [
    {
     "data": {
      "text/plain": [
       "(150, 128)"
      ]
     },
     "execution_count": 6,
     "metadata": {},
     "output_type": "execute_result"
    }
   ],
   "source": [
    "X.shape"
   ]
  },
  {
   "cell_type": "code",
   "execution_count": 7,
   "metadata": {},
   "outputs": [],
   "source": [
    "results = {}"
   ]
  },
  {
   "cell_type": "code",
   "execution_count": 8,
   "metadata": {
    "pycharm": {}
   },
   "outputs": [],
   "source": [
    "sss = StratifiedShuffleSplit(n_splits=1, test_size=0.2)\n",
    "for train_index, test_index in sss.split(X, y):\n",
    "    X_train, X_test = X[train_index], X[test_index]\n",
    "    y_train, y_test = y[train_index], y[test_index]"
   ]
  },
  {
   "cell_type": "code",
   "execution_count": 9,
   "metadata": {
    "pycharm": {}
   },
   "outputs": [
    {
     "name": "stdout",
     "output_type": "stream",
     "text": [
      "0.2503010000000001\n",
      "{'algorithm': 'SAMME', 'learning_rate': 0.3, 'n_estimators': 40}\n",
      "0.975\n",
      "0.9833333333333333 0.9333333333333333 0.9833333333333333 0.9326599326599326\n"
     ]
    }
   ],
   "source": [
    "result = train_test(X_train, y_train, X_test, y_test, 'ada_boost')\n",
    "results.update(result)"
   ]
  },
  {
   "cell_type": "code",
   "execution_count": 10,
   "metadata": {
    "pycharm": {}
   },
   "outputs": [
    {
     "name": "stdout",
     "output_type": "stream",
     "text": [
      "0.03131799999999996\n",
      "{'bootstrap_features': 1, 'n_estimators': 10}\n",
      "0.9833333333333333\n",
      "1.0 0.9333333333333333 1.0 0.9333333333333333\n"
     ]
    }
   ],
   "source": [
    "result = train_test(X_train, y_train, X_test, y_test, 'bagging')\n",
    "results.update(result)"
   ]
  },
  {
   "cell_type": "code",
   "execution_count": 11,
   "metadata": {
    "pycharm": {}
   },
   "outputs": [
    {
     "name": "stdout",
     "output_type": "stream",
     "text": [
      "0.05226200000000003\n",
      "{'criterion': 'gini', 'n_estimators': 20, 'warm_start': 0}\n",
      "0.9833333333333333\n",
      "1.0 0.9 1.0 0.8997493734335841\n"
     ]
    }
   ],
   "source": [
    "result = train_test(X_train, y_train, X_test, y_test, 'extra_trees')\n",
    "results.update(result)"
   ]
  },
  {
   "cell_type": "code",
   "execution_count": 12,
   "metadata": {
    "pycharm": {}
   },
   "outputs": [
    {
     "name": "stdout",
     "output_type": "stream",
     "text": [
      "0.08580200000000016\n",
      "{'criterion': 'gini', 'n_estimators': 5, 'oob_score': 0, 'warm_start': 0}\n",
      "0.975\n",
      "1.0 0.9 1.0 0.8997493734335841\n"
     ]
    }
   ],
   "source": [
    "result = train_test(X_train, y_train, X_test, y_test, 'random_forest')\n",
    "results.update(result)"
   ]
  },
  {
   "cell_type": "code",
   "execution_count": 13,
   "metadata": {
    "pycharm": {}
   },
   "outputs": [
    {
     "name": "stdout",
     "output_type": "stream",
     "text": [
      "0.539447\n",
      "{'C': 1.1, 'solver': 'newton-cg', 'tol': 0.0001}\n",
      "0.9\n",
      "0.9166666666666666 0.8333333333333334 0.9158249158249159 0.8329156223893065\n"
     ]
    }
   ],
   "source": [
    "result = train_test(X_train, y_train, X_test, y_test, 'logistic_regression')\n",
    "results.update(result)"
   ]
  },
  {
   "cell_type": "code",
   "execution_count": 14,
   "metadata": {
    "pycharm": {}
   },
   "outputs": [
    {
     "name": "stdout",
     "output_type": "stream",
     "text": [
      "0.37297999999999965\n",
      "{'early_stopping': False, 'loss': 'hinge', 'tol': 2e-05, 'warm_start': 0}\n",
      "0.9\n",
      "0.9416666666666667 0.9 0.9418544818359575 0.8997493734335841\n"
     ]
    }
   ],
   "source": [
    "result = train_test(X_train, y_train, X_test, y_test, 'passive_aggressive')\n",
    "results.update(result)"
   ]
  },
  {
   "cell_type": "code",
   "execution_count": 15,
   "metadata": {
    "pycharm": {}
   },
   "outputs": [
    {
     "name": "stdout",
     "output_type": "stream",
     "text": [
      "0.08810699999999994\n",
      "{'alpha': 0.8, 'tol': 0.0001}\n",
      "0.8416666666666667\n",
      "0.875 0.7666666666666667 0.874257137002065 0.7612958226768968\n"
     ]
    }
   ],
   "source": [
    "result = train_test(X_train, y_train, X_test, y_test, 'ridge')\n",
    "results.update(result)"
   ]
  },
  {
   "cell_type": "code",
   "execution_count": 16,
   "metadata": {
    "pycharm": {}
   },
   "outputs": [
    {
     "name": "stdout",
     "output_type": "stream",
     "text": [
      "0.7585249999999997\n",
      "{'alpha': 0.0009, 'loss': 'squared_hinge', 'penalty': 'elasticnet', 'tol': 1.4285714285714285e-05}\n",
      "0.95\n",
      "0.9833333333333333 1.0 0.9833333333333333 1.0\n"
     ]
    }
   ],
   "source": [
    "result = train_test(X_train, y_train, X_test, y_test, 'sgd')\n",
    "results.update(result)"
   ]
  },
  {
   "cell_type": "code",
   "execution_count": 17,
   "metadata": {
    "pycharm": {}
   },
   "outputs": [
    {
     "name": "stdout",
     "output_type": "stream",
     "text": [
      "0.01715800000000023\n",
      "{'alpha': 0.1}\n",
      "0.3333333333333333\n",
      "0.39166666666666666 0.36666666666666664 0.2775086233385778 0.23154623154623158\n"
     ]
    }
   ],
   "source": [
    "result = train_test(X_train, y_train, X_test, y_test, 'bernoulli')\n",
    "results.update(result)"
   ]
  },
  {
   "cell_type": "code",
   "execution_count": 18,
   "metadata": {
    "pycharm": {}
   },
   "outputs": [
    {
     "name": "stdout",
     "output_type": "stream",
     "text": [
      "0.01626900000000031\n",
      "{'var_smoothing': 1e-10}\n",
      "0.9583333333333334\n",
      "0.975 0.9 0.9749960931395532 0.8997493734335841\n"
     ]
    }
   ],
   "source": [
    "result = train_test(X_train, y_train, X_test, y_test, 'gaussian')\n",
    "results.update(result)"
   ]
  },
  {
   "cell_type": "code",
   "execution_count": 19,
   "metadata": {
    "pycharm": {}
   },
   "outputs": [
    {
     "name": "stdout",
     "output_type": "stream",
     "text": [
      "0.0510420000000007\n",
      "{'algorithm': 'ball_tree', 'n_neighbors': 3, 'p': 2, 'weights': 'uniform'}\n",
      "0.975\n",
      "0.9666666666666667 0.9 0.9666458203043571 0.8997493734335841\n"
     ]
    }
   ],
   "source": [
    "result = train_test(X_train, y_train, X_test, y_test, 'k_neighbors')\n",
    "results.update(result)"
   ]
  },
  {
   "cell_type": "code",
   "execution_count": 20,
   "metadata": {
    "pycharm": {}
   },
   "outputs": [
    {
     "name": "stdout",
     "output_type": "stream",
     "text": [
      "0.007664999999999367\n",
      "{'metric': 'manhattan'}\n",
      "0.9333333333333333\n",
      "0.95 0.8666666666666667 0.9499687304565353 0.8666666666666667\n"
     ]
    }
   ],
   "source": [
    "result = train_test(X_train, y_train, X_test, y_test, 'nearest_centroid')\n",
    "results.update(result)"
   ]
  },
  {
   "cell_type": "code",
   "execution_count": 21,
   "metadata": {
    "pycharm": {}
   },
   "outputs": [
    {
     "name": "stdout",
     "output_type": "stream",
     "text": [
      "2.816325999999999\n",
      "{'activation': 'logistic', 'alpha': 5e-06, 'early_stopping': True, 'learning_rate': 'constant', 'solver': 'lbfgs'}\n",
      "0.975\n",
      "1.0 0.9333333333333333 1.0 0.9326599326599326\n"
     ]
    }
   ],
   "source": [
    "result = train_test(X_train, y_train, X_test, y_test, 'mlp')\n",
    "results.update(result)"
   ]
  },
  {
   "cell_type": "code",
   "execution_count": 22,
   "metadata": {
    "pycharm": {}
   },
   "outputs": [
    {
     "name": "stdout",
     "output_type": "stream",
     "text": [
      "0.492375\n",
      "{'C': 1.0, 'multi_class': 'crammer_singer', 'penalty': 'l2', 'tol': 0.0001}\n",
      "0.9166666666666666\n",
      "0.9583333333333334 0.9 0.9583268218992551 0.8997493734335841\n"
     ]
    }
   ],
   "source": [
    "result = train_test(X_train, y_train, X_test, y_test, 'linear_svc')\n",
    "results.update(result)"
   ]
  },
  {
   "cell_type": "code",
   "execution_count": 23,
   "metadata": {
    "pycharm": {}
   },
   "outputs": [
    {
     "name": "stdout",
     "output_type": "stream",
     "text": [
      "0.010575999999999475\n",
      "{'criterion': 'gini', 'splitter': 'best'}\n",
      "0.975\n",
      "1.0 0.8666666666666667 1.0 0.8653198653198653\n"
     ]
    }
   ],
   "source": [
    "result = train_test(X_train, y_train, X_test, y_test, 'decision_tree')\n",
    "results.update(result)"
   ]
  },
  {
   "cell_type": "code",
   "execution_count": 24,
   "metadata": {
    "pycharm": {}
   },
   "outputs": [
    {
     "name": "stdout",
     "output_type": "stream",
     "text": [
      "0.011077000000000226\n",
      "{'criterion': 'gini', 'splitter': 'best'}\n",
      "0.9333333333333333\n",
      "1.0 0.8666666666666667 1.0 0.8648287385129492\n"
     ]
    }
   ],
   "source": [
    "result = train_test(X_train, y_train, X_test, y_test, 'extra_tree')\n",
    "results.update(result)"
   ]
  },
  {
   "cell_type": "code",
   "execution_count": 25,
   "metadata": {
    "pycharm": {}
   },
   "outputs": [
    {
     "name": "stdout",
     "output_type": "stream",
     "text": [
      "0.2568919999999997\n",
      "{'criterion': 'friedman_mse', 'learning_rate': 0.4, 'loss': 'deviance', 'tol': 3.3333333333333333e-06}\n",
      "0.975\n",
      "1.0 0.9 1.0 0.8997493734335841\n"
     ]
    }
   ],
   "source": [
    "result = train_test(X_train, y_train, X_test, y_test, 'gradient_boosting')\n",
    "results.update(result)"
   ]
  },
  {
   "cell_type": "code",
   "execution_count": 26,
   "metadata": {
    "pycharm": {}
   },
   "outputs": [
    {
     "name": "stdout",
     "output_type": "stream",
     "text": [
      "1.341927000000001\n",
      "{'l2_regularization': 0, 'tol': 1e-08}\n",
      "0.9666666666666667\n",
      "1.0 0.9333333333333333 1.0 0.9326599326599326\n"
     ]
    }
   ],
   "source": [
    "result = train_test(X_train, y_train, X_test, y_test, 'hist_gradient_boosting')\n",
    "results.update(result)"
   ]
  },
  {
   "cell_type": "code",
   "execution_count": 27,
   "metadata": {
    "pycharm": {}
   },
   "outputs": [],
   "source": [
    "df = pd.DataFrame.from_records(results)"
   ]
  },
  {
   "cell_type": "code",
   "execution_count": 28,
   "metadata": {
    "pycharm": {}
   },
   "outputs": [
    {
     "data": {
      "text/html": [
       "<div>\n",
       "<style scoped>\n",
       "    .dataframe tbody tr th:only-of-type {\n",
       "        vertical-align: middle;\n",
       "    }\n",
       "\n",
       "    .dataframe tbody tr th {\n",
       "        vertical-align: top;\n",
       "    }\n",
       "\n",
       "    .dataframe thead th {\n",
       "        text-align: right;\n",
       "    }\n",
       "</style>\n",
       "<table border=\"1\" class=\"dataframe\">\n",
       "  <thead>\n",
       "    <tr style=\"text-align: right;\">\n",
       "      <th></th>\n",
       "      <th>ada_boost</th>\n",
       "      <th>bagging</th>\n",
       "      <th>bernoulli</th>\n",
       "      <th>decision_tree</th>\n",
       "      <th>extra_tree</th>\n",
       "      <th>extra_trees</th>\n",
       "      <th>gaussian</th>\n",
       "      <th>gradient_boosting</th>\n",
       "      <th>hist_gradient_boosting</th>\n",
       "      <th>k_neighbors</th>\n",
       "      <th>linear_svc</th>\n",
       "      <th>logistic_regression</th>\n",
       "      <th>mlp</th>\n",
       "      <th>nearest_centroid</th>\n",
       "      <th>passive_aggressive</th>\n",
       "      <th>random_forest</th>\n",
       "      <th>ridge</th>\n",
       "      <th>sgd</th>\n",
       "    </tr>\n",
       "  </thead>\n",
       "  <tbody>\n",
       "    <tr>\n",
       "      <th>C</th>\n",
       "      <td>NaN</td>\n",
       "      <td>NaN</td>\n",
       "      <td>NaN</td>\n",
       "      <td>NaN</td>\n",
       "      <td>NaN</td>\n",
       "      <td>NaN</td>\n",
       "      <td>NaN</td>\n",
       "      <td>NaN</td>\n",
       "      <td>NaN</td>\n",
       "      <td>NaN</td>\n",
       "      <td>1</td>\n",
       "      <td>1.1</td>\n",
       "      <td>NaN</td>\n",
       "      <td>NaN</td>\n",
       "      <td>NaN</td>\n",
       "      <td>NaN</td>\n",
       "      <td>NaN</td>\n",
       "      <td>NaN</td>\n",
       "    </tr>\n",
       "    <tr>\n",
       "      <th>activation</th>\n",
       "      <td>NaN</td>\n",
       "      <td>NaN</td>\n",
       "      <td>NaN</td>\n",
       "      <td>NaN</td>\n",
       "      <td>NaN</td>\n",
       "      <td>NaN</td>\n",
       "      <td>NaN</td>\n",
       "      <td>NaN</td>\n",
       "      <td>NaN</td>\n",
       "      <td>NaN</td>\n",
       "      <td>NaN</td>\n",
       "      <td>NaN</td>\n",
       "      <td>logistic</td>\n",
       "      <td>NaN</td>\n",
       "      <td>NaN</td>\n",
       "      <td>NaN</td>\n",
       "      <td>NaN</td>\n",
       "      <td>NaN</td>\n",
       "    </tr>\n",
       "    <tr>\n",
       "      <th>algorithm</th>\n",
       "      <td>SAMME</td>\n",
       "      <td>NaN</td>\n",
       "      <td>NaN</td>\n",
       "      <td>NaN</td>\n",
       "      <td>NaN</td>\n",
       "      <td>NaN</td>\n",
       "      <td>NaN</td>\n",
       "      <td>NaN</td>\n",
       "      <td>NaN</td>\n",
       "      <td>ball_tree</td>\n",
       "      <td>NaN</td>\n",
       "      <td>NaN</td>\n",
       "      <td>NaN</td>\n",
       "      <td>NaN</td>\n",
       "      <td>NaN</td>\n",
       "      <td>NaN</td>\n",
       "      <td>NaN</td>\n",
       "      <td>NaN</td>\n",
       "    </tr>\n",
       "    <tr>\n",
       "      <th>alpha</th>\n",
       "      <td>NaN</td>\n",
       "      <td>NaN</td>\n",
       "      <td>0.100000</td>\n",
       "      <td>NaN</td>\n",
       "      <td>NaN</td>\n",
       "      <td>NaN</td>\n",
       "      <td>NaN</td>\n",
       "      <td>NaN</td>\n",
       "      <td>NaN</td>\n",
       "      <td>NaN</td>\n",
       "      <td>NaN</td>\n",
       "      <td>NaN</td>\n",
       "      <td>5e-06</td>\n",
       "      <td>NaN</td>\n",
       "      <td>NaN</td>\n",
       "      <td>NaN</td>\n",
       "      <td>0.800000</td>\n",
       "      <td>0.0009</td>\n",
       "    </tr>\n",
       "    <tr>\n",
       "      <th>bootstrap_features</th>\n",
       "      <td>NaN</td>\n",
       "      <td>1.000000</td>\n",
       "      <td>NaN</td>\n",
       "      <td>NaN</td>\n",
       "      <td>NaN</td>\n",
       "      <td>NaN</td>\n",
       "      <td>NaN</td>\n",
       "      <td>NaN</td>\n",
       "      <td>NaN</td>\n",
       "      <td>NaN</td>\n",
       "      <td>NaN</td>\n",
       "      <td>NaN</td>\n",
       "      <td>NaN</td>\n",
       "      <td>NaN</td>\n",
       "      <td>NaN</td>\n",
       "      <td>NaN</td>\n",
       "      <td>NaN</td>\n",
       "      <td>NaN</td>\n",
       "    </tr>\n",
       "    <tr>\n",
       "      <th>criterion</th>\n",
       "      <td>NaN</td>\n",
       "      <td>NaN</td>\n",
       "      <td>NaN</td>\n",
       "      <td>gini</td>\n",
       "      <td>gini</td>\n",
       "      <td>gini</td>\n",
       "      <td>NaN</td>\n",
       "      <td>friedman_mse</td>\n",
       "      <td>NaN</td>\n",
       "      <td>NaN</td>\n",
       "      <td>NaN</td>\n",
       "      <td>NaN</td>\n",
       "      <td>NaN</td>\n",
       "      <td>NaN</td>\n",
       "      <td>NaN</td>\n",
       "      <td>gini</td>\n",
       "      <td>NaN</td>\n",
       "      <td>NaN</td>\n",
       "    </tr>\n",
       "    <tr>\n",
       "      <th>early_stopping</th>\n",
       "      <td>NaN</td>\n",
       "      <td>NaN</td>\n",
       "      <td>NaN</td>\n",
       "      <td>NaN</td>\n",
       "      <td>NaN</td>\n",
       "      <td>NaN</td>\n",
       "      <td>NaN</td>\n",
       "      <td>NaN</td>\n",
       "      <td>NaN</td>\n",
       "      <td>NaN</td>\n",
       "      <td>NaN</td>\n",
       "      <td>NaN</td>\n",
       "      <td>True</td>\n",
       "      <td>NaN</td>\n",
       "      <td>False</td>\n",
       "      <td>NaN</td>\n",
       "      <td>NaN</td>\n",
       "      <td>NaN</td>\n",
       "    </tr>\n",
       "    <tr>\n",
       "      <th>f1_test</th>\n",
       "      <td>0.93266</td>\n",
       "      <td>0.933333</td>\n",
       "      <td>0.231546</td>\n",
       "      <td>0.86532</td>\n",
       "      <td>0.864829</td>\n",
       "      <td>0.899749</td>\n",
       "      <td>8.997494e-01</td>\n",
       "      <td>0.899749</td>\n",
       "      <td>9.326599e-01</td>\n",
       "      <td>0.899749</td>\n",
       "      <td>0.899749</td>\n",
       "      <td>0.832916</td>\n",
       "      <td>0.93266</td>\n",
       "      <td>0.866667</td>\n",
       "      <td>0.899749</td>\n",
       "      <td>0.899749</td>\n",
       "      <td>0.761296</td>\n",
       "      <td>1</td>\n",
       "    </tr>\n",
       "    <tr>\n",
       "      <th>f1_train</th>\n",
       "      <td>0.983333</td>\n",
       "      <td>1.000000</td>\n",
       "      <td>0.277509</td>\n",
       "      <td>1</td>\n",
       "      <td>1</td>\n",
       "      <td>1</td>\n",
       "      <td>9.749961e-01</td>\n",
       "      <td>1</td>\n",
       "      <td>1.000000e+00</td>\n",
       "      <td>0.966646</td>\n",
       "      <td>0.958327</td>\n",
       "      <td>0.915825</td>\n",
       "      <td>1</td>\n",
       "      <td>0.949969</td>\n",
       "      <td>0.941854</td>\n",
       "      <td>1</td>\n",
       "      <td>0.874257</td>\n",
       "      <td>0.983333</td>\n",
       "    </tr>\n",
       "    <tr>\n",
       "      <th>l2_regularization</th>\n",
       "      <td>NaN</td>\n",
       "      <td>NaN</td>\n",
       "      <td>NaN</td>\n",
       "      <td>NaN</td>\n",
       "      <td>NaN</td>\n",
       "      <td>NaN</td>\n",
       "      <td>NaN</td>\n",
       "      <td>NaN</td>\n",
       "      <td>0.000000e+00</td>\n",
       "      <td>NaN</td>\n",
       "      <td>NaN</td>\n",
       "      <td>NaN</td>\n",
       "      <td>NaN</td>\n",
       "      <td>NaN</td>\n",
       "      <td>NaN</td>\n",
       "      <td>NaN</td>\n",
       "      <td>NaN</td>\n",
       "      <td>NaN</td>\n",
       "    </tr>\n",
       "    <tr>\n",
       "      <th>learning_rate</th>\n",
       "      <td>0.3</td>\n",
       "      <td>NaN</td>\n",
       "      <td>NaN</td>\n",
       "      <td>NaN</td>\n",
       "      <td>NaN</td>\n",
       "      <td>NaN</td>\n",
       "      <td>NaN</td>\n",
       "      <td>0.4</td>\n",
       "      <td>NaN</td>\n",
       "      <td>NaN</td>\n",
       "      <td>NaN</td>\n",
       "      <td>NaN</td>\n",
       "      <td>constant</td>\n",
       "      <td>NaN</td>\n",
       "      <td>NaN</td>\n",
       "      <td>NaN</td>\n",
       "      <td>NaN</td>\n",
       "      <td>NaN</td>\n",
       "    </tr>\n",
       "    <tr>\n",
       "      <th>loss</th>\n",
       "      <td>NaN</td>\n",
       "      <td>NaN</td>\n",
       "      <td>NaN</td>\n",
       "      <td>NaN</td>\n",
       "      <td>NaN</td>\n",
       "      <td>NaN</td>\n",
       "      <td>NaN</td>\n",
       "      <td>deviance</td>\n",
       "      <td>NaN</td>\n",
       "      <td>NaN</td>\n",
       "      <td>NaN</td>\n",
       "      <td>NaN</td>\n",
       "      <td>NaN</td>\n",
       "      <td>NaN</td>\n",
       "      <td>hinge</td>\n",
       "      <td>NaN</td>\n",
       "      <td>NaN</td>\n",
       "      <td>squared_hinge</td>\n",
       "    </tr>\n",
       "    <tr>\n",
       "      <th>metric</th>\n",
       "      <td>NaN</td>\n",
       "      <td>NaN</td>\n",
       "      <td>NaN</td>\n",
       "      <td>NaN</td>\n",
       "      <td>NaN</td>\n",
       "      <td>NaN</td>\n",
       "      <td>NaN</td>\n",
       "      <td>NaN</td>\n",
       "      <td>NaN</td>\n",
       "      <td>NaN</td>\n",
       "      <td>NaN</td>\n",
       "      <td>NaN</td>\n",
       "      <td>NaN</td>\n",
       "      <td>manhattan</td>\n",
       "      <td>NaN</td>\n",
       "      <td>NaN</td>\n",
       "      <td>NaN</td>\n",
       "      <td>NaN</td>\n",
       "    </tr>\n",
       "    <tr>\n",
       "      <th>multi_class</th>\n",
       "      <td>NaN</td>\n",
       "      <td>NaN</td>\n",
       "      <td>NaN</td>\n",
       "      <td>NaN</td>\n",
       "      <td>NaN</td>\n",
       "      <td>NaN</td>\n",
       "      <td>NaN</td>\n",
       "      <td>NaN</td>\n",
       "      <td>NaN</td>\n",
       "      <td>NaN</td>\n",
       "      <td>crammer_singer</td>\n",
       "      <td>NaN</td>\n",
       "      <td>NaN</td>\n",
       "      <td>NaN</td>\n",
       "      <td>NaN</td>\n",
       "      <td>NaN</td>\n",
       "      <td>NaN</td>\n",
       "      <td>NaN</td>\n",
       "    </tr>\n",
       "    <tr>\n",
       "      <th>n_estimators</th>\n",
       "      <td>40</td>\n",
       "      <td>10.000000</td>\n",
       "      <td>NaN</td>\n",
       "      <td>NaN</td>\n",
       "      <td>NaN</td>\n",
       "      <td>20</td>\n",
       "      <td>NaN</td>\n",
       "      <td>NaN</td>\n",
       "      <td>NaN</td>\n",
       "      <td>NaN</td>\n",
       "      <td>NaN</td>\n",
       "      <td>NaN</td>\n",
       "      <td>NaN</td>\n",
       "      <td>NaN</td>\n",
       "      <td>NaN</td>\n",
       "      <td>5</td>\n",
       "      <td>NaN</td>\n",
       "      <td>NaN</td>\n",
       "    </tr>\n",
       "    <tr>\n",
       "      <th>n_neighbors</th>\n",
       "      <td>NaN</td>\n",
       "      <td>NaN</td>\n",
       "      <td>NaN</td>\n",
       "      <td>NaN</td>\n",
       "      <td>NaN</td>\n",
       "      <td>NaN</td>\n",
       "      <td>NaN</td>\n",
       "      <td>NaN</td>\n",
       "      <td>NaN</td>\n",
       "      <td>3</td>\n",
       "      <td>NaN</td>\n",
       "      <td>NaN</td>\n",
       "      <td>NaN</td>\n",
       "      <td>NaN</td>\n",
       "      <td>NaN</td>\n",
       "      <td>NaN</td>\n",
       "      <td>NaN</td>\n",
       "      <td>NaN</td>\n",
       "    </tr>\n",
       "    <tr>\n",
       "      <th>oob_score</th>\n",
       "      <td>NaN</td>\n",
       "      <td>NaN</td>\n",
       "      <td>NaN</td>\n",
       "      <td>NaN</td>\n",
       "      <td>NaN</td>\n",
       "      <td>NaN</td>\n",
       "      <td>NaN</td>\n",
       "      <td>NaN</td>\n",
       "      <td>NaN</td>\n",
       "      <td>NaN</td>\n",
       "      <td>NaN</td>\n",
       "      <td>NaN</td>\n",
       "      <td>NaN</td>\n",
       "      <td>NaN</td>\n",
       "      <td>NaN</td>\n",
       "      <td>0</td>\n",
       "      <td>NaN</td>\n",
       "      <td>NaN</td>\n",
       "    </tr>\n",
       "    <tr>\n",
       "      <th>p</th>\n",
       "      <td>NaN</td>\n",
       "      <td>NaN</td>\n",
       "      <td>NaN</td>\n",
       "      <td>NaN</td>\n",
       "      <td>NaN</td>\n",
       "      <td>NaN</td>\n",
       "      <td>NaN</td>\n",
       "      <td>NaN</td>\n",
       "      <td>NaN</td>\n",
       "      <td>2</td>\n",
       "      <td>NaN</td>\n",
       "      <td>NaN</td>\n",
       "      <td>NaN</td>\n",
       "      <td>NaN</td>\n",
       "      <td>NaN</td>\n",
       "      <td>NaN</td>\n",
       "      <td>NaN</td>\n",
       "      <td>NaN</td>\n",
       "    </tr>\n",
       "    <tr>\n",
       "      <th>penalty</th>\n",
       "      <td>NaN</td>\n",
       "      <td>NaN</td>\n",
       "      <td>NaN</td>\n",
       "      <td>NaN</td>\n",
       "      <td>NaN</td>\n",
       "      <td>NaN</td>\n",
       "      <td>NaN</td>\n",
       "      <td>NaN</td>\n",
       "      <td>NaN</td>\n",
       "      <td>NaN</td>\n",
       "      <td>l2</td>\n",
       "      <td>NaN</td>\n",
       "      <td>NaN</td>\n",
       "      <td>NaN</td>\n",
       "      <td>NaN</td>\n",
       "      <td>NaN</td>\n",
       "      <td>NaN</td>\n",
       "      <td>elasticnet</td>\n",
       "    </tr>\n",
       "    <tr>\n",
       "      <th>solver</th>\n",
       "      <td>NaN</td>\n",
       "      <td>NaN</td>\n",
       "      <td>NaN</td>\n",
       "      <td>NaN</td>\n",
       "      <td>NaN</td>\n",
       "      <td>NaN</td>\n",
       "      <td>NaN</td>\n",
       "      <td>NaN</td>\n",
       "      <td>NaN</td>\n",
       "      <td>NaN</td>\n",
       "      <td>NaN</td>\n",
       "      <td>newton-cg</td>\n",
       "      <td>lbfgs</td>\n",
       "      <td>NaN</td>\n",
       "      <td>NaN</td>\n",
       "      <td>NaN</td>\n",
       "      <td>NaN</td>\n",
       "      <td>NaN</td>\n",
       "    </tr>\n",
       "    <tr>\n",
       "      <th>splitter</th>\n",
       "      <td>NaN</td>\n",
       "      <td>NaN</td>\n",
       "      <td>NaN</td>\n",
       "      <td>best</td>\n",
       "      <td>best</td>\n",
       "      <td>NaN</td>\n",
       "      <td>NaN</td>\n",
       "      <td>NaN</td>\n",
       "      <td>NaN</td>\n",
       "      <td>NaN</td>\n",
       "      <td>NaN</td>\n",
       "      <td>NaN</td>\n",
       "      <td>NaN</td>\n",
       "      <td>NaN</td>\n",
       "      <td>NaN</td>\n",
       "      <td>NaN</td>\n",
       "      <td>NaN</td>\n",
       "      <td>NaN</td>\n",
       "    </tr>\n",
       "    <tr>\n",
       "      <th>test</th>\n",
       "      <td>0.933333</td>\n",
       "      <td>0.933333</td>\n",
       "      <td>0.366667</td>\n",
       "      <td>0.866667</td>\n",
       "      <td>0.866667</td>\n",
       "      <td>0.9</td>\n",
       "      <td>9.000000e-01</td>\n",
       "      <td>0.9</td>\n",
       "      <td>9.333333e-01</td>\n",
       "      <td>0.9</td>\n",
       "      <td>0.9</td>\n",
       "      <td>0.833333</td>\n",
       "      <td>0.933333</td>\n",
       "      <td>0.866667</td>\n",
       "      <td>0.9</td>\n",
       "      <td>0.9</td>\n",
       "      <td>0.766667</td>\n",
       "      <td>1</td>\n",
       "    </tr>\n",
       "    <tr>\n",
       "      <th>tol</th>\n",
       "      <td>NaN</td>\n",
       "      <td>NaN</td>\n",
       "      <td>NaN</td>\n",
       "      <td>NaN</td>\n",
       "      <td>NaN</td>\n",
       "      <td>NaN</td>\n",
       "      <td>NaN</td>\n",
       "      <td>3.33333e-06</td>\n",
       "      <td>1.000000e-08</td>\n",
       "      <td>NaN</td>\n",
       "      <td>0.0001</td>\n",
       "      <td>0.0001</td>\n",
       "      <td>NaN</td>\n",
       "      <td>NaN</td>\n",
       "      <td>2e-05</td>\n",
       "      <td>NaN</td>\n",
       "      <td>0.000100</td>\n",
       "      <td>1.42857e-05</td>\n",
       "    </tr>\n",
       "    <tr>\n",
       "      <th>tr_time</th>\n",
       "      <td>0.250301</td>\n",
       "      <td>0.031318</td>\n",
       "      <td>0.017158</td>\n",
       "      <td>0.010576</td>\n",
       "      <td>0.011077</td>\n",
       "      <td>0.052262</td>\n",
       "      <td>1.626900e-02</td>\n",
       "      <td>0.256892</td>\n",
       "      <td>1.341927e+00</td>\n",
       "      <td>0.051042</td>\n",
       "      <td>0.492375</td>\n",
       "      <td>0.539447</td>\n",
       "      <td>2.81633</td>\n",
       "      <td>0.007665</td>\n",
       "      <td>0.37298</td>\n",
       "      <td>0.085802</td>\n",
       "      <td>0.088107</td>\n",
       "      <td>0.758525</td>\n",
       "    </tr>\n",
       "    <tr>\n",
       "      <th>train</th>\n",
       "      <td>0.983333</td>\n",
       "      <td>1.000000</td>\n",
       "      <td>0.391667</td>\n",
       "      <td>1</td>\n",
       "      <td>1</td>\n",
       "      <td>1</td>\n",
       "      <td>9.750000e-01</td>\n",
       "      <td>1</td>\n",
       "      <td>1.000000e+00</td>\n",
       "      <td>0.966667</td>\n",
       "      <td>0.958333</td>\n",
       "      <td>0.916667</td>\n",
       "      <td>1</td>\n",
       "      <td>0.95</td>\n",
       "      <td>0.941667</td>\n",
       "      <td>1</td>\n",
       "      <td>0.875000</td>\n",
       "      <td>0.983333</td>\n",
       "    </tr>\n",
       "    <tr>\n",
       "      <th>var_smoothing</th>\n",
       "      <td>NaN</td>\n",
       "      <td>NaN</td>\n",
       "      <td>NaN</td>\n",
       "      <td>NaN</td>\n",
       "      <td>NaN</td>\n",
       "      <td>NaN</td>\n",
       "      <td>1.000000e-10</td>\n",
       "      <td>NaN</td>\n",
       "      <td>NaN</td>\n",
       "      <td>NaN</td>\n",
       "      <td>NaN</td>\n",
       "      <td>NaN</td>\n",
       "      <td>NaN</td>\n",
       "      <td>NaN</td>\n",
       "      <td>NaN</td>\n",
       "      <td>NaN</td>\n",
       "      <td>NaN</td>\n",
       "      <td>NaN</td>\n",
       "    </tr>\n",
       "    <tr>\n",
       "      <th>warm_start</th>\n",
       "      <td>NaN</td>\n",
       "      <td>NaN</td>\n",
       "      <td>NaN</td>\n",
       "      <td>NaN</td>\n",
       "      <td>NaN</td>\n",
       "      <td>0</td>\n",
       "      <td>NaN</td>\n",
       "      <td>NaN</td>\n",
       "      <td>NaN</td>\n",
       "      <td>NaN</td>\n",
       "      <td>NaN</td>\n",
       "      <td>NaN</td>\n",
       "      <td>NaN</td>\n",
       "      <td>NaN</td>\n",
       "      <td>0</td>\n",
       "      <td>0</td>\n",
       "      <td>NaN</td>\n",
       "      <td>NaN</td>\n",
       "    </tr>\n",
       "    <tr>\n",
       "      <th>weights</th>\n",
       "      <td>NaN</td>\n",
       "      <td>NaN</td>\n",
       "      <td>NaN</td>\n",
       "      <td>NaN</td>\n",
       "      <td>NaN</td>\n",
       "      <td>NaN</td>\n",
       "      <td>NaN</td>\n",
       "      <td>NaN</td>\n",
       "      <td>NaN</td>\n",
       "      <td>uniform</td>\n",
       "      <td>NaN</td>\n",
       "      <td>NaN</td>\n",
       "      <td>NaN</td>\n",
       "      <td>NaN</td>\n",
       "      <td>NaN</td>\n",
       "      <td>NaN</td>\n",
       "      <td>NaN</td>\n",
       "      <td>NaN</td>\n",
       "    </tr>\n",
       "  </tbody>\n",
       "</table>\n",
       "</div>"
      ],
      "text/plain": [
       "                   ada_boost    bagging  bernoulli decision_tree extra_tree  \\\n",
       "C                        NaN        NaN        NaN           NaN        NaN   \n",
       "activation               NaN        NaN        NaN           NaN        NaN   \n",
       "algorithm              SAMME        NaN        NaN           NaN        NaN   \n",
       "alpha                    NaN        NaN   0.100000           NaN        NaN   \n",
       "bootstrap_features       NaN   1.000000        NaN           NaN        NaN   \n",
       "criterion                NaN        NaN        NaN          gini       gini   \n",
       "early_stopping           NaN        NaN        NaN           NaN        NaN   \n",
       "f1_test              0.93266   0.933333   0.231546       0.86532   0.864829   \n",
       "f1_train            0.983333   1.000000   0.277509             1          1   \n",
       "l2_regularization        NaN        NaN        NaN           NaN        NaN   \n",
       "learning_rate            0.3        NaN        NaN           NaN        NaN   \n",
       "loss                     NaN        NaN        NaN           NaN        NaN   \n",
       "metric                   NaN        NaN        NaN           NaN        NaN   \n",
       "multi_class              NaN        NaN        NaN           NaN        NaN   \n",
       "n_estimators              40  10.000000        NaN           NaN        NaN   \n",
       "n_neighbors              NaN        NaN        NaN           NaN        NaN   \n",
       "oob_score                NaN        NaN        NaN           NaN        NaN   \n",
       "p                        NaN        NaN        NaN           NaN        NaN   \n",
       "penalty                  NaN        NaN        NaN           NaN        NaN   \n",
       "solver                   NaN        NaN        NaN           NaN        NaN   \n",
       "splitter                 NaN        NaN        NaN          best       best   \n",
       "test                0.933333   0.933333   0.366667      0.866667   0.866667   \n",
       "tol                      NaN        NaN        NaN           NaN        NaN   \n",
       "tr_time             0.250301   0.031318   0.017158      0.010576   0.011077   \n",
       "train               0.983333   1.000000   0.391667             1          1   \n",
       "var_smoothing            NaN        NaN        NaN           NaN        NaN   \n",
       "warm_start               NaN        NaN        NaN           NaN        NaN   \n",
       "weights                  NaN        NaN        NaN           NaN        NaN   \n",
       "\n",
       "                   extra_trees      gaussian gradient_boosting  \\\n",
       "C                          NaN           NaN               NaN   \n",
       "activation                 NaN           NaN               NaN   \n",
       "algorithm                  NaN           NaN               NaN   \n",
       "alpha                      NaN           NaN               NaN   \n",
       "bootstrap_features         NaN           NaN               NaN   \n",
       "criterion                 gini           NaN      friedman_mse   \n",
       "early_stopping             NaN           NaN               NaN   \n",
       "f1_test               0.899749  8.997494e-01          0.899749   \n",
       "f1_train                     1  9.749961e-01                 1   \n",
       "l2_regularization          NaN           NaN               NaN   \n",
       "learning_rate              NaN           NaN               0.4   \n",
       "loss                       NaN           NaN          deviance   \n",
       "metric                     NaN           NaN               NaN   \n",
       "multi_class                NaN           NaN               NaN   \n",
       "n_estimators                20           NaN               NaN   \n",
       "n_neighbors                NaN           NaN               NaN   \n",
       "oob_score                  NaN           NaN               NaN   \n",
       "p                          NaN           NaN               NaN   \n",
       "penalty                    NaN           NaN               NaN   \n",
       "solver                     NaN           NaN               NaN   \n",
       "splitter                   NaN           NaN               NaN   \n",
       "test                       0.9  9.000000e-01               0.9   \n",
       "tol                        NaN           NaN       3.33333e-06   \n",
       "tr_time               0.052262  1.626900e-02          0.256892   \n",
       "train                        1  9.750000e-01                 1   \n",
       "var_smoothing              NaN  1.000000e-10               NaN   \n",
       "warm_start                   0           NaN               NaN   \n",
       "weights                    NaN           NaN               NaN   \n",
       "\n",
       "                    hist_gradient_boosting k_neighbors      linear_svc  \\\n",
       "C                                      NaN         NaN               1   \n",
       "activation                             NaN         NaN             NaN   \n",
       "algorithm                              NaN   ball_tree             NaN   \n",
       "alpha                                  NaN         NaN             NaN   \n",
       "bootstrap_features                     NaN         NaN             NaN   \n",
       "criterion                              NaN         NaN             NaN   \n",
       "early_stopping                         NaN         NaN             NaN   \n",
       "f1_test                       9.326599e-01    0.899749        0.899749   \n",
       "f1_train                      1.000000e+00    0.966646        0.958327   \n",
       "l2_regularization             0.000000e+00         NaN             NaN   \n",
       "learning_rate                          NaN         NaN             NaN   \n",
       "loss                                   NaN         NaN             NaN   \n",
       "metric                                 NaN         NaN             NaN   \n",
       "multi_class                            NaN         NaN  crammer_singer   \n",
       "n_estimators                           NaN         NaN             NaN   \n",
       "n_neighbors                            NaN           3             NaN   \n",
       "oob_score                              NaN         NaN             NaN   \n",
       "p                                      NaN           2             NaN   \n",
       "penalty                                NaN         NaN              l2   \n",
       "solver                                 NaN         NaN             NaN   \n",
       "splitter                               NaN         NaN             NaN   \n",
       "test                          9.333333e-01         0.9             0.9   \n",
       "tol                           1.000000e-08         NaN          0.0001   \n",
       "tr_time                       1.341927e+00    0.051042        0.492375   \n",
       "train                         1.000000e+00    0.966667        0.958333   \n",
       "var_smoothing                          NaN         NaN             NaN   \n",
       "warm_start                             NaN         NaN             NaN   \n",
       "weights                                NaN     uniform             NaN   \n",
       "\n",
       "                   logistic_regression       mlp nearest_centroid  \\\n",
       "C                                  1.1       NaN              NaN   \n",
       "activation                         NaN  logistic              NaN   \n",
       "algorithm                          NaN       NaN              NaN   \n",
       "alpha                              NaN     5e-06              NaN   \n",
       "bootstrap_features                 NaN       NaN              NaN   \n",
       "criterion                          NaN       NaN              NaN   \n",
       "early_stopping                     NaN      True              NaN   \n",
       "f1_test                       0.832916   0.93266         0.866667   \n",
       "f1_train                      0.915825         1         0.949969   \n",
       "l2_regularization                  NaN       NaN              NaN   \n",
       "learning_rate                      NaN  constant              NaN   \n",
       "loss                               NaN       NaN              NaN   \n",
       "metric                             NaN       NaN        manhattan   \n",
       "multi_class                        NaN       NaN              NaN   \n",
       "n_estimators                       NaN       NaN              NaN   \n",
       "n_neighbors                        NaN       NaN              NaN   \n",
       "oob_score                          NaN       NaN              NaN   \n",
       "p                                  NaN       NaN              NaN   \n",
       "penalty                            NaN       NaN              NaN   \n",
       "solver                       newton-cg     lbfgs              NaN   \n",
       "splitter                           NaN       NaN              NaN   \n",
       "test                          0.833333  0.933333         0.866667   \n",
       "tol                             0.0001       NaN              NaN   \n",
       "tr_time                       0.539447   2.81633         0.007665   \n",
       "train                         0.916667         1             0.95   \n",
       "var_smoothing                      NaN       NaN              NaN   \n",
       "warm_start                         NaN       NaN              NaN   \n",
       "weights                            NaN       NaN              NaN   \n",
       "\n",
       "                   passive_aggressive random_forest     ridge            sgd  \n",
       "C                                 NaN           NaN       NaN            NaN  \n",
       "activation                        NaN           NaN       NaN            NaN  \n",
       "algorithm                         NaN           NaN       NaN            NaN  \n",
       "alpha                             NaN           NaN  0.800000         0.0009  \n",
       "bootstrap_features                NaN           NaN       NaN            NaN  \n",
       "criterion                         NaN          gini       NaN            NaN  \n",
       "early_stopping                  False           NaN       NaN            NaN  \n",
       "f1_test                      0.899749      0.899749  0.761296              1  \n",
       "f1_train                     0.941854             1  0.874257       0.983333  \n",
       "l2_regularization                 NaN           NaN       NaN            NaN  \n",
       "learning_rate                     NaN           NaN       NaN            NaN  \n",
       "loss                            hinge           NaN       NaN  squared_hinge  \n",
       "metric                            NaN           NaN       NaN            NaN  \n",
       "multi_class                       NaN           NaN       NaN            NaN  \n",
       "n_estimators                      NaN             5       NaN            NaN  \n",
       "n_neighbors                       NaN           NaN       NaN            NaN  \n",
       "oob_score                         NaN             0       NaN            NaN  \n",
       "p                                 NaN           NaN       NaN            NaN  \n",
       "penalty                           NaN           NaN       NaN     elasticnet  \n",
       "solver                            NaN           NaN       NaN            NaN  \n",
       "splitter                          NaN           NaN       NaN            NaN  \n",
       "test                              0.9           0.9  0.766667              1  \n",
       "tol                             2e-05           NaN  0.000100    1.42857e-05  \n",
       "tr_time                       0.37298      0.085802  0.088107       0.758525  \n",
       "train                        0.941667             1  0.875000       0.983333  \n",
       "var_smoothing                     NaN           NaN       NaN            NaN  \n",
       "warm_start                          0             0       NaN            NaN  \n",
       "weights                           NaN           NaN       NaN            NaN  "
      ]
     },
     "execution_count": 28,
     "metadata": {},
     "output_type": "execute_result"
    }
   ],
   "source": [
    "df"
   ]
  },
  {
   "cell_type": "code",
   "execution_count": 29,
   "metadata": {
    "pycharm": {}
   },
   "outputs": [],
   "source": [
    "df.to_csv(result_path)"
   ]
  }
 ],
 "metadata": {
  "kernelspec": {
   "display_name": "Python 3",
   "language": "python",
   "name": "python3"
  },
  "language_info": {
   "codemirror_mode": {
    "name": "ipython",
    "version": 3
   },
   "file_extension": ".py",
   "mimetype": "text/x-python",
   "name": "python",
   "nbconvert_exporter": "python",
   "pygments_lexer": "ipython3",
   "version": "3.6.7"
  }
 },
 "nbformat": 4,
 "nbformat_minor": 1
}
